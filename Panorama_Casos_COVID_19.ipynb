{
  "nbformat": 4,
  "nbformat_minor": 0,
  "metadata": {
    "colab": {
      "provenance": [],
      "include_colab_link": true
    },
    "kernelspec": {
      "name": "python3",
      "display_name": "Python 3"
    }
  },
  "cells": [
    {
      "cell_type": "markdown",
      "metadata": {
        "id": "view-in-github",
        "colab_type": "text"
      },
      "source": [
        "<a href=\"https://colab.research.google.com/github/AAndreo/Estudo.Casos.Covid19/blob/main/Panorama_Casos_COVID_19.ipynb\" target=\"_parent\"><img src=\"https://colab.research.google.com/assets/colab-badge.svg\" alt=\"Open In Colab\"/></a>"
      ]
    },
    {
      "cell_type": "markdown",
      "metadata": {
        "id": "kLI0gJtzDGuQ"
      },
      "source": [
        "# Panorama de casos de COVID-19\n",
        "\n",
        "O coronavírus (COVID-19) é uma doença infecciosa causada pelo vírus SARS-CoV-2.\n",
        "A maioria das pessoas que adoece em decorrência da COVID-19 apresenta sintomas leves a moderados e se recupera sem tratamento especial. No entanto, algumas desenvolvem um quadro grave e precisam de atendimento médico.\n",
        "\n",
        "# Como ela se espalha\n",
        "O vírus pode se espalhar pela boca ou pelo nariz de uma pessoa infectada, em pequenas partículas líquidas expelidas quando elas tossem, espirram, falam, cantam ou respiram. O tamanho dessas partículas vai de gotas respiratórias maiores até aerosois menores.\n",
        "A infecção pode ocorrer caso você inale o vírus quando estiver perto de alguém que tenha COVID-19 ou se você tocar em uma superfície contaminada e, em seguida, passar as mãos nos olhos, no nariz ou na boca. O vírus se espalha com mais facilidade em locais fechados e em multidões.\n",
        "\n",
        "<center><img alt=\"Colaboratory logo\" width=\"50%\" src=\"https://raw.githubusercontent.com/AAndreo/data-science/main/img/Fight.jpg\"></center>\n",
        "\n",
        "<a href=\"https://br.freepik.com/fotos-vetores-gratis/vacina-desenho\">Vacina desenho vetor criado por jcomp - br.freepik.com</a>\n",
        "\n",
        "O objetivo desse artigo, é mostrar a situação dessa doença no Brasil, realizando uma análise sobre os dados públicos disponíveis sobre ela.\n"
      ]
    },
    {
      "cell_type": "markdown",
      "metadata": {
        "id": "0zxQHhIUDF_2"
      },
      "source": [
        "##*Os dados que você encontra aqui e suas respectivas fontes*\n",
        "\n",
        "A fonte de pesquisa que iremos utilizar foi retirada do site [Our World in Data](https://ourworldindata.org/coronavirus) (Nosso mundo em dados), projeto do Global Change Data Lab, uma organização sem fins lucrativos com sede no Reino Unido de pesquisa e dados para avançar contra os maiores problemas do mundo.\n",
        "\n",
        "Nosso dataset foi dividido na seguinte estrutura:\n",
        "\n",
        "*   **Casos e mortes confirmados:** os dados são provenientes do Repositório de Dados COVID-19 do Centro de Ciência e Engenharia de Sistemas (CSSE) da Universidade Johns Hopkins (JHU).\n",
        "> **Nota:** Os casos confirmados e óbitos são coletados pela Universidade Johns Hopkins pela data do relatório, e não pela data do teste/óbito. Assim, o número que notificam num determinado dia não representa necessariamente o número real nessa data, devido à longa cadeia de notificação que existe entre um novo caso/óbito e a sua inclusão nas estatísticas. Isso também significa que as séries temporais podem apresentar mudanças bruscas (negativas ou positivas) quando um país corrige dados históricos, por ter subestimado ou superestimado anteriormente o número de casos/mortes.\n",
        "\n",
        "*   **Internações e internações em unidades de terapia intensiva (UTI):** os dados são coletados de fontes oficiais e compilados pelo Our World in Data. A lista completa de fontes por país está disponível [aqui](https://github.com/owid/covid-19-data/discussions/2667).\n",
        "\n",
        "*   **Testes para COVID-19:** esses dados são coletados pela equipe Our World in Data a partir de relatórios oficiais. Mais detalhes em nossa postagem sobre testes COVID-19, incluindo nossa lista de verificação de perguntas para entender os dados dos testes, informações sobre cobertura geográfica e temporal e informações detalhadas de origem por país, você pode ler mais [aqui](https://github.com/owid/covid-19-data/discussions/2667).\n",
        "\n",
        "*   **Vacinas contra o COVID-19:** esses dados são coletados pela equipe Our World in Data a partir de relatórios oficiais.\n",
        "\n",
        "*   **Outras variáveis:** esses dados são coletados de várias fontes (Nações Unidas, Banco Mundial, Global Burden of Disease, Blavatnik School of Government, etc.).\n",
        "\n",
        "*Desde 29 de março de 2022, os dados de vacinação não são mais atualizados diariamente. As atualizações agora são apenas durante a semana (segunda a sexta).*\n",
        "\n",
        "### Dicionário de Variáveis\n",
        "* O arquivo .csv utilizado nessa pesquisa possui a seguinte estrutura divida por categoria:"
      ]
    },
    {
      "cell_type": "markdown",
      "source": [
        "### Casos Confirmados\n",
        "| Variável           | Descrição                                                                                                                                                                                                         |\n",
        "|:-------------------|:--------------------------------------------------------------------------------------------------------------------------------------------------------------------------------------------------------------------|\n",
        "| `total_cases`                    | Total de casos confirmados de  COVID-19                                     |\n",
        "| `new_cases`                      | Novos casos confirmados de COVID-19                                       |\n",
        "| `new_cases_smoothed`             | Novos casos confirmados de COVID-19 (7-dias com tratamento de dados)                      |\n",
        "| `total_cases_per_million`        | Total de casos confirmados de COVID-19 por 1.000.000 pessoas                |\n",
        "| `new_cases_per_million`          | Novos casos confirmados de COVID-19 por 1.000.000 pessoas                  |\n",
        "| `new_cases_smoothed_per_million` | Novos casos confirmados de COVID-19 (7-dias com tratamento de dados) por 1.000.000 pessoas |"
      ],
      "metadata": {
        "id": "aeeQBejqWBHs"
      }
    },
    {
      "cell_type": "markdown",
      "source": [
        "### Mortes Confirmadas\n",
        "| Variável           | Descrição                                                                                                                                                                                                         |\n",
        "|:-------------------|:--------------------------------------------------------------------------------------------------------------------------------------------------------------------------------------------------------------------|\n",
        "| `total_deaths`                    | Total de mortes atribuidas ao COVID-19                                     |\n",
        "| `new_deaths`                      | Novas mortes atribuidas ao COVID-19                                       |\n",
        "| `new_deaths_smoothed`             | Novas mortes atribuidas ao COVID-19 (7-dias com tratamento de dados)                      |\n",
        "| `total_deaths_per_million`        | Total de mortes atribuidas ao COVID-19 por 1.000.000 pessoas               |\n",
        "| `new_deaths_per_million`          | Novas mortes atribuidas ao COVID-19 por 1.000.000 pessoas                  |\n",
        "| `new_deaths_smoothed_per_million` | Novas mortes atribuidas ao COVID-19 (7-dias com tratamento de dados) por 1.000.000 pessoas |"
      ],
      "metadata": {
        "id": "7YU4OVr1WJin"
      }
    },
    {
      "cell_type": "markdown",
      "source": [
        "### Hospital & UTI\n",
        "| Variável           | Descrição                                                                                                                                                                                                         |\n",
        "|:-------------------|:--------------------------------------------------------------------------------------------------------------------------------------------------------------------------------------------------------------------|\n",
        "| `icu_patients`                       | Número de pacientes de COVID-19 em UTIs em um determinado dia                                      |\n",
        "| `icu_patients_per_million`           | Número de pacientes de COVID-19 em UTIs em um determinado dia por 1.000.000 pessoas                 |\n",
        "| `hosp_patients`                      | Número de pacientes de COVID-19 em hospital em um determinado dia                                                         |\n",
        "| `hosp_patients_per_million`          | Número de pacientes de COVID-19 em hospital em um determinado dia por 1.000.000 pessoas                                   |\n",
        "| `weekly_icu_admissions`              | Número de pacientes de COVID-19 recém-admitidos em UTIs em uma determinada semana                      |\n",
        "| `weekly_icu_admissions_per_million`  | Número de pacientes de COVID-19 recém-admitidos em UTIs em uma determinada semana por 1.000.000 pessoas |\n",
        "| `weekly_hosp_admissions`             | Número de pacientes de COVID-19  recém-admitidos em hospitais em uma determinada semana                                        |\n",
        "| `weekly_hosp_admissions_per_million` | Número de pacientes de COVID-19  recém-admitidos em hospitais em uma determinada semana por 1.000.000 pessoas                   |"
      ],
      "metadata": {
        "id": "cIEO_7itWRAy"
      }
    },
    {
      "cell_type": "markdown",
      "source": [
        "### Respostas de política\n",
        "| Variável           | Descrição                                                                                                                                                                                                         |\n",
        "|:-------------------|:--------------------------------------------------------------------------------------------------------------------------------------------------------------------------------------------------------------------|\n",
        "| `stringency_index` | Índice de Restrição de Resposta do Governo) |"
      ],
      "metadata": {
        "id": "H9DJOAWgWlt9"
      }
    },
    {
      "cell_type": "markdown",
      "source": [
        "### Taxa de reprodução\n",
        "| Variável            | Descrição                                                                                                                                   |\n",
        "|:--------------------|:----------------------------------------------------------------------------------------------------------------------------------------------|\n",
        "| `reproduction_rate` | Estimativa em tempo real da taxa efetiva de reprodução (R) de COVID-19.|"
      ],
      "metadata": {
        "id": "U9tbygy-WsTI"
      }
    },
    {
      "cell_type": "markdown",
      "source": [
        "### Testes e positividade\n",
        "| Variável                          | Descrição                                                                                                                                                                                                                                                                                                          |\n",
        "|:----------------------------------|:---------------------------------------------------------------------------------------------------------------------------------------------------------------------------------------------------------------------------------------------------------------------------------------------------------------------|\n",
        "| `total_tests`                     | Total testes para COVID-19                                                                                                                             |\n",
        "| `new_tests`                       | Novos testes para COVID-19 (calculado apenas para dias consecutivos)                                                                                                                                                                      |\n",
        "| `total_tests_per_thousand`        | Total testes para COVID-19 por 1.000 pessoas                                                                                                           |\n",
        "| `new_tests_per_thousand`          | Novos testes para COVID-19 por 1.000 pessoas                                                                                                             |\n",
        "| `new_tests_smoothed`              | Novos testes para COVID-19 (7 dias com tratamento de dados). |\n",
        "| `new_tests_smoothed_per_thousand` | Novos testes para COVID-19 (7 dias com tratamento de dados) por 1.000 pessoas                                                                                           |\n",
        "| `positive_rate`                   | A parcela de testes COVID-19 que são positivos.                                                                                                             |\n",
        "| `tests_per_case`                  | Testes conduzidos por novo caso confirmado de COVID-19.                                                                                                          |\n",
        "| `tests_units`                     | Unidades usadas pelo local para relatar seus dados de teste                                                                                                                                                                                                                                                               |                                                                                                                                                                                                                                                              |"
      ],
      "metadata": {
        "id": "6I2hX0K6W1Md"
      }
    },
    {
      "cell_type": "markdown",
      "source": [
        "### Vacinas\n",
        "| Variável                                | Descrição                                                                                                                                                                                                                                                                                                                                       |\n",
        "|:----------------------------------------|:--------------------------------------------------------------------------------------------------------------------------------------------------------------------------------------------------------------------------------------------------------------------------------------------------------------------------------------------------|\n",
        "| `total_vaccinations`                    | Número total de doses de vacinação COVID-19 administradas                                                                                                                                                                                                                                                     |\n",
        "| `people_vaccinated`                     | Número total de pessoas que receberam pelo menos uma dose de vacina                                                                                                                                                                                                                             |\n",
        "| `people_fully_vaccinated`               | Número total de pessoas que receberam todas as doses prescritas pelo protocolo de vacinação                                                                                                                                                                                                                                                              |\n",
        "| `total_boosters`                        | Número total de doses de reforço da vacinação COVID-19 administradas.                                                                                                                                                                                                     |\n",
        "| `new_vaccinations`                      | Novas doses de vacinação COVID-19 administradas (calculadas apenas para dias consecutivos)                                                                                                                                                                                                                                                                |\n",
        "| `new_vaccinations_smoothed`             | Novas doses de vacinação COVID-19 administradas (7 dias com tratamento de dados).  |\n",
        "| `total_vaccinations_per_hundred`        | Número total de doses de vacinação COVID-19 administradas por 100 pessoas na população total                                                                                                                                                                                                                                                    |\n",
        "| `people_vaccinated_per_hundred`         | Número total de pessoas que receberam pelo menos uma dose de vacina por 100 pessoas na população total                                                                                                                                                                                                                                              |\n",
        "| `people_fully_vaccinated_per_hundred`   | Número total de pessoas que receberam todas as doses prescritas pelo protocolo de vacinação por 100 pessoas na população total                                                                                                                                                                                                                       |\n",
        "| `total_boosters_per_hundred`            | Número total de doses de reforço da vacinação COVID-19 administradas por 100 pessoas na população total                                                                                                                                                                                                                                            |\n",
        "| `new_vaccinations_smoothed_per_million` | Novas doses de vacinação COVID-19 administradas (7 dias com tratamento de dados) por 1.000.000 de pessoas na população total                                                                                                                                                                                                                                         |\n"
      ],
      "metadata": {
        "id": "Tf0-itVqW91a"
      }
    },
    {
      "cell_type": "markdown",
      "source": [
        "### Outros\n",
        "| Variável                     | Descrição                                                                                                                                                                                                                                |\n",
        "|:-----------------------------|:-------------------------------------------------------------------------------------------------------------------------------------------------------------------------------------------------------------------------------------------|\n",
        "| `iso_code`                   | ISO 3166-1 alpha-3 – códigos de três letras do país                                                                                                                                                                                            |\n",
        "| `continent`                  | Continente da localização geográfica                                                                                                                                                                                                     |\n",
        "| `location`                   | Localização geográfica                                                                                                                                                                                                                      |\n",
        "| `date`                       | Data de observação                                                                                                                                                                                                                        |\n",
        "| `population`                 | População em 2020                                                                                                                                                                                                                         |\n",
        "| `population_density`         | Número de pessoas dividido por área terrestre, medido em quilômetros quadrados, ano mais recente disponível                                                                                                                                           |\n",
        "| `median_age`                 | Idade média da população, projeção da ONU para 2020                                                                                                                                                                                       |\n",
        "| `aged_65_older`              | Parcela da população com 65 anos ou mais, ano mais recente disponível                                                                                                                                                             |\n",
        "| `aged_70_older`              | Parcela da população com 70 anos ou mais em 2015                                                                                                                                                                                 |\n",
        "| `gdp_per_capita`             | Produto interno bruto em paridade de poder de compra (dólares internacionais constantes de 2011), ano mais recente disponível                                                                                                                        |\n",
        "| `extreme_poverty`            | Parcela da população que vive em pobreza extrema, ano mais recente disponível desde 2010                                                                                                                                                   |\n",
        "| `cardiovasc_death_rate`      | Taxa de mortalidade por doenças cardiovasculares em 2017 (número anual de mortes por 100.000 pessoas)                                                                                                                                                |\n",
        "| `diabetes_prevalence`        | Prevalência de diabetes (% da população de 20 a 79 anos) em 2017                                                                                                                                                                                |\n",
        "| `female_smokers`             | Parcela de mulheres que fumam, ano mais recente disponível                                                                                                                                                                                       |\n",
        "| `male_smokers`               | Proporção de homens que fumam, ano mais recente disponível                                                                                                                                                                                         |\n",
        "| `handwashing_facilities`     |Parcela da população com instalações básicas para lavagem das mãos no local, ano mais recente disponível                                                                                                                                          |\n",
        "| `hospital_beds_per_thousand` | Leitos hospitalares por 1.000 pessoas, ano mais recente disponível desde 2010                                                                                                                                                                      |\n",
        "| `life_expectancy`            | Expectativa de vida ao nascer em 2019                                                                                                                                                                                                           |\n",
        "| `human_development_index`    | Um índice composto que mede o desempenho médio em três dimensões básicas do desenvolvimento humano. |\n",
        "| `excess_mortality`           | Excesso de mortalidade P-score para todas as idades."
      ],
      "metadata": {
        "id": "foKQB5_NXG8O"
      }
    },
    {
      "cell_type": "markdown",
      "source": [
        "Algumas variáveis utilizam na composição de seu nome a palavra `smoothed`.\n",
        "\n",
        "O termo **Data Smoothing** é utilizado quando os dados são compilados, sendo que eles podem ser manipulados para remover ou reduzir qualquer volatilidade ou qualquer outro tipo de ruído. Isso é chamado de suavização de dados.*\n",
        "\n",
        "*A coluna `iso_code` utiliza a informação baseada nos ISO 3166-1 alfa-3 são os códigos de três-letras [Código de país](https://pt.wikipedia.org/wiki/C%C3%B3digo_de_pa%C3%ADs) definido em [ISO 3166-1](https://pt.wikipedia.org/wiki/ISO_3166-1), parte do padrão [ISO 3166](https://pt.wikipedia.org/wiki/ISO_3166) publicado pela [Organização Internacional para Padronização](https://pt.wikipedia.org/wiki/Organiza%C3%A7%C3%A3o_Internacional_para_Padroniza%C3%A7%C3%A3o) (ISO), para representar países, territórios dependentes, e zonas especiais de interesse geográfico. Eles permitem uma melhor visualização da associação entre os códigos e nomes dos países do que os códigos de duas letras alfa-2.[1] Eles foram incluídos na primeira parte da norma ISO 3166 em sua primeira edição em 1974, como exemplo:*\n",
        "\n",
        "ISO 3166-1   | País\n",
        ":--------- | :------\n",
        "ABW | Aruba\n",
        "BRA | Brazil\n",
        "KWT | Kuwait\n",
        "UKR | Ukraine"
      ],
      "metadata": {
        "id": "aleYmvqZVrr9"
      }
    },
    {
      "cell_type": "markdown",
      "source": [
        "# Realizando a importação dos dados."
      ],
      "metadata": {
        "id": "JcHMpVt9wxKn"
      }
    },
    {
      "cell_type": "code",
      "metadata": {
        "id": "lOtEJxe0DMEb"
      },
      "source": [
        "# importar as bibliotecas necessárias\n",
        "import pandas as pd\n",
        "%matplotlib inline\n",
        "import matplotlib.pyplot as plt\n",
        "import seaborn as sns\n",
        "\n",
        "pd.options.display.max_rows = 200\n",
        "\n",
        "# importar o dataset COVID-19 para um DataFrame\n",
        "df_geral = pd.read_csv('https://raw.githubusercontent.com/owid/covid-19-data/master/public/data/owid-covid-data.csv')\n"
      ],
      "execution_count": null,
      "outputs": []
    },
    {
      "cell_type": "markdown",
      "metadata": {
        "id": "qb5By2nIMS6m"
      },
      "source": [
        "## Análise Exploratória dos Dados\n",
        "\n",
        "Nessa etapa inicial, busquei informações gerais da estrutura dos dados.\n",
        "\n",
        "Listando algumas entradas, nos dá uma visão, apesar de pequena, como está a qualidade dos dados.\n",
        "\n",
        "Analisarei os tipos das variaveis, quantidade total de registros, número de colunas, quantidade de valores não nulos e principalmente a quantidade de valores ausentes, para que possa avaliar o impacto de inviabilizar a utilização de uma determinada informação ou a necessidade de um tratamento de dados."
      ]
    },
    {
      "cell_type": "markdown",
      "source": [
        "A seguir, verificamos o tamanho do `dataset` que iremos utilizar, consultando o número de colunas e quantidade de registros existentes através no método `shape`."
      ],
      "metadata": {
        "id": "NsF54GeVqgBQ"
      }
    },
    {
      "cell_type": "code",
      "metadata": {
        "colab": {
          "base_uri": "https://localhost:8080/"
        },
        "id": "fby5bEv6u9jK",
        "outputId": "fad9bf60-1d78-4bb3-e907-b90a07f0368f"
      },
      "source": [
        "# Tamanho do Dataframe\n",
        "print('Colunas: ',df_geral.shape[1], \"\\n\"\n",
        "      'Registros: ', df_geral.shape[0])"
      ],
      "execution_count": null,
      "outputs": [
        {
          "output_type": "stream",
          "name": "stdout",
          "text": [
            "Colunas:  67 \n",
            "Registros:  299237\n"
          ]
        }
      ]
    },
    {
      "cell_type": "code",
      "metadata": {
        "id": "gO1fv3D1PS4k",
        "colab": {
          "base_uri": "https://localhost:8080/",
          "height": 386
        },
        "outputId": "6fece434-3c93-4526-cb77-8e7f0f520f47"
      },
      "source": [
        "# Visualizando as cinco primeiras entradas do Dataframe\n",
        "df_geral.head()"
      ],
      "execution_count": null,
      "outputs": [
        {
          "output_type": "execute_result",
          "data": {
            "text/plain": [
              "  iso_code continent     location        date  total_cases  new_cases  \\\n",
              "0      AFG      Asia  Afghanistan  2020-01-03          NaN        0.0   \n",
              "1      AFG      Asia  Afghanistan  2020-01-04          NaN        0.0   \n",
              "2      AFG      Asia  Afghanistan  2020-01-05          NaN        0.0   \n",
              "3      AFG      Asia  Afghanistan  2020-01-06          NaN        0.0   \n",
              "4      AFG      Asia  Afghanistan  2020-01-07          NaN        0.0   \n",
              "\n",
              "   new_cases_smoothed  total_deaths  new_deaths  new_deaths_smoothed  ...  \\\n",
              "0                 NaN           NaN         0.0                  NaN  ...   \n",
              "1                 NaN           NaN         0.0                  NaN  ...   \n",
              "2                 NaN           NaN         0.0                  NaN  ...   \n",
              "3                 NaN           NaN         0.0                  NaN  ...   \n",
              "4                 NaN           NaN         0.0                  NaN  ...   \n",
              "\n",
              "   male_smokers  handwashing_facilities  hospital_beds_per_thousand  \\\n",
              "0           NaN                  37.746                         0.5   \n",
              "1           NaN                  37.746                         0.5   \n",
              "2           NaN                  37.746                         0.5   \n",
              "3           NaN                  37.746                         0.5   \n",
              "4           NaN                  37.746                         0.5   \n",
              "\n",
              "   life_expectancy  human_development_index  population  \\\n",
              "0            64.83                    0.511  41128772.0   \n",
              "1            64.83                    0.511  41128772.0   \n",
              "2            64.83                    0.511  41128772.0   \n",
              "3            64.83                    0.511  41128772.0   \n",
              "4            64.83                    0.511  41128772.0   \n",
              "\n",
              "   excess_mortality_cumulative_absolute  excess_mortality_cumulative  \\\n",
              "0                                   NaN                          NaN   \n",
              "1                                   NaN                          NaN   \n",
              "2                                   NaN                          NaN   \n",
              "3                                   NaN                          NaN   \n",
              "4                                   NaN                          NaN   \n",
              "\n",
              "   excess_mortality  excess_mortality_cumulative_per_million  \n",
              "0               NaN                                      NaN  \n",
              "1               NaN                                      NaN  \n",
              "2               NaN                                      NaN  \n",
              "3               NaN                                      NaN  \n",
              "4               NaN                                      NaN  \n",
              "\n",
              "[5 rows x 67 columns]"
            ],
            "text/html": [
              "\n",
              "  <div id=\"df-146bc72a-cf43-4cec-b82b-1f01f38ddd89\">\n",
              "    <div class=\"colab-df-container\">\n",
              "      <div>\n",
              "<style scoped>\n",
              "    .dataframe tbody tr th:only-of-type {\n",
              "        vertical-align: middle;\n",
              "    }\n",
              "\n",
              "    .dataframe tbody tr th {\n",
              "        vertical-align: top;\n",
              "    }\n",
              "\n",
              "    .dataframe thead th {\n",
              "        text-align: right;\n",
              "    }\n",
              "</style>\n",
              "<table border=\"1\" class=\"dataframe\">\n",
              "  <thead>\n",
              "    <tr style=\"text-align: right;\">\n",
              "      <th></th>\n",
              "      <th>iso_code</th>\n",
              "      <th>continent</th>\n",
              "      <th>location</th>\n",
              "      <th>date</th>\n",
              "      <th>total_cases</th>\n",
              "      <th>new_cases</th>\n",
              "      <th>new_cases_smoothed</th>\n",
              "      <th>total_deaths</th>\n",
              "      <th>new_deaths</th>\n",
              "      <th>new_deaths_smoothed</th>\n",
              "      <th>...</th>\n",
              "      <th>male_smokers</th>\n",
              "      <th>handwashing_facilities</th>\n",
              "      <th>hospital_beds_per_thousand</th>\n",
              "      <th>life_expectancy</th>\n",
              "      <th>human_development_index</th>\n",
              "      <th>population</th>\n",
              "      <th>excess_mortality_cumulative_absolute</th>\n",
              "      <th>excess_mortality_cumulative</th>\n",
              "      <th>excess_mortality</th>\n",
              "      <th>excess_mortality_cumulative_per_million</th>\n",
              "    </tr>\n",
              "  </thead>\n",
              "  <tbody>\n",
              "    <tr>\n",
              "      <th>0</th>\n",
              "      <td>AFG</td>\n",
              "      <td>Asia</td>\n",
              "      <td>Afghanistan</td>\n",
              "      <td>2020-01-03</td>\n",
              "      <td>NaN</td>\n",
              "      <td>0.0</td>\n",
              "      <td>NaN</td>\n",
              "      <td>NaN</td>\n",
              "      <td>0.0</td>\n",
              "      <td>NaN</td>\n",
              "      <td>...</td>\n",
              "      <td>NaN</td>\n",
              "      <td>37.746</td>\n",
              "      <td>0.5</td>\n",
              "      <td>64.83</td>\n",
              "      <td>0.511</td>\n",
              "      <td>41128772.0</td>\n",
              "      <td>NaN</td>\n",
              "      <td>NaN</td>\n",
              "      <td>NaN</td>\n",
              "      <td>NaN</td>\n",
              "    </tr>\n",
              "    <tr>\n",
              "      <th>1</th>\n",
              "      <td>AFG</td>\n",
              "      <td>Asia</td>\n",
              "      <td>Afghanistan</td>\n",
              "      <td>2020-01-04</td>\n",
              "      <td>NaN</td>\n",
              "      <td>0.0</td>\n",
              "      <td>NaN</td>\n",
              "      <td>NaN</td>\n",
              "      <td>0.0</td>\n",
              "      <td>NaN</td>\n",
              "      <td>...</td>\n",
              "      <td>NaN</td>\n",
              "      <td>37.746</td>\n",
              "      <td>0.5</td>\n",
              "      <td>64.83</td>\n",
              "      <td>0.511</td>\n",
              "      <td>41128772.0</td>\n",
              "      <td>NaN</td>\n",
              "      <td>NaN</td>\n",
              "      <td>NaN</td>\n",
              "      <td>NaN</td>\n",
              "    </tr>\n",
              "    <tr>\n",
              "      <th>2</th>\n",
              "      <td>AFG</td>\n",
              "      <td>Asia</td>\n",
              "      <td>Afghanistan</td>\n",
              "      <td>2020-01-05</td>\n",
              "      <td>NaN</td>\n",
              "      <td>0.0</td>\n",
              "      <td>NaN</td>\n",
              "      <td>NaN</td>\n",
              "      <td>0.0</td>\n",
              "      <td>NaN</td>\n",
              "      <td>...</td>\n",
              "      <td>NaN</td>\n",
              "      <td>37.746</td>\n",
              "      <td>0.5</td>\n",
              "      <td>64.83</td>\n",
              "      <td>0.511</td>\n",
              "      <td>41128772.0</td>\n",
              "      <td>NaN</td>\n",
              "      <td>NaN</td>\n",
              "      <td>NaN</td>\n",
              "      <td>NaN</td>\n",
              "    </tr>\n",
              "    <tr>\n",
              "      <th>3</th>\n",
              "      <td>AFG</td>\n",
              "      <td>Asia</td>\n",
              "      <td>Afghanistan</td>\n",
              "      <td>2020-01-06</td>\n",
              "      <td>NaN</td>\n",
              "      <td>0.0</td>\n",
              "      <td>NaN</td>\n",
              "      <td>NaN</td>\n",
              "      <td>0.0</td>\n",
              "      <td>NaN</td>\n",
              "      <td>...</td>\n",
              "      <td>NaN</td>\n",
              "      <td>37.746</td>\n",
              "      <td>0.5</td>\n",
              "      <td>64.83</td>\n",
              "      <td>0.511</td>\n",
              "      <td>41128772.0</td>\n",
              "      <td>NaN</td>\n",
              "      <td>NaN</td>\n",
              "      <td>NaN</td>\n",
              "      <td>NaN</td>\n",
              "    </tr>\n",
              "    <tr>\n",
              "      <th>4</th>\n",
              "      <td>AFG</td>\n",
              "      <td>Asia</td>\n",
              "      <td>Afghanistan</td>\n",
              "      <td>2020-01-07</td>\n",
              "      <td>NaN</td>\n",
              "      <td>0.0</td>\n",
              "      <td>NaN</td>\n",
              "      <td>NaN</td>\n",
              "      <td>0.0</td>\n",
              "      <td>NaN</td>\n",
              "      <td>...</td>\n",
              "      <td>NaN</td>\n",
              "      <td>37.746</td>\n",
              "      <td>0.5</td>\n",
              "      <td>64.83</td>\n",
              "      <td>0.511</td>\n",
              "      <td>41128772.0</td>\n",
              "      <td>NaN</td>\n",
              "      <td>NaN</td>\n",
              "      <td>NaN</td>\n",
              "      <td>NaN</td>\n",
              "    </tr>\n",
              "  </tbody>\n",
              "</table>\n",
              "<p>5 rows × 67 columns</p>\n",
              "</div>\n",
              "      <button class=\"colab-df-convert\" onclick=\"convertToInteractive('df-146bc72a-cf43-4cec-b82b-1f01f38ddd89')\"\n",
              "              title=\"Convert this dataframe to an interactive table.\"\n",
              "              style=\"display:none;\">\n",
              "        \n",
              "  <svg xmlns=\"http://www.w3.org/2000/svg\" height=\"24px\"viewBox=\"0 0 24 24\"\n",
              "       width=\"24px\">\n",
              "    <path d=\"M0 0h24v24H0V0z\" fill=\"none\"/>\n",
              "    <path d=\"M18.56 5.44l.94 2.06.94-2.06 2.06-.94-2.06-.94-.94-2.06-.94 2.06-2.06.94zm-11 1L8.5 8.5l.94-2.06 2.06-.94-2.06-.94L8.5 2.5l-.94 2.06-2.06.94zm10 10l.94 2.06.94-2.06 2.06-.94-2.06-.94-.94-2.06-.94 2.06-2.06.94z\"/><path d=\"M17.41 7.96l-1.37-1.37c-.4-.4-.92-.59-1.43-.59-.52 0-1.04.2-1.43.59L10.3 9.45l-7.72 7.72c-.78.78-.78 2.05 0 2.83L4 21.41c.39.39.9.59 1.41.59.51 0 1.02-.2 1.41-.59l7.78-7.78 2.81-2.81c.8-.78.8-2.07 0-2.86zM5.41 20L4 18.59l7.72-7.72 1.47 1.35L5.41 20z\"/>\n",
              "  </svg>\n",
              "      </button>\n",
              "      \n",
              "  <style>\n",
              "    .colab-df-container {\n",
              "      display:flex;\n",
              "      flex-wrap:wrap;\n",
              "      gap: 12px;\n",
              "    }\n",
              "\n",
              "    .colab-df-convert {\n",
              "      background-color: #E8F0FE;\n",
              "      border: none;\n",
              "      border-radius: 50%;\n",
              "      cursor: pointer;\n",
              "      display: none;\n",
              "      fill: #1967D2;\n",
              "      height: 32px;\n",
              "      padding: 0 0 0 0;\n",
              "      width: 32px;\n",
              "    }\n",
              "\n",
              "    .colab-df-convert:hover {\n",
              "      background-color: #E2EBFA;\n",
              "      box-shadow: 0px 1px 2px rgba(60, 64, 67, 0.3), 0px 1px 3px 1px rgba(60, 64, 67, 0.15);\n",
              "      fill: #174EA6;\n",
              "    }\n",
              "\n",
              "    [theme=dark] .colab-df-convert {\n",
              "      background-color: #3B4455;\n",
              "      fill: #D2E3FC;\n",
              "    }\n",
              "\n",
              "    [theme=dark] .colab-df-convert:hover {\n",
              "      background-color: #434B5C;\n",
              "      box-shadow: 0px 1px 3px 1px rgba(0, 0, 0, 0.15);\n",
              "      filter: drop-shadow(0px 1px 2px rgba(0, 0, 0, 0.3));\n",
              "      fill: #FFFFFF;\n",
              "    }\n",
              "  </style>\n",
              "\n",
              "      <script>\n",
              "        const buttonEl =\n",
              "          document.querySelector('#df-146bc72a-cf43-4cec-b82b-1f01f38ddd89 button.colab-df-convert');\n",
              "        buttonEl.style.display =\n",
              "          google.colab.kernel.accessAllowed ? 'block' : 'none';\n",
              "\n",
              "        async function convertToInteractive(key) {\n",
              "          const element = document.querySelector('#df-146bc72a-cf43-4cec-b82b-1f01f38ddd89');\n",
              "          const dataTable =\n",
              "            await google.colab.kernel.invokeFunction('convertToInteractive',\n",
              "                                                     [key], {});\n",
              "          if (!dataTable) return;\n",
              "\n",
              "          const docLinkHtml = 'Like what you see? Visit the ' +\n",
              "            '<a target=\"_blank\" href=https://colab.research.google.com/notebooks/data_table.ipynb>data table notebook</a>'\n",
              "            + ' to learn more about interactive tables.';\n",
              "          element.innerHTML = '';\n",
              "          dataTable['output_type'] = 'display_data';\n",
              "          await google.colab.output.renderOutput(dataTable, element);\n",
              "          const docLink = document.createElement('div');\n",
              "          docLink.innerHTML = docLinkHtml;\n",
              "          element.appendChild(docLink);\n",
              "        }\n",
              "      </script>\n",
              "    </div>\n",
              "  </div>\n",
              "  "
            ]
          },
          "metadata": {},
          "execution_count": 4
        }
      ]
    },
    {
      "cell_type": "code",
      "metadata": {
        "colab": {
          "base_uri": "https://localhost:8080/",
          "height": 386
        },
        "id": "lbM0NPkUydeo",
        "outputId": "7ceb62e5-3749-4243-93b4-df457ff09b8f"
      },
      "source": [
        "# Visualizando as cinco ultimas entradas do Dataframe\n",
        "df_geral.tail()"
      ],
      "execution_count": null,
      "outputs": [
        {
          "output_type": "execute_result",
          "data": {
            "text/plain": [
              "       iso_code continent  location        date  total_cases  new_cases  \\\n",
              "299232      ZWE    Africa  Zimbabwe  2023-03-25     264508.0        4.0   \n",
              "299233      ZWE    Africa  Zimbabwe  2023-03-26     264509.0        1.0   \n",
              "299234      ZWE    Africa  Zimbabwe  2023-03-27     264511.0        2.0   \n",
              "299235      ZWE    Africa  Zimbabwe  2023-03-28     264511.0        0.0   \n",
              "299236      ZWE    Africa  Zimbabwe  2023-03-29     264511.0        0.0   \n",
              "\n",
              "        new_cases_smoothed  total_deaths  new_deaths  new_deaths_smoothed  \\\n",
              "299232               9.571        5679.0         0.0                0.286   \n",
              "299233               8.714        5679.0         0.0                0.143   \n",
              "299234               7.857        5679.0         0.0                0.143   \n",
              "299235               5.857        5679.0         0.0                0.143   \n",
              "299236               5.143        5679.0         0.0                0.000   \n",
              "\n",
              "        ...  male_smokers  handwashing_facilities  hospital_beds_per_thousand  \\\n",
              "299232  ...          30.7                  36.791                         1.7   \n",
              "299233  ...          30.7                  36.791                         1.7   \n",
              "299234  ...          30.7                  36.791                         1.7   \n",
              "299235  ...          30.7                  36.791                         1.7   \n",
              "299236  ...          30.7                  36.791                         1.7   \n",
              "\n",
              "        life_expectancy  human_development_index  population  \\\n",
              "299232            61.49                    0.571  16320539.0   \n",
              "299233            61.49                    0.571  16320539.0   \n",
              "299234            61.49                    0.571  16320539.0   \n",
              "299235            61.49                    0.571  16320539.0   \n",
              "299236            61.49                    0.571  16320539.0   \n",
              "\n",
              "        excess_mortality_cumulative_absolute  excess_mortality_cumulative  \\\n",
              "299232                                   NaN                          NaN   \n",
              "299233                                   NaN                          NaN   \n",
              "299234                                   NaN                          NaN   \n",
              "299235                                   NaN                          NaN   \n",
              "299236                                   NaN                          NaN   \n",
              "\n",
              "        excess_mortality  excess_mortality_cumulative_per_million  \n",
              "299232               NaN                                      NaN  \n",
              "299233               NaN                                      NaN  \n",
              "299234               NaN                                      NaN  \n",
              "299235               NaN                                      NaN  \n",
              "299236               NaN                                      NaN  \n",
              "\n",
              "[5 rows x 67 columns]"
            ],
            "text/html": [
              "\n",
              "  <div id=\"df-b0ce24b6-f163-4889-8a88-bf80721b4b75\">\n",
              "    <div class=\"colab-df-container\">\n",
              "      <div>\n",
              "<style scoped>\n",
              "    .dataframe tbody tr th:only-of-type {\n",
              "        vertical-align: middle;\n",
              "    }\n",
              "\n",
              "    .dataframe tbody tr th {\n",
              "        vertical-align: top;\n",
              "    }\n",
              "\n",
              "    .dataframe thead th {\n",
              "        text-align: right;\n",
              "    }\n",
              "</style>\n",
              "<table border=\"1\" class=\"dataframe\">\n",
              "  <thead>\n",
              "    <tr style=\"text-align: right;\">\n",
              "      <th></th>\n",
              "      <th>iso_code</th>\n",
              "      <th>continent</th>\n",
              "      <th>location</th>\n",
              "      <th>date</th>\n",
              "      <th>total_cases</th>\n",
              "      <th>new_cases</th>\n",
              "      <th>new_cases_smoothed</th>\n",
              "      <th>total_deaths</th>\n",
              "      <th>new_deaths</th>\n",
              "      <th>new_deaths_smoothed</th>\n",
              "      <th>...</th>\n",
              "      <th>male_smokers</th>\n",
              "      <th>handwashing_facilities</th>\n",
              "      <th>hospital_beds_per_thousand</th>\n",
              "      <th>life_expectancy</th>\n",
              "      <th>human_development_index</th>\n",
              "      <th>population</th>\n",
              "      <th>excess_mortality_cumulative_absolute</th>\n",
              "      <th>excess_mortality_cumulative</th>\n",
              "      <th>excess_mortality</th>\n",
              "      <th>excess_mortality_cumulative_per_million</th>\n",
              "    </tr>\n",
              "  </thead>\n",
              "  <tbody>\n",
              "    <tr>\n",
              "      <th>299232</th>\n",
              "      <td>ZWE</td>\n",
              "      <td>Africa</td>\n",
              "      <td>Zimbabwe</td>\n",
              "      <td>2023-03-25</td>\n",
              "      <td>264508.0</td>\n",
              "      <td>4.0</td>\n",
              "      <td>9.571</td>\n",
              "      <td>5679.0</td>\n",
              "      <td>0.0</td>\n",
              "      <td>0.286</td>\n",
              "      <td>...</td>\n",
              "      <td>30.7</td>\n",
              "      <td>36.791</td>\n",
              "      <td>1.7</td>\n",
              "      <td>61.49</td>\n",
              "      <td>0.571</td>\n",
              "      <td>16320539.0</td>\n",
              "      <td>NaN</td>\n",
              "      <td>NaN</td>\n",
              "      <td>NaN</td>\n",
              "      <td>NaN</td>\n",
              "    </tr>\n",
              "    <tr>\n",
              "      <th>299233</th>\n",
              "      <td>ZWE</td>\n",
              "      <td>Africa</td>\n",
              "      <td>Zimbabwe</td>\n",
              "      <td>2023-03-26</td>\n",
              "      <td>264509.0</td>\n",
              "      <td>1.0</td>\n",
              "      <td>8.714</td>\n",
              "      <td>5679.0</td>\n",
              "      <td>0.0</td>\n",
              "      <td>0.143</td>\n",
              "      <td>...</td>\n",
              "      <td>30.7</td>\n",
              "      <td>36.791</td>\n",
              "      <td>1.7</td>\n",
              "      <td>61.49</td>\n",
              "      <td>0.571</td>\n",
              "      <td>16320539.0</td>\n",
              "      <td>NaN</td>\n",
              "      <td>NaN</td>\n",
              "      <td>NaN</td>\n",
              "      <td>NaN</td>\n",
              "    </tr>\n",
              "    <tr>\n",
              "      <th>299234</th>\n",
              "      <td>ZWE</td>\n",
              "      <td>Africa</td>\n",
              "      <td>Zimbabwe</td>\n",
              "      <td>2023-03-27</td>\n",
              "      <td>264511.0</td>\n",
              "      <td>2.0</td>\n",
              "      <td>7.857</td>\n",
              "      <td>5679.0</td>\n",
              "      <td>0.0</td>\n",
              "      <td>0.143</td>\n",
              "      <td>...</td>\n",
              "      <td>30.7</td>\n",
              "      <td>36.791</td>\n",
              "      <td>1.7</td>\n",
              "      <td>61.49</td>\n",
              "      <td>0.571</td>\n",
              "      <td>16320539.0</td>\n",
              "      <td>NaN</td>\n",
              "      <td>NaN</td>\n",
              "      <td>NaN</td>\n",
              "      <td>NaN</td>\n",
              "    </tr>\n",
              "    <tr>\n",
              "      <th>299235</th>\n",
              "      <td>ZWE</td>\n",
              "      <td>Africa</td>\n",
              "      <td>Zimbabwe</td>\n",
              "      <td>2023-03-28</td>\n",
              "      <td>264511.0</td>\n",
              "      <td>0.0</td>\n",
              "      <td>5.857</td>\n",
              "      <td>5679.0</td>\n",
              "      <td>0.0</td>\n",
              "      <td>0.143</td>\n",
              "      <td>...</td>\n",
              "      <td>30.7</td>\n",
              "      <td>36.791</td>\n",
              "      <td>1.7</td>\n",
              "      <td>61.49</td>\n",
              "      <td>0.571</td>\n",
              "      <td>16320539.0</td>\n",
              "      <td>NaN</td>\n",
              "      <td>NaN</td>\n",
              "      <td>NaN</td>\n",
              "      <td>NaN</td>\n",
              "    </tr>\n",
              "    <tr>\n",
              "      <th>299236</th>\n",
              "      <td>ZWE</td>\n",
              "      <td>Africa</td>\n",
              "      <td>Zimbabwe</td>\n",
              "      <td>2023-03-29</td>\n",
              "      <td>264511.0</td>\n",
              "      <td>0.0</td>\n",
              "      <td>5.143</td>\n",
              "      <td>5679.0</td>\n",
              "      <td>0.0</td>\n",
              "      <td>0.000</td>\n",
              "      <td>...</td>\n",
              "      <td>30.7</td>\n",
              "      <td>36.791</td>\n",
              "      <td>1.7</td>\n",
              "      <td>61.49</td>\n",
              "      <td>0.571</td>\n",
              "      <td>16320539.0</td>\n",
              "      <td>NaN</td>\n",
              "      <td>NaN</td>\n",
              "      <td>NaN</td>\n",
              "      <td>NaN</td>\n",
              "    </tr>\n",
              "  </tbody>\n",
              "</table>\n",
              "<p>5 rows × 67 columns</p>\n",
              "</div>\n",
              "      <button class=\"colab-df-convert\" onclick=\"convertToInteractive('df-b0ce24b6-f163-4889-8a88-bf80721b4b75')\"\n",
              "              title=\"Convert this dataframe to an interactive table.\"\n",
              "              style=\"display:none;\">\n",
              "        \n",
              "  <svg xmlns=\"http://www.w3.org/2000/svg\" height=\"24px\"viewBox=\"0 0 24 24\"\n",
              "       width=\"24px\">\n",
              "    <path d=\"M0 0h24v24H0V0z\" fill=\"none\"/>\n",
              "    <path d=\"M18.56 5.44l.94 2.06.94-2.06 2.06-.94-2.06-.94-.94-2.06-.94 2.06-2.06.94zm-11 1L8.5 8.5l.94-2.06 2.06-.94-2.06-.94L8.5 2.5l-.94 2.06-2.06.94zm10 10l.94 2.06.94-2.06 2.06-.94-2.06-.94-.94-2.06-.94 2.06-2.06.94z\"/><path d=\"M17.41 7.96l-1.37-1.37c-.4-.4-.92-.59-1.43-.59-.52 0-1.04.2-1.43.59L10.3 9.45l-7.72 7.72c-.78.78-.78 2.05 0 2.83L4 21.41c.39.39.9.59 1.41.59.51 0 1.02-.2 1.41-.59l7.78-7.78 2.81-2.81c.8-.78.8-2.07 0-2.86zM5.41 20L4 18.59l7.72-7.72 1.47 1.35L5.41 20z\"/>\n",
              "  </svg>\n",
              "      </button>\n",
              "      \n",
              "  <style>\n",
              "    .colab-df-container {\n",
              "      display:flex;\n",
              "      flex-wrap:wrap;\n",
              "      gap: 12px;\n",
              "    }\n",
              "\n",
              "    .colab-df-convert {\n",
              "      background-color: #E8F0FE;\n",
              "      border: none;\n",
              "      border-radius: 50%;\n",
              "      cursor: pointer;\n",
              "      display: none;\n",
              "      fill: #1967D2;\n",
              "      height: 32px;\n",
              "      padding: 0 0 0 0;\n",
              "      width: 32px;\n",
              "    }\n",
              "\n",
              "    .colab-df-convert:hover {\n",
              "      background-color: #E2EBFA;\n",
              "      box-shadow: 0px 1px 2px rgba(60, 64, 67, 0.3), 0px 1px 3px 1px rgba(60, 64, 67, 0.15);\n",
              "      fill: #174EA6;\n",
              "    }\n",
              "\n",
              "    [theme=dark] .colab-df-convert {\n",
              "      background-color: #3B4455;\n",
              "      fill: #D2E3FC;\n",
              "    }\n",
              "\n",
              "    [theme=dark] .colab-df-convert:hover {\n",
              "      background-color: #434B5C;\n",
              "      box-shadow: 0px 1px 3px 1px rgba(0, 0, 0, 0.15);\n",
              "      filter: drop-shadow(0px 1px 2px rgba(0, 0, 0, 0.3));\n",
              "      fill: #FFFFFF;\n",
              "    }\n",
              "  </style>\n",
              "\n",
              "      <script>\n",
              "        const buttonEl =\n",
              "          document.querySelector('#df-b0ce24b6-f163-4889-8a88-bf80721b4b75 button.colab-df-convert');\n",
              "        buttonEl.style.display =\n",
              "          google.colab.kernel.accessAllowed ? 'block' : 'none';\n",
              "\n",
              "        async function convertToInteractive(key) {\n",
              "          const element = document.querySelector('#df-b0ce24b6-f163-4889-8a88-bf80721b4b75');\n",
              "          const dataTable =\n",
              "            await google.colab.kernel.invokeFunction('convertToInteractive',\n",
              "                                                     [key], {});\n",
              "          if (!dataTable) return;\n",
              "\n",
              "          const docLinkHtml = 'Like what you see? Visit the ' +\n",
              "            '<a target=\"_blank\" href=https://colab.research.google.com/notebooks/data_table.ipynb>data table notebook</a>'\n",
              "            + ' to learn more about interactive tables.';\n",
              "          element.innerHTML = '';\n",
              "          dataTable['output_type'] = 'display_data';\n",
              "          await google.colab.output.renderOutput(dataTable, element);\n",
              "          const docLink = document.createElement('div');\n",
              "          docLink.innerHTML = docLinkHtml;\n",
              "          element.appendChild(docLink);\n",
              "        }\n",
              "      </script>\n",
              "    </div>\n",
              "  </div>\n",
              "  "
            ]
          },
          "metadata": {},
          "execution_count": 5
        }
      ]
    },
    {
      "cell_type": "markdown",
      "source": [
        "É sempre importante verificarmos como foram definidos os tipos das variáveis utilizadas em nossa fonte de dados. Com isso é possível fazermos ajustes que podem facilitar e otimizar nosso trabalho de pesquisa."
      ],
      "metadata": {
        "id": "cnAdpRCRZeFS"
      }
    },
    {
      "cell_type": "code",
      "metadata": {
        "colab": {
          "base_uri": "https://localhost:8080/"
        },
        "id": "4R2RIm1twvZd",
        "outputId": "7c116832-8dd8-477b-b337-1dab6891565e"
      },
      "source": [
        "# Tipos das variáveis\n",
        "df_geral.info()"
      ],
      "execution_count": null,
      "outputs": [
        {
          "output_type": "stream",
          "name": "stdout",
          "text": [
            "<class 'pandas.core.frame.DataFrame'>\n",
            "RangeIndex: 299237 entries, 0 to 299236\n",
            "Data columns (total 67 columns):\n",
            " #   Column                                      Non-Null Count   Dtype  \n",
            "---  ------                                      --------------   -----  \n",
            " 0   iso_code                                    299237 non-null  object \n",
            " 1   continent                                   285003 non-null  object \n",
            " 2   location                                    299237 non-null  object \n",
            " 3   date                                        299237 non-null  object \n",
            " 4   total_cases                                 263354 non-null  float64\n",
            " 5   new_cases                                   290604 non-null  float64\n",
            " 6   new_cases_smoothed                          289340 non-null  float64\n",
            " 7   total_deaths                                243229 non-null  float64\n",
            " 8   new_deaths                                  290686 non-null  float64\n",
            " 9   new_deaths_smoothed                         289456 non-null  float64\n",
            " 10  total_cases_per_million                     263354 non-null  float64\n",
            " 11  new_cases_per_million                       290604 non-null  float64\n",
            " 12  new_cases_smoothed_per_million              289340 non-null  float64\n",
            " 13  total_deaths_per_million                    243229 non-null  float64\n",
            " 14  new_deaths_per_million                      290686 non-null  float64\n",
            " 15  new_deaths_smoothed_per_million             289456 non-null  float64\n",
            " 16  reproduction_rate                           184817 non-null  float64\n",
            " 17  icu_patients                                34596 non-null   float64\n",
            " 18  icu_patients_per_million                    34596 non-null   float64\n",
            " 19  hosp_patients                               34943 non-null   float64\n",
            " 20  hosp_patients_per_million                   34943 non-null   float64\n",
            " 21  weekly_icu_admissions                       9022 non-null    float64\n",
            " 22  weekly_icu_admissions_per_million           9022 non-null    float64\n",
            " 23  weekly_hosp_admissions                      21166 non-null   float64\n",
            " 24  weekly_hosp_admissions_per_million          21166 non-null   float64\n",
            " 25  total_tests                                 79387 non-null   float64\n",
            " 26  new_tests                                   75403 non-null   float64\n",
            " 27  total_tests_per_thousand                    79387 non-null   float64\n",
            " 28  new_tests_per_thousand                      75403 non-null   float64\n",
            " 29  new_tests_smoothed                          103965 non-null  float64\n",
            " 30  new_tests_smoothed_per_thousand             103965 non-null  float64\n",
            " 31  positive_rate                               95927 non-null   float64\n",
            " 32  tests_per_case                              94348 non-null   float64\n",
            " 33  tests_units                                 106788 non-null  object \n",
            " 34  total_vaccinations                          73141 non-null   float64\n",
            " 35  people_vaccinated                           70026 non-null   float64\n",
            " 36  people_fully_vaccinated                     67746 non-null   float64\n",
            " 37  total_boosters                              41952 non-null   float64\n",
            " 38  new_vaccinations                            60195 non-null   float64\n",
            " 39  new_vaccinations_smoothed                   162155 non-null  float64\n",
            " 40  total_vaccinations_per_hundred              73141 non-null   float64\n",
            " 41  people_vaccinated_per_hundred               70026 non-null   float64\n",
            " 42  people_fully_vaccinated_per_hundred         67746 non-null   float64\n",
            " 43  total_boosters_per_hundred                  41952 non-null   float64\n",
            " 44  new_vaccinations_smoothed_per_million       162155 non-null  float64\n",
            " 45  new_people_vaccinated_smoothed              162205 non-null  float64\n",
            " 46  new_people_vaccinated_smoothed_per_hundred  162205 non-null  float64\n",
            " 47  stringency_index                            193194 non-null  float64\n",
            " 48  population_density                          253891 non-null  float64\n",
            " 49  median_age                                  236144 non-null  float64\n",
            " 50  aged_65_older                               227887 non-null  float64\n",
            " 51  aged_70_older                               233775 non-null  float64\n",
            " 52  gdp_per_capita                              231425 non-null  float64\n",
            " 53  extreme_poverty                             149056 non-null  float64\n",
            " 54  cardiovasc_death_rate                       231829 non-null  float64\n",
            " 55  diabetes_prevalence                         243653 non-null  float64\n",
            " 56  female_smokers                              173923 non-null  float64\n",
            " 57  male_smokers                                171553 non-null  float64\n",
            " 58  handwashing_facilities                      113514 non-null  float64\n",
            " 59  hospital_beds_per_thousand                  204656 non-null  float64\n",
            " 60  life_expectancy                             275150 non-null  float64\n",
            " 61  human_development_index                     224731 non-null  float64\n",
            " 62  population                                  299237 non-null  float64\n",
            " 63  excess_mortality_cumulative_absolute        10295 non-null   float64\n",
            " 64  excess_mortality_cumulative                 10295 non-null   float64\n",
            " 65  excess_mortality                            10295 non-null   float64\n",
            " 66  excess_mortality_cumulative_per_million     10295 non-null   float64\n",
            "dtypes: float64(62), object(5)\n",
            "memory usage: 153.0+ MB\n"
          ]
        }
      ]
    },
    {
      "cell_type": "markdown",
      "source": [
        "Após essa análise, notamos que o campo `date` não está no formato datetime. Para que possamos explorar essa variável ao máximo, vamos transformá-la para o formato datetime."
      ],
      "metadata": {
        "id": "SR7xdiCTXhqk"
      }
    },
    {
      "cell_type": "code",
      "metadata": {
        "id": "goHsBF9XTPY6"
      },
      "source": [
        "# Transforme a coluna date no formato datetime\n",
        "df_geral.date = pd.to_datetime(df_geral.date)"
      ],
      "execution_count": null,
      "outputs": []
    },
    {
      "cell_type": "markdown",
      "source": [
        "Verifiquei a porcentagem de valores ausentes nas colunas onde as pesquisas de dados serão mais efetuadas, para saber se esses valores nulos são significativos em relação ao total de registros."
      ],
      "metadata": {
        "id": "bJ6-DrNCSMnG"
      }
    },
    {
      "cell_type": "code",
      "source": [
        "# Verificar o percentual de dados faltantes\n",
        "print('Dados faltantes')\n",
        "((df_geral.isnull().sum() /df_geral.shape[0])*100).sort_values(ascending=False)"
      ],
      "metadata": {
        "colab": {
          "base_uri": "https://localhost:8080/"
        },
        "id": "c1KT8WCaaABA",
        "outputId": "3a34b7a6-4469-4c50-a493-32c06403702c"
      },
      "execution_count": null,
      "outputs": [
        {
          "output_type": "stream",
          "name": "stdout",
          "text": [
            "Dados faltantes\n"
          ]
        },
        {
          "output_type": "execute_result",
          "data": {
            "text/plain": [
              "weekly_icu_admissions                         96.984999\n",
              "weekly_icu_admissions_per_million             96.984999\n",
              "excess_mortality_cumulative_absolute          96.559583\n",
              "excess_mortality_cumulative_per_million       96.559583\n",
              "excess_mortality_cumulative                   96.559583\n",
              "excess_mortality                              96.559583\n",
              "weekly_hosp_admissions_per_million            92.926677\n",
              "weekly_hosp_admissions                        92.926677\n",
              "icu_patients_per_million                      88.438595\n",
              "icu_patients                                  88.438595\n",
              "hosp_patients_per_million                     88.322634\n",
              "hosp_patients                                 88.322634\n",
              "total_boosters                                85.980343\n",
              "total_boosters_per_hundred                    85.980343\n",
              "new_vaccinations                              79.883838\n",
              "people_fully_vaccinated                       77.360420\n",
              "people_fully_vaccinated_per_hundred           77.360420\n",
              "people_vaccinated                             76.598482\n",
              "people_vaccinated_per_hundred                 76.598482\n",
              "total_vaccinations_per_hundred                75.557501\n",
              "total_vaccinations                            75.557501\n",
              "new_tests                                     74.801579\n",
              "new_tests_per_thousand                        74.801579\n",
              "total_tests                                   73.470193\n",
              "total_tests_per_thousand                      73.470193\n",
              "tests_per_case                                68.470477\n",
              "positive_rate                                 67.942801\n",
              "new_tests_smoothed_per_thousand               65.256636\n",
              "new_tests_smoothed                            65.256636\n",
              "tests_units                                   64.313237\n",
              "handwashing_facilities                        62.065520\n",
              "extreme_poverty                               50.187978\n",
              "new_vaccinations_smoothed_per_million         45.810511\n",
              "new_vaccinations_smoothed                     45.810511\n",
              "new_people_vaccinated_smoothed_per_hundred    45.793802\n",
              "new_people_vaccinated_smoothed                45.793802\n",
              "male_smokers                                  42.669857\n",
              "female_smokers                                41.877843\n",
              "reproduction_rate                             38.237250\n",
              "stringency_index                              35.437797\n",
              "hospital_beds_per_thousand                    31.607388\n",
              "human_development_index                       24.898659\n",
              "aged_65_older                                 23.843977\n",
              "gdp_per_capita                                22.661636\n",
              "cardiovasc_death_rate                         22.526626\n",
              "aged_70_older                                 21.876305\n",
              "median_age                                    21.084625\n",
              "total_deaths                                  18.716937\n",
              "total_deaths_per_million                      18.716937\n",
              "diabetes_prevalence                           18.575243\n",
              "population_density                            15.153875\n",
              "total_cases_per_million                       11.991498\n",
              "total_cases                                   11.991498\n",
              "life_expectancy                                8.049472\n",
              "continent                                      4.756765\n",
              "new_cases_smoothed                             3.307412\n",
              "new_cases_smoothed_per_million                 3.307412\n",
              "new_deaths_smoothed_per_million                3.268647\n",
              "new_deaths_smoothed                            3.268647\n",
              "new_cases                                      2.885004\n",
              "new_cases_per_million                          2.885004\n",
              "new_deaths                                     2.857601\n",
              "new_deaths_per_million                         2.857601\n",
              "population                                     0.000000\n",
              "date                                           0.000000\n",
              "location                                       0.000000\n",
              "iso_code                                       0.000000\n",
              "dtype: float64"
            ]
          },
          "metadata": {},
          "execution_count": 8
        }
      ]
    },
    {
      "cell_type": "markdown",
      "source": [
        "Verificando as informações acima, considerarei somente as colunas do Dataset que possuam pelo menos 50% ou mais com dados preenchidos.\n",
        "\n",
        "As exceções serão as colunas `new_vaccinations` e `total_vaccinations`, pois os registros desses dados só tiveram início no fim de 2020.\n",
        "\n",
        "Para isso, farei uma filtragem com essa margem definida, descartando as colunas que estiverem foram do escopo."
      ],
      "metadata": {
        "id": "nmvdEhV-Io1R"
      }
    },
    {
      "cell_type": "code",
      "source": [
        "# Realizando a filtragem das colunas que possuam o percentual de 50% ou mais com dados preechidos.\n",
        "colunas_filtradas = [col for col in df_geral.columns if (df_geral[col].isnull().sum() / df_geral.shape[0])*100 <= 50 ]\n",
        "colunas_filtradas.append('new_vaccinations')\n",
        "colunas_filtradas.append('total_vaccinations')\n",
        "df_owd = df_geral[colunas_filtradas].copy()"
      ],
      "metadata": {
        "id": "ZUULvJ0dEAjM"
      },
      "execution_count": null,
      "outputs": []
    },
    {
      "cell_type": "code",
      "source": [
        "# Tamanho do nosso Dataframe filtrado\n",
        "print('Colunas: ',df_owd.shape[1], \"\\n\"\n",
        "      'Registros: ', df_owd.shape[0])"
      ],
      "metadata": {
        "colab": {
          "base_uri": "https://localhost:8080/"
        },
        "id": "yLjPGxxFPJ8k",
        "outputId": "0b5fabb1-26de-4f15-87df-ee6f34fdad9b"
      },
      "execution_count": null,
      "outputs": [
        {
          "output_type": "stream",
          "name": "stdout",
          "text": [
            "Colunas:  37 \n",
            "Registros:  299237\n"
          ]
        }
      ]
    },
    {
      "cell_type": "markdown",
      "source": [
        "As colunas `new_deaths` e `new_cases`, quando em casos raros em que nossa fonte de dados relata uma alteração diária negativa devido a uma correção de dados, foi definido o valor delas como NULO (NaN).\n",
        "\n",
        "Nesses casos, iremos substituir esses dados faltantes por 0.\n",
        "\n",
        "Realizaremos o mesmo tratamento para a coluna `new_vaccinations`, pois como mencionado acima, os registros só iniciaram no final de 2020.\n",
        "\n",
        "Para isso, utilizarei a função `fillna()`."
      ],
      "metadata": {
        "id": "ua1FojMVS9OJ"
      }
    },
    {
      "cell_type": "code",
      "source": [
        "# Atualizando os valores nulos das colunas new_deaths e new_cases com o valor 0.\n",
        "df_owd.new_cases.fillna(0, inplace=True)\n",
        "df_owd.new_deaths.fillna(0, inplace=True)\n",
        "df_owd.new_vaccinations.fillna(0, inplace=True)"
      ],
      "metadata": {
        "id": "6bziCvBKUj7o"
      },
      "execution_count": null,
      "outputs": []
    },
    {
      "cell_type": "code",
      "source": [
        "# Verificando o percentual de dados faltantes do novo Dataframe\n",
        "print('Dados faltantes')\n",
        "((df_owd.isnull().sum() /df_owd.shape[0])*100).sort_values(ascending=False)"
      ],
      "metadata": {
        "colab": {
          "base_uri": "https://localhost:8080/"
        },
        "id": "dXIV4BuyVGJX",
        "outputId": "f044b29d-2db8-4416-cd73-ab3bc73c978e"
      },
      "execution_count": null,
      "outputs": [
        {
          "output_type": "stream",
          "name": "stdout",
          "text": [
            "Dados faltantes\n"
          ]
        },
        {
          "output_type": "execute_result",
          "data": {
            "text/plain": [
              "total_vaccinations                            75.557501\n",
              "new_vaccinations_smoothed                     45.810511\n",
              "new_vaccinations_smoothed_per_million         45.810511\n",
              "new_people_vaccinated_smoothed_per_hundred    45.793802\n",
              "new_people_vaccinated_smoothed                45.793802\n",
              "male_smokers                                  42.669857\n",
              "female_smokers                                41.877843\n",
              "reproduction_rate                             38.237250\n",
              "stringency_index                              35.437797\n",
              "hospital_beds_per_thousand                    31.607388\n",
              "human_development_index                       24.898659\n",
              "aged_65_older                                 23.843977\n",
              "gdp_per_capita                                22.661636\n",
              "cardiovasc_death_rate                         22.526626\n",
              "aged_70_older                                 21.876305\n",
              "median_age                                    21.084625\n",
              "total_deaths                                  18.716937\n",
              "total_deaths_per_million                      18.716937\n",
              "diabetes_prevalence                           18.575243\n",
              "population_density                            15.153875\n",
              "total_cases                                   11.991498\n",
              "total_cases_per_million                       11.991498\n",
              "life_expectancy                                8.049472\n",
              "continent                                      4.756765\n",
              "new_cases_smoothed_per_million                 3.307412\n",
              "new_cases_smoothed                             3.307412\n",
              "new_deaths_smoothed                            3.268647\n",
              "new_deaths_smoothed_per_million                3.268647\n",
              "new_cases_per_million                          2.885004\n",
              "new_deaths_per_million                         2.857601\n",
              "population                                     0.000000\n",
              "new_vaccinations                               0.000000\n",
              "date                                           0.000000\n",
              "location                                       0.000000\n",
              "new_deaths                                     0.000000\n",
              "new_cases                                      0.000000\n",
              "iso_code                                       0.000000\n",
              "dtype: float64"
            ]
          },
          "metadata": {},
          "execution_count": 12
        }
      ]
    },
    {
      "cell_type": "markdown",
      "metadata": {
        "id": "YUEpJ-aljcjj"
      },
      "source": [
        "Para realizar as algumas análises, onde o foco esta nos dados dos países individualmente, realizarei uma filtragem nos dados e criarei um Dataframe específico para estes casos, não incluindo as linhas onde a informação na coluna `iso_code` possua na sua composição a palavra `OWID_`.\n",
        "\n",
        "Estes registros não se referem a números somente de um determinado país, e sim de um continente ou coletados no mundo todo.\n",
        "\n",
        "Ex.:\n",
        "\n",
        "*   **OWID_WRL**, a qual se refere a localização **World**.\n",
        "*   **OWID_AFR**, a qual se refere ao continente **Africano**.\n",
        "*   **OWID_OCE**, a qual se refere a **Oceania**.\n",
        "\n",
        "\n",
        "\n"
      ]
    },
    {
      "cell_type": "code",
      "source": [
        "# Dataframe contendo somente dados individuais dos paises.\n",
        "df_paises = df_owd.loc[(~df_owd.iso_code.str.contains('OWID_', case=True, regex=False))].copy()"
      ],
      "metadata": {
        "id": "XtIYHc0KsMRf"
      },
      "execution_count": null,
      "outputs": []
    },
    {
      "cell_type": "code",
      "source": [
        "# Dataframe com os dados agrupados do mundo.\n",
        "df_mundo = df_owd.loc[df_owd.location == 'World'].copy()"
      ],
      "metadata": {
        "id": "OBmiMK-uvdv3"
      },
      "execution_count": null,
      "outputs": []
    },
    {
      "cell_type": "markdown",
      "source": [
        "Ainda em relação a coluna `date`, para realizar as pesquisas com referência a data mais recente `date.max()`, utilizarei a semana anterior a data máxima registrada na base de dados.\n",
        "Com isso, existe a maior possibilidade que a coleta de informações estar mais completa com o fechamento do dia."
      ],
      "metadata": {
        "id": "YbvcgbY6cCCW"
      }
    },
    {
      "cell_type": "code",
      "source": [
        "# Data maxima para consulta dos dados\n",
        "data_max_consulta = (df_owd.date.max() - pd.to_timedelta(6, unit='D')).strftime('%Y-%m-%d')\n",
        "print('Data máxima para consulta: ',data_max_consulta)\n",
        "\n",
        "data_max_exibicao = (df_owd.date.max() - pd.to_timedelta(6, unit='D')).strftime('%d/%m/%Y')\n",
        "print('Data máxima para exibição: ',data_max_exibicao)"
      ],
      "metadata": {
        "colab": {
          "base_uri": "https://localhost:8080/"
        },
        "id": "0Bzx-jyhwUTp",
        "outputId": "56febc13-b8f5-41f8-b6c8-591708e59b6e"
      },
      "execution_count": null,
      "outputs": [
        {
          "output_type": "stream",
          "name": "stdout",
          "text": [
            "Data máxima para consulta:  2023-03-29\n",
            "Data máxima para exibição:  29/03/2023\n"
          ]
        }
      ]
    },
    {
      "cell_type": "markdown",
      "source": [
        "# Análise exploratória para o Mundo."
      ],
      "metadata": {
        "id": "9ME5BUfRxn9E"
      }
    },
    {
      "cell_type": "markdown",
      "source": [
        "**Quais os países com maior número de casos confirmados de COVID-19?**"
      ],
      "metadata": {
        "id": "tNtQRebnyjD-"
      }
    },
    {
      "cell_type": "code",
      "metadata": {
        "colab": {
          "base_uri": "https://localhost:8080/",
          "height": 237
        },
        "id": "6aKC0tc5VG5q",
        "outputId": "81b3036c-902a-4410-b437-418208c6be76"
      },
      "source": [
        "# Lista os paises com mais casos registrados\n",
        "df_paises.total_cases.fillna(0,inplace=True)\n",
        "df_paises.loc[(df_paises.date == data_max_consulta), ['iso_code','continent','location','date','total_cases']].sort_values(by=\"total_cases\",ascending=False)[0:6]"
      ],
      "execution_count": null,
      "outputs": [
        {
          "output_type": "execute_result",
          "data": {
            "text/plain": [
              "       iso_code      continent       location       date  total_cases\n",
              "282760      USA  North America  United States 2023-03-29  102697566.0\n",
              "53228       CHN           Asia          China 2023-03-29   99238143.0\n",
              "120558      IND           Asia          India 2023-03-29   44707525.0\n",
              "91009       FRA         Europe         France 2023-03-29   38677413.0\n",
              "98105       DEU         Europe        Germany 2023-03-29   38338298.0\n",
              "36670       BRA  South America         Brazil 2023-03-29   37204677.0"
            ],
            "text/html": [
              "\n",
              "  <div id=\"df-d0f37ab2-4f4c-4601-8bfb-942887f9fcb2\">\n",
              "    <div class=\"colab-df-container\">\n",
              "      <div>\n",
              "<style scoped>\n",
              "    .dataframe tbody tr th:only-of-type {\n",
              "        vertical-align: middle;\n",
              "    }\n",
              "\n",
              "    .dataframe tbody tr th {\n",
              "        vertical-align: top;\n",
              "    }\n",
              "\n",
              "    .dataframe thead th {\n",
              "        text-align: right;\n",
              "    }\n",
              "</style>\n",
              "<table border=\"1\" class=\"dataframe\">\n",
              "  <thead>\n",
              "    <tr style=\"text-align: right;\">\n",
              "      <th></th>\n",
              "      <th>iso_code</th>\n",
              "      <th>continent</th>\n",
              "      <th>location</th>\n",
              "      <th>date</th>\n",
              "      <th>total_cases</th>\n",
              "    </tr>\n",
              "  </thead>\n",
              "  <tbody>\n",
              "    <tr>\n",
              "      <th>282760</th>\n",
              "      <td>USA</td>\n",
              "      <td>North America</td>\n",
              "      <td>United States</td>\n",
              "      <td>2023-03-29</td>\n",
              "      <td>102697566.0</td>\n",
              "    </tr>\n",
              "    <tr>\n",
              "      <th>53228</th>\n",
              "      <td>CHN</td>\n",
              "      <td>Asia</td>\n",
              "      <td>China</td>\n",
              "      <td>2023-03-29</td>\n",
              "      <td>99238143.0</td>\n",
              "    </tr>\n",
              "    <tr>\n",
              "      <th>120558</th>\n",
              "      <td>IND</td>\n",
              "      <td>Asia</td>\n",
              "      <td>India</td>\n",
              "      <td>2023-03-29</td>\n",
              "      <td>44707525.0</td>\n",
              "    </tr>\n",
              "    <tr>\n",
              "      <th>91009</th>\n",
              "      <td>FRA</td>\n",
              "      <td>Europe</td>\n",
              "      <td>France</td>\n",
              "      <td>2023-03-29</td>\n",
              "      <td>38677413.0</td>\n",
              "    </tr>\n",
              "    <tr>\n",
              "      <th>98105</th>\n",
              "      <td>DEU</td>\n",
              "      <td>Europe</td>\n",
              "      <td>Germany</td>\n",
              "      <td>2023-03-29</td>\n",
              "      <td>38338298.0</td>\n",
              "    </tr>\n",
              "    <tr>\n",
              "      <th>36670</th>\n",
              "      <td>BRA</td>\n",
              "      <td>South America</td>\n",
              "      <td>Brazil</td>\n",
              "      <td>2023-03-29</td>\n",
              "      <td>37204677.0</td>\n",
              "    </tr>\n",
              "  </tbody>\n",
              "</table>\n",
              "</div>\n",
              "      <button class=\"colab-df-convert\" onclick=\"convertToInteractive('df-d0f37ab2-4f4c-4601-8bfb-942887f9fcb2')\"\n",
              "              title=\"Convert this dataframe to an interactive table.\"\n",
              "              style=\"display:none;\">\n",
              "        \n",
              "  <svg xmlns=\"http://www.w3.org/2000/svg\" height=\"24px\"viewBox=\"0 0 24 24\"\n",
              "       width=\"24px\">\n",
              "    <path d=\"M0 0h24v24H0V0z\" fill=\"none\"/>\n",
              "    <path d=\"M18.56 5.44l.94 2.06.94-2.06 2.06-.94-2.06-.94-.94-2.06-.94 2.06-2.06.94zm-11 1L8.5 8.5l.94-2.06 2.06-.94-2.06-.94L8.5 2.5l-.94 2.06-2.06.94zm10 10l.94 2.06.94-2.06 2.06-.94-2.06-.94-.94-2.06-.94 2.06-2.06.94z\"/><path d=\"M17.41 7.96l-1.37-1.37c-.4-.4-.92-.59-1.43-.59-.52 0-1.04.2-1.43.59L10.3 9.45l-7.72 7.72c-.78.78-.78 2.05 0 2.83L4 21.41c.39.39.9.59 1.41.59.51 0 1.02-.2 1.41-.59l7.78-7.78 2.81-2.81c.8-.78.8-2.07 0-2.86zM5.41 20L4 18.59l7.72-7.72 1.47 1.35L5.41 20z\"/>\n",
              "  </svg>\n",
              "      </button>\n",
              "      \n",
              "  <style>\n",
              "    .colab-df-container {\n",
              "      display:flex;\n",
              "      flex-wrap:wrap;\n",
              "      gap: 12px;\n",
              "    }\n",
              "\n",
              "    .colab-df-convert {\n",
              "      background-color: #E8F0FE;\n",
              "      border: none;\n",
              "      border-radius: 50%;\n",
              "      cursor: pointer;\n",
              "      display: none;\n",
              "      fill: #1967D2;\n",
              "      height: 32px;\n",
              "      padding: 0 0 0 0;\n",
              "      width: 32px;\n",
              "    }\n",
              "\n",
              "    .colab-df-convert:hover {\n",
              "      background-color: #E2EBFA;\n",
              "      box-shadow: 0px 1px 2px rgba(60, 64, 67, 0.3), 0px 1px 3px 1px rgba(60, 64, 67, 0.15);\n",
              "      fill: #174EA6;\n",
              "    }\n",
              "\n",
              "    [theme=dark] .colab-df-convert {\n",
              "      background-color: #3B4455;\n",
              "      fill: #D2E3FC;\n",
              "    }\n",
              "\n",
              "    [theme=dark] .colab-df-convert:hover {\n",
              "      background-color: #434B5C;\n",
              "      box-shadow: 0px 1px 3px 1px rgba(0, 0, 0, 0.15);\n",
              "      filter: drop-shadow(0px 1px 2px rgba(0, 0, 0, 0.3));\n",
              "      fill: #FFFFFF;\n",
              "    }\n",
              "  </style>\n",
              "\n",
              "      <script>\n",
              "        const buttonEl =\n",
              "          document.querySelector('#df-d0f37ab2-4f4c-4601-8bfb-942887f9fcb2 button.colab-df-convert');\n",
              "        buttonEl.style.display =\n",
              "          google.colab.kernel.accessAllowed ? 'block' : 'none';\n",
              "\n",
              "        async function convertToInteractive(key) {\n",
              "          const element = document.querySelector('#df-d0f37ab2-4f4c-4601-8bfb-942887f9fcb2');\n",
              "          const dataTable =\n",
              "            await google.colab.kernel.invokeFunction('convertToInteractive',\n",
              "                                                     [key], {});\n",
              "          if (!dataTable) return;\n",
              "\n",
              "          const docLinkHtml = 'Like what you see? Visit the ' +\n",
              "            '<a target=\"_blank\" href=https://colab.research.google.com/notebooks/data_table.ipynb>data table notebook</a>'\n",
              "            + ' to learn more about interactive tables.';\n",
              "          element.innerHTML = '';\n",
              "          dataTable['output_type'] = 'display_data';\n",
              "          await google.colab.output.renderOutput(dataTable, element);\n",
              "          const docLink = document.createElement('div');\n",
              "          docLink.innerHTML = docLinkHtml;\n",
              "          element.appendChild(docLink);\n",
              "        }\n",
              "      </script>\n",
              "    </div>\n",
              "  </div>\n",
              "  "
            ]
          },
          "metadata": {},
          "execution_count": 16
        }
      ]
    },
    {
      "cell_type": "code",
      "source": [
        "top_total_cases = df_paises.loc[(df_paises.date == data_max_consulta), ['location','total_cases']].sort_values(by=\"total_cases\",ascending=False)[0:6]\n",
        "\n",
        "# Plotar um gráfico de barras para os países com mais mortes\n",
        "fig, ax = plt.subplots(figsize=(14,8), dpi=72)\n",
        "cmap = sns.color_palette(\"OrRd\", n_colors=6)\n",
        "cmap.reverse()\n",
        "\n",
        "ax = top_total_cases.plot.bar(x=\"location\", y=\"total_cases\", color=cmap, ax=ax, xlabel=\"\" , ylabel=\"\")\n",
        "\n",
        "# title\n",
        "ax.text(-0.5, 120000000,'Países com maior número de casos confirmados de Covid', fontsize=20, color=\"#515151\", fontweight='bold')\n",
        "ax.text(-0.5, 110000000,'Os países que mais acumulam casos de COVID-19 no mundo' + ' até ' + data_max_exibicao + ',\\n'\n",
        "          'de acordo com os dados do Our World in Data.', fontsize=12, color=\"#9E9E9E\")\n",
        "\n",
        "# remover spines da direita e superior\n",
        "ax.spines['right'].set_visible(False)\n",
        "ax.spines['top'].set_visible(False)\n",
        "ax.spines['left'].set_visible(False)\n",
        "ax.spines['bottom'].set_visible(False)\n",
        "ax.get_legend().remove()\n",
        "\n",
        "# remover yticks e yticklabels\n",
        "ax.set_yticklabels(labels=[], visible=False)\n",
        "ax.set_yticks(ticks=[])\n",
        "ax.set_xticklabels(ax.get_xticklabels(), rotation = -360, ha=\"center\", va='top', fontsize=12)\n",
        "\n",
        "# anotações nos pontos de scatter\n",
        "for i, j in enumerate(top_total_cases[\"total_cases\"]):\n",
        "    ax.annotate(\n",
        "        '{:,.0f}'.format(j).replace(',','.'),\n",
        "        xy=(i, j),\n",
        "        xytext=(-35,5),\n",
        "        textcoords='offset points',\n",
        "        fontsize=12,\n",
        "        fontweight='medium'\n",
        "    )\n",
        "\n",
        "plt.tight_layout()"
      ],
      "metadata": {
        "colab": {
          "base_uri": "https://localhost:8080/",
          "height": 588
        },
        "id": "0qWlSG7Vx0e0",
        "outputId": "668769b6-298b-4c3b-bb4f-fab89e39ba77"
      },
      "execution_count": null,
      "outputs": [
        {
          "output_type": "display_data",
          "data": {
            "text/plain": [
              "<Figure size 1008x576 with 1 Axes>"
            ],
            "image/png": "[encoded data removed]"
          },
          "metadata": {}
        }
      ]
    },
    {
      "cell_type": "markdown",
      "source": [
        "**Quais os países com o maior número de mortes causadas pela COVID-19?**"
      ],
      "metadata": {
        "id": "UlB4eHozy16m"
      }
    },
    {
      "cell_type": "code",
      "metadata": {
        "colab": {
          "base_uri": "https://localhost:8080/",
          "height": 237
        },
        "id": "V_1sjaE-bPvf",
        "outputId": "07038f61-1926-4692-c806-f1ff83f44daf"
      },
      "source": [
        "# Lista os países com maior casos de morte\n",
        "df_paises.loc[(df_paises.date == data_max_consulta), ['iso_code','continent','location','date','total_deaths'] ].sort_values(by=\"total_deaths\",ascending=False)[0:6]"
      ],
      "execution_count": null,
      "outputs": [
        {
          "output_type": "execute_result",
          "data": {
            "text/plain": [
              "       iso_code      continent       location       date  total_deaths\n",
              "282760      USA  North America  United States 2023-03-29     1117054.0\n",
              "36670       BRA  South America         Brazil 2023-03-29      699917.0\n",
              "120558      IND           Asia          India 2023-03-29      530841.0\n",
              "220160      RUS         Europe         Russia 2023-03-29      397146.0\n",
              "168666      MEX  North America         Mexico 2023-03-29      333449.0\n",
              "209514      PER  South America           Peru 2023-03-29      219741.0"
            ],
            "text/html": [
              "\n",
              "  <div id=\"df-d2299fbe-ed32-4bca-a54b-3f2e0ca7c782\">\n",
              "    <div class=\"colab-df-container\">\n",
              "      <div>\n",
              "<style scoped>\n",
              "    .dataframe tbody tr th:only-of-type {\n",
              "        vertical-align: middle;\n",
              "    }\n",
              "\n",
              "    .dataframe tbody tr th {\n",
              "        vertical-align: top;\n",
              "    }\n",
              "\n",
              "    .dataframe thead th {\n",
              "        text-align: right;\n",
              "    }\n",
              "</style>\n",
              "<table border=\"1\" class=\"dataframe\">\n",
              "  <thead>\n",
              "    <tr style=\"text-align: right;\">\n",
              "      <th></th>\n",
              "      <th>iso_code</th>\n",
              "      <th>continent</th>\n",
              "      <th>location</th>\n",
              "      <th>date</th>\n",
              "      <th>total_deaths</th>\n",
              "    </tr>\n",
              "  </thead>\n",
              "  <tbody>\n",
              "    <tr>\n",
              "      <th>282760</th>\n",
              "      <td>USA</td>\n",
              "      <td>North America</td>\n",
              "      <td>United States</td>\n",
              "      <td>2023-03-29</td>\n",
              "      <td>1117054.0</td>\n",
              "    </tr>\n",
              "    <tr>\n",
              "      <th>36670</th>\n",
              "      <td>BRA</td>\n",
              "      <td>South America</td>\n",
              "      <td>Brazil</td>\n",
              "      <td>2023-03-29</td>\n",
              "      <td>699917.0</td>\n",
              "    </tr>\n",
              "    <tr>\n",
              "      <th>120558</th>\n",
              "      <td>IND</td>\n",
              "      <td>Asia</td>\n",
              "      <td>India</td>\n",
              "      <td>2023-03-29</td>\n",
              "      <td>530841.0</td>\n",
              "    </tr>\n",
              "    <tr>\n",
              "      <th>220160</th>\n",
              "      <td>RUS</td>\n",
              "      <td>Europe</td>\n",
              "      <td>Russia</td>\n",
              "      <td>2023-03-29</td>\n",
              "      <td>397146.0</td>\n",
              "    </tr>\n",
              "    <tr>\n",
              "      <th>168666</th>\n",
              "      <td>MEX</td>\n",
              "      <td>North America</td>\n",
              "      <td>Mexico</td>\n",
              "      <td>2023-03-29</td>\n",
              "      <td>333449.0</td>\n",
              "    </tr>\n",
              "    <tr>\n",
              "      <th>209514</th>\n",
              "      <td>PER</td>\n",
              "      <td>South America</td>\n",
              "      <td>Peru</td>\n",
              "      <td>2023-03-29</td>\n",
              "      <td>219741.0</td>\n",
              "    </tr>\n",
              "  </tbody>\n",
              "</table>\n",
              "</div>\n",
              "      <button class=\"colab-df-convert\" onclick=\"convertToInteractive('df-d2299fbe-ed32-4bca-a54b-3f2e0ca7c782')\"\n",
              "              title=\"Convert this dataframe to an interactive table.\"\n",
              "              style=\"display:none;\">\n",
              "        \n",
              "  <svg xmlns=\"http://www.w3.org/2000/svg\" height=\"24px\"viewBox=\"0 0 24 24\"\n",
              "       width=\"24px\">\n",
              "    <path d=\"M0 0h24v24H0V0z\" fill=\"none\"/>\n",
              "    <path d=\"M18.56 5.44l.94 2.06.94-2.06 2.06-.94-2.06-.94-.94-2.06-.94 2.06-2.06.94zm-11 1L8.5 8.5l.94-2.06 2.06-.94-2.06-.94L8.5 2.5l-.94 2.06-2.06.94zm10 10l.94 2.06.94-2.06 2.06-.94-2.06-.94-.94-2.06-.94 2.06-2.06.94z\"/><path d=\"M17.41 7.96l-1.37-1.37c-.4-.4-.92-.59-1.43-.59-.52 0-1.04.2-1.43.59L10.3 9.45l-7.72 7.72c-.78.78-.78 2.05 0 2.83L4 21.41c.39.39.9.59 1.41.59.51 0 1.02-.2 1.41-.59l7.78-7.78 2.81-2.81c.8-.78.8-2.07 0-2.86zM5.41 20L4 18.59l7.72-7.72 1.47 1.35L5.41 20z\"/>\n",
              "  </svg>\n",
              "      </button>\n",
              "      \n",
              "  <style>\n",
              "    .colab-df-container {\n",
              "      display:flex;\n",
              "      flex-wrap:wrap;\n",
              "      gap: 12px;\n",
              "    }\n",
              "\n",
              "    .colab-df-convert {\n",
              "      background-color: #E8F0FE;\n",
              "      border: none;\n",
              "      border-radius: 50%;\n",
              "      cursor: pointer;\n",
              "      display: none;\n",
              "      fill: #1967D2;\n",
              "      height: 32px;\n",
              "      padding: 0 0 0 0;\n",
              "      width: 32px;\n",
              "    }\n",
              "\n",
              "    .colab-df-convert:hover {\n",
              "      background-color: #E2EBFA;\n",
              "      box-shadow: 0px 1px 2px rgba(60, 64, 67, 0.3), 0px 1px 3px 1px rgba(60, 64, 67, 0.15);\n",
              "      fill: #174EA6;\n",
              "    }\n",
              "\n",
              "    [theme=dark] .colab-df-convert {\n",
              "      background-color: #3B4455;\n",
              "      fill: #D2E3FC;\n",
              "    }\n",
              "\n",
              "    [theme=dark] .colab-df-convert:hover {\n",
              "      background-color: #434B5C;\n",
              "      box-shadow: 0px 1px 3px 1px rgba(0, 0, 0, 0.15);\n",
              "      filter: drop-shadow(0px 1px 2px rgba(0, 0, 0, 0.3));\n",
              "      fill: #FFFFFF;\n",
              "    }\n",
              "  </style>\n",
              "\n",
              "      <script>\n",
              "        const buttonEl =\n",
              "          document.querySelector('#df-d2299fbe-ed32-4bca-a54b-3f2e0ca7c782 button.colab-df-convert');\n",
              "        buttonEl.style.display =\n",
              "          google.colab.kernel.accessAllowed ? 'block' : 'none';\n",
              "\n",
              "        async function convertToInteractive(key) {\n",
              "          const element = document.querySelector('#df-d2299fbe-ed32-4bca-a54b-3f2e0ca7c782');\n",
              "          const dataTable =\n",
              "            await google.colab.kernel.invokeFunction('convertToInteractive',\n",
              "                                                     [key], {});\n",
              "          if (!dataTable) return;\n",
              "\n",
              "          const docLinkHtml = 'Like what you see? Visit the ' +\n",
              "            '<a target=\"_blank\" href=https://colab.research.google.com/notebooks/data_table.ipynb>data table notebook</a>'\n",
              "            + ' to learn more about interactive tables.';\n",
              "          element.innerHTML = '';\n",
              "          dataTable['output_type'] = 'display_data';\n",
              "          await google.colab.output.renderOutput(dataTable, element);\n",
              "          const docLink = document.createElement('div');\n",
              "          docLink.innerHTML = docLinkHtml;\n",
              "          element.appendChild(docLink);\n",
              "        }\n",
              "      </script>\n",
              "    </div>\n",
              "  </div>\n",
              "  "
            ]
          },
          "metadata": {},
          "execution_count": 54
        }
      ]
    },
    {
      "cell_type": "code",
      "metadata": {
        "colab": {
          "base_uri": "https://localhost:8080/",
          "height": 588
        },
        "id": "yHCk-EZholyg",
        "outputId": "1692f6e0-dc62-4573-9b11-7725a35d9093"
      },
      "source": [
        "top_total_deaths = df_paises.loc[(df_paises.date == data_max_consulta), ['location', 'total_deaths']].sort_values(by=\"total_deaths\", ascending=False)[0:6]\n",
        "\n",
        "# Plotar um gráfico de barras para os 5 países com mais mortes\n",
        "fig, ax = plt.subplots(figsize=(14,8), dpi=72)\n",
        "cmap = sns.color_palette(\"OrRd\", n_colors=6)\n",
        "cmap.reverse()\n",
        "\n",
        "ax = top_total_deaths.plot.bar(x=\"location\", y=\"total_deaths\", color=cmap, ax=ax, xlabel=\"\" , ylabel=\"\")\n",
        "\n",
        "# title\n",
        "ax.text(-0.5, 1300000,'Países com maior número de mortes por Covid', fontsize=20, color=\"#515151\", fontweight='bold')\n",
        "ax.text(-0.5, 1180000,'Os países que mais acumulam mortes por COVID-19 no mundo' + ' até ' + data_max_exibicao + ',\\n'\n",
        "          'de acordo com os dados do Our World in Data.', fontsize=12, color=\"#9E9E9E\")\n",
        "\n",
        "# remover spines da direita e superior\n",
        "ax.spines['right'].set_visible(False)\n",
        "ax.spines['top'].set_visible(False)\n",
        "ax.spines['left'].set_visible(False)\n",
        "ax.spines['bottom'].set_visible(False)\n",
        "ax.get_legend().remove()\n",
        "\n",
        "# remover yticks e yticklabels\n",
        "ax.set_yticklabels(labels=[], visible=False)\n",
        "ax.set_yticks(ticks=[])\n",
        "ax.set_xticklabels(ax.get_xticklabels(), rotation = -360, ha=\"center\", va='top', fontsize=12)\n",
        "\n",
        "# anotações nos pontos de scatter\n",
        "for i, j in enumerate(top_total_deaths[\"total_deaths\"]):\n",
        "    ax.annotate(\n",
        "        '{:,.0f}'.format(j).replace(',','.'),\n",
        "        xy=(i, j),\n",
        "        xytext=(-25,5),\n",
        "        textcoords='offset points',\n",
        "        fontsize=12,\n",
        "        fontweight='medium'\n",
        "    )\n",
        "plt.tight_layout()"
      ],
      "execution_count": null,
      "outputs": [
        {
          "output_type": "display_data",
          "data": {
            "text/plain": [
              "<Figure size 1008x576 with 1 Axes>"
            ],
            "image/png": "[encoded data removed]"
          },
          "metadata": {}
        }
      ]
    },
    {
      "cell_type": "markdown",
      "source": [
        "Os resultados com os dados das ultimas atualizações mostram, que nas pesquisas sobre os países com mais casos registrados e também com mais casos de morte por COVID-19, os países que sempre figuram são:\n",
        "\n",
        "*   Estados Unidos\n",
        "*   Brasil\n",
        "*   India\n",
        "\n",
        "Todos esses países possuem grande extensão territorial e população, podendo refletir na alta quantidade de casos e mortes registradas.\n",
        "\n",
        "\n"
      ],
      "metadata": {
        "id": "08L2-hX-Vrvi"
      }
    },
    {
      "cell_type": "markdown",
      "source": [
        "**Como seria o cenário se verificarmos a quantidade de mortes e casos confirmados por Covid-19 por milhão de habitantes?**\n",
        "\n",
        "Outra análise que podemos realizar, é verificar novamente os paises com maior número de casos e mortes por COVID-19, porem uilizando a relação com os atributos `total_deaths_per_million` e `total_cases_per_million`.\n",
        "\n",
        "Nesse caso o calculo é realizado com o registro mais atual do nosso Dataset com a soma de todos os óbitos ou casos confirmados associados a COVID-19 (`total_deaths` ou `total_cases`), dividido pela população (`population`) e multiplicado por 1.000.000 = taxa de óbitos ou casos confirmados por COVID-19 por milhão de habitantes (`total_deaths_per_million` ou `total_cases_per_million`)."
      ],
      "metadata": {
        "id": "qsEc4GpDFrgE"
      }
    },
    {
      "cell_type": "markdown",
      "source": [
        "Vamos verificar quais coeficientes de correlação esses dois atributos  (`total_deaths_per_million` e `total_cases_per_million`) possuem com as demais colunas em nosso Dataset."
      ],
      "metadata": {
        "id": "x5Ab257sOVEp"
      }
    },
    {
      "cell_type": "code",
      "source": [
        "print('Coeficiente de correlação dos atributos com total_cases_per_million (Total de casos confirmados por milhão de habitantes):')\n",
        "corr_cases_per_million = df_paises.corr()\n",
        "corr_cases_per_million['total_cases_per_million'].sort_values(ascending=False)[1:]"
      ],
      "metadata": {
        "colab": {
          "base_uri": "https://localhost:8080/"
        },
        "id": "XBY640CSLmbl",
        "outputId": "2b17471a-9baf-48f0-91c4-891df1a7104c"
      },
      "execution_count": null,
      "outputs": [
        {
          "output_type": "stream",
          "name": "stdout",
          "text": [
            "Coeficiente de correlação dos atributos com total_cases_per_million (Total de casos confirmados por milhão de habitantes):\n"
          ]
        },
        {
          "output_type": "execute_result",
          "data": {
            "text/plain": [
              "total_deaths_per_million                      0.572631\n",
              "human_development_index                       0.464703\n",
              "median_age                                    0.447523\n",
              "aged_65_older                                 0.431889\n",
              "aged_70_older                                 0.426695\n",
              "life_expectancy                               0.407172\n",
              "female_smokers                                0.389082\n",
              "gdp_per_capita                                0.374660\n",
              "hospital_beds_per_thousand                    0.267477\n",
              "new_cases_smoothed_per_million                0.246070\n",
              "total_cases                                   0.194713\n",
              "new_cases_per_million                         0.131756\n",
              "population_density                            0.093481\n",
              "total_deaths                                  0.083606\n",
              "diabetes_prevalence                           0.073001\n",
              "male_smokers                                  0.059888\n",
              "new_deaths_smoothed_per_million               0.054689\n",
              "new_deaths_per_million                        0.031115\n",
              "new_cases_smoothed                            0.030413\n",
              "new_cases                                     0.027307\n",
              "new_deaths                                   -0.017178\n",
              "new_deaths_smoothed                          -0.017286\n",
              "new_vaccinations                             -0.029320\n",
              "reproduction_rate                            -0.034698\n",
              "new_vaccinations_smoothed                    -0.069548\n",
              "total_vaccinations                           -0.072295\n",
              "new_people_vaccinated_smoothed               -0.078442\n",
              "population                                   -0.088268\n",
              "new_vaccinations_smoothed_per_million        -0.128122\n",
              "new_people_vaccinated_smoothed_per_hundred   -0.182700\n",
              "cardiovasc_death_rate                        -0.233361\n",
              "stringency_index                             -0.417794\n",
              "Name: total_cases_per_million, dtype: float64"
            ]
          },
          "metadata": {},
          "execution_count": 58
        }
      ]
    },
    {
      "cell_type": "code",
      "source": [
        "print('Coeficiente de correlação dos atributos com total_deaths_per_million (Total de mortes confirmadas por milhão de habitantes):')\n",
        "corr_deaths_per_million = df_paises.corr()\n",
        "corr_deaths_per_million['total_deaths_per_million'].sort_values(ascending=False)[1:]"
      ],
      "metadata": {
        "colab": {
          "base_uri": "https://localhost:8080/"
        },
        "id": "Twpk6HXGMyNi",
        "outputId": "5ad7404c-2bf8-4e58-acca-c3f7c31a9ab6"
      },
      "execution_count": null,
      "outputs": [
        {
          "output_type": "stream",
          "name": "stdout",
          "text": [
            "Coeficiente de correlação dos atributos com total_deaths_per_million (Total de mortes confirmadas por milhão de habitantes):\n"
          ]
        },
        {
          "output_type": "execute_result",
          "data": {
            "text/plain": [
              "total_cases_per_million                       0.572631\n",
              "median_age                                    0.461706\n",
              "aged_65_older                                 0.451259\n",
              "aged_70_older                                 0.450989\n",
              "female_smokers                                0.439322\n",
              "human_development_index                       0.422431\n",
              "life_expectancy                               0.363989\n",
              "total_deaths                                  0.317187\n",
              "hospital_beds_per_thousand                    0.260175\n",
              "total_cases                                   0.233687\n",
              "new_deaths_smoothed_per_million               0.199498\n",
              "gdp_per_capita                                0.178157\n",
              "new_cases_smoothed_per_million                0.145130\n",
              "male_smokers                                  0.119336\n",
              "new_deaths_per_million                        0.117343\n",
              "new_deaths_smoothed                           0.091010\n",
              "new_cases_per_million                         0.087116\n",
              "new_deaths                                    0.082071\n",
              "new_cases_smoothed                            0.035641\n",
              "new_cases                                     0.033465\n",
              "diabetes_prevalence                           0.032449\n",
              "reproduction_rate                             0.017597\n",
              "population_density                            0.008667\n",
              "new_vaccinations                             -0.007444\n",
              "new_vaccinations_smoothed_per_million        -0.014825\n",
              "new_vaccinations_smoothed                    -0.042381\n",
              "new_people_vaccinated_smoothed               -0.044989\n",
              "population                                   -0.066914\n",
              "new_people_vaccinated_smoothed_per_hundred   -0.074806\n",
              "total_vaccinations                           -0.083779\n",
              "cardiovasc_death_rate                        -0.123691\n",
              "stringency_index                             -0.292275\n",
              "Name: total_deaths_per_million, dtype: float64"
            ]
          },
          "metadata": {},
          "execution_count": 59
        }
      ]
    },
    {
      "cell_type": "markdown",
      "source": [
        "Analisando as informações acima, podemos verificar que as correlações que se destacaram foram sobre dados populacionais:\n",
        "\n",
        "*   median_age: idade média da população\n",
        "*   female_smokers: percentual de mulheres fumantes\n",
        "*   aged_65_older: Parcela da população com 65 anos ou mais\n",
        "*   aged_70_older: Parcela da população com 75 anos ou mais\n",
        "*   human_development_index: IDH da população"
      ],
      "metadata": {
        "id": "8qK-PRdbPXdv"
      }
    },
    {
      "cell_type": "markdown",
      "source": [
        "**Quais os 5 países com maior número de casos confirmados de COVID-19 por milhão de habitantes?**"
      ],
      "metadata": {
        "id": "ISI92mJoGi0g"
      }
    },
    {
      "cell_type": "code",
      "source": [
        "df_paises.loc[(df_paises.date == data_max_consulta), ['iso_code','continent','location','date','total_cases_per_million']].sort_values(by=\"total_cases_per_million\",ascending=False)[0:5]"
      ],
      "metadata": {
        "colab": {
          "base_uri": "https://localhost:8080/",
          "height": 206
        },
        "id": "K2P5R8RVqIBD",
        "outputId": "70487e68-3ba2-49f5-a0bd-b246198371fe"
      },
      "execution_count": null,
      "outputs": [
        {
          "output_type": "execute_result",
          "data": {
            "text/plain": [
              "       iso_code continent        location       date  total_cases_per_million\n",
              "65056       CYP    Europe          Cyprus 2023-03-29               730701.881\n",
              "231985      SMR    Europe      San Marino 2023-03-29               706381.716\n",
              "17746       AUT    Europe         Austria 2023-03-29               673952.251\n",
              "86276       FRO    Europe  Faeroe Islands 2023-03-29               652484.139\n",
              "244926      SVN    Europe        Slovenia 2023-03-29               631517.523"
            ],
            "text/html": [
              "\n",
              "  <div id=\"df-2391ee86-d1e9-4377-ba6c-3d57b0845d5f\">\n",
              "    <div class=\"colab-df-container\">\n",
              "      <div>\n",
              "<style scoped>\n",
              "    .dataframe tbody tr th:only-of-type {\n",
              "        vertical-align: middle;\n",
              "    }\n",
              "\n",
              "    .dataframe tbody tr th {\n",
              "        vertical-align: top;\n",
              "    }\n",
              "\n",
              "    .dataframe thead th {\n",
              "        text-align: right;\n",
              "    }\n",
              "</style>\n",
              "<table border=\"1\" class=\"dataframe\">\n",
              "  <thead>\n",
              "    <tr style=\"text-align: right;\">\n",
              "      <th></th>\n",
              "      <th>iso_code</th>\n",
              "      <th>continent</th>\n",
              "      <th>location</th>\n",
              "      <th>date</th>\n",
              "      <th>total_cases_per_million</th>\n",
              "    </tr>\n",
              "  </thead>\n",
              "  <tbody>\n",
              "    <tr>\n",
              "      <th>65056</th>\n",
              "      <td>CYP</td>\n",
              "      <td>Europe</td>\n",
              "      <td>Cyprus</td>\n",
              "      <td>2023-03-29</td>\n",
              "      <td>730701.881</td>\n",
              "    </tr>\n",
              "    <tr>\n",
              "      <th>231985</th>\n",
              "      <td>SMR</td>\n",
              "      <td>Europe</td>\n",
              "      <td>San Marino</td>\n",
              "      <td>2023-03-29</td>\n",
              "      <td>706381.716</td>\n",
              "    </tr>\n",
              "    <tr>\n",
              "      <th>17746</th>\n",
              "      <td>AUT</td>\n",
              "      <td>Europe</td>\n",
              "      <td>Austria</td>\n",
              "      <td>2023-03-29</td>\n",
              "      <td>673952.251</td>\n",
              "    </tr>\n",
              "    <tr>\n",
              "      <th>86276</th>\n",
              "      <td>FRO</td>\n",
              "      <td>Europe</td>\n",
              "      <td>Faeroe Islands</td>\n",
              "      <td>2023-03-29</td>\n",
              "      <td>652484.139</td>\n",
              "    </tr>\n",
              "    <tr>\n",
              "      <th>244926</th>\n",
              "      <td>SVN</td>\n",
              "      <td>Europe</td>\n",
              "      <td>Slovenia</td>\n",
              "      <td>2023-03-29</td>\n",
              "      <td>631517.523</td>\n",
              "    </tr>\n",
              "  </tbody>\n",
              "</table>\n",
              "</div>\n",
              "      <button class=\"colab-df-convert\" onclick=\"convertToInteractive('df-2391ee86-d1e9-4377-ba6c-3d57b0845d5f')\"\n",
              "              title=\"Convert this dataframe to an interactive table.\"\n",
              "              style=\"display:none;\">\n",
              "        \n",
              "  <svg xmlns=\"http://www.w3.org/2000/svg\" height=\"24px\"viewBox=\"0 0 24 24\"\n",
              "       width=\"24px\">\n",
              "    <path d=\"M0 0h24v24H0V0z\" fill=\"none\"/>\n",
              "    <path d=\"M18.56 5.44l.94 2.06.94-2.06 2.06-.94-2.06-.94-.94-2.06-.94 2.06-2.06.94zm-11 1L8.5 8.5l.94-2.06 2.06-.94-2.06-.94L8.5 2.5l-.94 2.06-2.06.94zm10 10l.94 2.06.94-2.06 2.06-.94-2.06-.94-.94-2.06-.94 2.06-2.06.94z\"/><path d=\"M17.41 7.96l-1.37-1.37c-.4-.4-.92-.59-1.43-.59-.52 0-1.04.2-1.43.59L10.3 9.45l-7.72 7.72c-.78.78-.78 2.05 0 2.83L4 21.41c.39.39.9.59 1.41.59.51 0 1.02-.2 1.41-.59l7.78-7.78 2.81-2.81c.8-.78.8-2.07 0-2.86zM5.41 20L4 18.59l7.72-7.72 1.47 1.35L5.41 20z\"/>\n",
              "  </svg>\n",
              "      </button>\n",
              "      \n",
              "  <style>\n",
              "    .colab-df-container {\n",
              "      display:flex;\n",
              "      flex-wrap:wrap;\n",
              "      gap: 12px;\n",
              "    }\n",
              "\n",
              "    .colab-df-convert {\n",
              "      background-color: #E8F0FE;\n",
              "      border: none;\n",
              "      border-radius: 50%;\n",
              "      cursor: pointer;\n",
              "      display: none;\n",
              "      fill: #1967D2;\n",
              "      height: 32px;\n",
              "      padding: 0 0 0 0;\n",
              "      width: 32px;\n",
              "    }\n",
              "\n",
              "    .colab-df-convert:hover {\n",
              "      background-color: #E2EBFA;\n",
              "      box-shadow: 0px 1px 2px rgba(60, 64, 67, 0.3), 0px 1px 3px 1px rgba(60, 64, 67, 0.15);\n",
              "      fill: #174EA6;\n",
              "    }\n",
              "\n",
              "    [theme=dark] .colab-df-convert {\n",
              "      background-color: #3B4455;\n",
              "      fill: #D2E3FC;\n",
              "    }\n",
              "\n",
              "    [theme=dark] .colab-df-convert:hover {\n",
              "      background-color: #434B5C;\n",
              "      box-shadow: 0px 1px 3px 1px rgba(0, 0, 0, 0.15);\n",
              "      filter: drop-shadow(0px 1px 2px rgba(0, 0, 0, 0.3));\n",
              "      fill: #FFFFFF;\n",
              "    }\n",
              "  </style>\n",
              "\n",
              "      <script>\n",
              "        const buttonEl =\n",
              "          document.querySelector('#df-2391ee86-d1e9-4377-ba6c-3d57b0845d5f button.colab-df-convert');\n",
              "        buttonEl.style.display =\n",
              "          google.colab.kernel.accessAllowed ? 'block' : 'none';\n",
              "\n",
              "        async function convertToInteractive(key) {\n",
              "          const element = document.querySelector('#df-2391ee86-d1e9-4377-ba6c-3d57b0845d5f');\n",
              "          const dataTable =\n",
              "            await google.colab.kernel.invokeFunction('convertToInteractive',\n",
              "                                                     [key], {});\n",
              "          if (!dataTable) return;\n",
              "\n",
              "          const docLinkHtml = 'Like what you see? Visit the ' +\n",
              "            '<a target=\"_blank\" href=https://colab.research.google.com/notebooks/data_table.ipynb>data table notebook</a>'\n",
              "            + ' to learn more about interactive tables.';\n",
              "          element.innerHTML = '';\n",
              "          dataTable['output_type'] = 'display_data';\n",
              "          await google.colab.output.renderOutput(dataTable, element);\n",
              "          const docLink = document.createElement('div');\n",
              "          docLink.innerHTML = docLinkHtml;\n",
              "          element.appendChild(docLink);\n",
              "        }\n",
              "      </script>\n",
              "    </div>\n",
              "  </div>\n",
              "  "
            ]
          },
          "metadata": {},
          "execution_count": 60
        }
      ]
    },
    {
      "cell_type": "code",
      "source": [
        "top5_total_cases_per_million = df_paises.loc[(df_paises.date == data_max_consulta), ['location','total_cases_per_million']].sort_values(by=\"total_cases_per_million\",ascending=False)[0:5]\n",
        "\n",
        "# Plotar um gráfico de barras para os 5 países com mais mortes\n",
        "fig, ax = plt.subplots(figsize=(14,8), dpi=72)\n",
        "cmap = sns.color_palette(\"OrRd\", n_colors=5)\n",
        "cmap.reverse()\n",
        "\n",
        "ax = top5_total_cases_per_million.plot.bar(x=\"location\", y=\"total_cases_per_million\", color=cmap, ax=ax, xlabel=\"\" , ylabel=\"\")\n",
        "\n",
        "# title\n",
        "ax.text(-0.5, 820000,'Países com maior número de casos de Covid por milhão de habitantes', fontsize=20, color=\"#515151\", fontweight='bold')\n",
        "ax.text(-0.5, 760000,'Os 5 países que mais acumulam casos de COVID-19 no mundo' + ' até ' + data_max_exibicao + ',\\n'\n",
        "          'de acordo com os dados do Our World in Data.', fontsize=12, color=\"#9E9E9E\")\n",
        "\n",
        "# remover spines da direita e superior\n",
        "ax.spines['right'].set_visible(False)\n",
        "ax.spines['top'].set_visible(False)\n",
        "ax.spines['left'].set_visible(False)\n",
        "ax.spines['bottom'].set_visible(False)\n",
        "ax.get_legend().remove()\n",
        "\n",
        "# remover yticks e yticklabels\n",
        "ax.set_yticklabels(labels=[], visible=False)\n",
        "ax.set_yticks(ticks=[])\n",
        "ax.set_xticklabels(ax.get_xticklabels(), rotation = -360, ha=\"center\", va='top', fontsize=12)\n",
        "\n",
        "# anotações nos pontos de scatter\n",
        "for i, j in enumerate(top5_total_cases_per_million[\"total_cases_per_million\"]):\n",
        "    ax.annotate(\n",
        "        '{:,.0f}'.format(j).replace(',','.'),\n",
        "        xy=(i, j),\n",
        "        xytext=(-35,5),\n",
        "        textcoords='offset points',\n",
        "        fontsize=12,\n",
        "        fontweight='medium'\n",
        "    )\n",
        "\n",
        "plt.tight_layout()"
      ],
      "metadata": {
        "colab": {
          "base_uri": "https://localhost:8080/",
          "height": 588
        },
        "id": "_WhnmtlYIik-",
        "outputId": "a0ea8f1b-d475-42f0-d50b-988b53619062"
      },
      "execution_count": null,
      "outputs": [
        {
          "output_type": "display_data",
          "data": {
            "text/plain": [
              "<Figure size 1008x576 with 1 Axes>"
            ],
            "image/png": "[encoded data removed]"
          },
          "metadata": {}
        }
      ]
    },
    {
      "cell_type": "markdown",
      "source": [
        "**Quais os 5 países com o maior número de mortes causadas pela COVID-19 por milhão de habitantes?**"
      ],
      "metadata": {
        "id": "yZIYYekPGQAg"
      }
    },
    {
      "cell_type": "code",
      "source": [
        "df_paises.loc[(df_paises.date == data_max_consulta), ['iso_code','continent','location','date','total_deaths_per_million'] ].sort_values(by=\"total_deaths_per_million\",ascending=False)[0:5]"
      ],
      "metadata": {
        "colab": {
          "base_uri": "https://localhost:8080/",
          "height": 206
        },
        "id": "ApbdJBvlqoCl",
        "outputId": "2a38e0d7-feaa-430d-86a3-dad01a4f1717"
      },
      "execution_count": null,
      "outputs": [
        {
          "output_type": "execute_result",
          "data": {
            "text/plain": [
              "       iso_code      continent                location       date  \\\n",
              "209514      PER  South America                    Peru 2023-03-29   \n",
              "40216       BGR         Europe                Bulgaria 2023-03-29   \n",
              "34306       BIH         Europe  Bosnia and Herzegovina 2023-03-29   \n",
              "118194      HUN         Europe                 Hungary 2023-03-29   \n",
              "194685      MKD         Europe         North Macedonia 2023-03-29   \n",
              "\n",
              "        total_deaths_per_million  \n",
              "209514                  6453.558  \n",
              "40216                   5639.967  \n",
              "34306                   5042.786  \n",
              "118194                  4886.677  \n",
              "194685                  4616.915  "
            ],
            "text/html": [
              "\n",
              "  <div id=\"df-4f08f656-e5c2-4d03-8b2c-346320c9a24b\">\n",
              "    <div class=\"colab-df-container\">\n",
              "      <div>\n",
              "<style scoped>\n",
              "    .dataframe tbody tr th:only-of-type {\n",
              "        vertical-align: middle;\n",
              "    }\n",
              "\n",
              "    .dataframe tbody tr th {\n",
              "        vertical-align: top;\n",
              "    }\n",
              "\n",
              "    .dataframe thead th {\n",
              "        text-align: right;\n",
              "    }\n",
              "</style>\n",
              "<table border=\"1\" class=\"dataframe\">\n",
              "  <thead>\n",
              "    <tr style=\"text-align: right;\">\n",
              "      <th></th>\n",
              "      <th>iso_code</th>\n",
              "      <th>continent</th>\n",
              "      <th>location</th>\n",
              "      <th>date</th>\n",
              "      <th>total_deaths_per_million</th>\n",
              "    </tr>\n",
              "  </thead>\n",
              "  <tbody>\n",
              "    <tr>\n",
              "      <th>209514</th>\n",
              "      <td>PER</td>\n",
              "      <td>South America</td>\n",
              "      <td>Peru</td>\n",
              "      <td>2023-03-29</td>\n",
              "      <td>6453.558</td>\n",
              "    </tr>\n",
              "    <tr>\n",
              "      <th>40216</th>\n",
              "      <td>BGR</td>\n",
              "      <td>Europe</td>\n",
              "      <td>Bulgaria</td>\n",
              "      <td>2023-03-29</td>\n",
              "      <td>5639.967</td>\n",
              "    </tr>\n",
              "    <tr>\n",
              "      <th>34306</th>\n",
              "      <td>BIH</td>\n",
              "      <td>Europe</td>\n",
              "      <td>Bosnia and Herzegovina</td>\n",
              "      <td>2023-03-29</td>\n",
              "      <td>5042.786</td>\n",
              "    </tr>\n",
              "    <tr>\n",
              "      <th>118194</th>\n",
              "      <td>HUN</td>\n",
              "      <td>Europe</td>\n",
              "      <td>Hungary</td>\n",
              "      <td>2023-03-29</td>\n",
              "      <td>4886.677</td>\n",
              "    </tr>\n",
              "    <tr>\n",
              "      <th>194685</th>\n",
              "      <td>MKD</td>\n",
              "      <td>Europe</td>\n",
              "      <td>North Macedonia</td>\n",
              "      <td>2023-03-29</td>\n",
              "      <td>4616.915</td>\n",
              "    </tr>\n",
              "  </tbody>\n",
              "</table>\n",
              "</div>\n",
              "      <button class=\"colab-df-convert\" onclick=\"convertToInteractive('df-4f08f656-e5c2-4d03-8b2c-346320c9a24b')\"\n",
              "              title=\"Convert this dataframe to an interactive table.\"\n",
              "              style=\"display:none;\">\n",
              "        \n",
              "  <svg xmlns=\"http://www.w3.org/2000/svg\" height=\"24px\"viewBox=\"0 0 24 24\"\n",
              "       width=\"24px\">\n",
              "    <path d=\"M0 0h24v24H0V0z\" fill=\"none\"/>\n",
              "    <path d=\"M18.56 5.44l.94 2.06.94-2.06 2.06-.94-2.06-.94-.94-2.06-.94 2.06-2.06.94zm-11 1L8.5 8.5l.94-2.06 2.06-.94-2.06-.94L8.5 2.5l-.94 2.06-2.06.94zm10 10l.94 2.06.94-2.06 2.06-.94-2.06-.94-.94-2.06-.94 2.06-2.06.94z\"/><path d=\"M17.41 7.96l-1.37-1.37c-.4-.4-.92-.59-1.43-.59-.52 0-1.04.2-1.43.59L10.3 9.45l-7.72 7.72c-.78.78-.78 2.05 0 2.83L4 21.41c.39.39.9.59 1.41.59.51 0 1.02-.2 1.41-.59l7.78-7.78 2.81-2.81c.8-.78.8-2.07 0-2.86zM5.41 20L4 18.59l7.72-7.72 1.47 1.35L5.41 20z\"/>\n",
              "  </svg>\n",
              "      </button>\n",
              "      \n",
              "  <style>\n",
              "    .colab-df-container {\n",
              "      display:flex;\n",
              "      flex-wrap:wrap;\n",
              "      gap: 12px;\n",
              "    }\n",
              "\n",
              "    .colab-df-convert {\n",
              "      background-color: #E8F0FE;\n",
              "      border: none;\n",
              "      border-radius: 50%;\n",
              "      cursor: pointer;\n",
              "      display: none;\n",
              "      fill: #1967D2;\n",
              "      height: 32px;\n",
              "      padding: 0 0 0 0;\n",
              "      width: 32px;\n",
              "    }\n",
              "\n",
              "    .colab-df-convert:hover {\n",
              "      background-color: #E2EBFA;\n",
              "      box-shadow: 0px 1px 2px rgba(60, 64, 67, 0.3), 0px 1px 3px 1px rgba(60, 64, 67, 0.15);\n",
              "      fill: #174EA6;\n",
              "    }\n",
              "\n",
              "    [theme=dark] .colab-df-convert {\n",
              "      background-color: #3B4455;\n",
              "      fill: #D2E3FC;\n",
              "    }\n",
              "\n",
              "    [theme=dark] .colab-df-convert:hover {\n",
              "      background-color: #434B5C;\n",
              "      box-shadow: 0px 1px 3px 1px rgba(0, 0, 0, 0.15);\n",
              "      filter: drop-shadow(0px 1px 2px rgba(0, 0, 0, 0.3));\n",
              "      fill: #FFFFFF;\n",
              "    }\n",
              "  </style>\n",
              "\n",
              "      <script>\n",
              "        const buttonEl =\n",
              "          document.querySelector('#df-4f08f656-e5c2-4d03-8b2c-346320c9a24b button.colab-df-convert');\n",
              "        buttonEl.style.display =\n",
              "          google.colab.kernel.accessAllowed ? 'block' : 'none';\n",
              "\n",
              "        async function convertToInteractive(key) {\n",
              "          const element = document.querySelector('#df-4f08f656-e5c2-4d03-8b2c-346320c9a24b');\n",
              "          const dataTable =\n",
              "            await google.colab.kernel.invokeFunction('convertToInteractive',\n",
              "                                                     [key], {});\n",
              "          if (!dataTable) return;\n",
              "\n",
              "          const docLinkHtml = 'Like what you see? Visit the ' +\n",
              "            '<a target=\"_blank\" href=https://colab.research.google.com/notebooks/data_table.ipynb>data table notebook</a>'\n",
              "            + ' to learn more about interactive tables.';\n",
              "          element.innerHTML = '';\n",
              "          dataTable['output_type'] = 'display_data';\n",
              "          await google.colab.output.renderOutput(dataTable, element);\n",
              "          const docLink = document.createElement('div');\n",
              "          docLink.innerHTML = docLinkHtml;\n",
              "          element.appendChild(docLink);\n",
              "        }\n",
              "      </script>\n",
              "    </div>\n",
              "  </div>\n",
              "  "
            ]
          },
          "metadata": {},
          "execution_count": 62
        }
      ]
    },
    {
      "cell_type": "code",
      "source": [
        "top5_total_deaths_per_million = df_paises.loc[(df_paises.date == data_max_consulta), ['location', 'total_deaths_per_million']].sort_values(by=\"total_deaths_per_million\", ascending=False)[0:5]\n",
        "\n",
        "# Plotar um gráfico de barras para os 5 países com mais mortes\n",
        "fig, ax = plt.subplots(figsize=(14,8), dpi=72)\n",
        "cmap = sns.color_palette(\"OrRd\", n_colors=5)\n",
        "cmap.reverse()\n",
        "\n",
        "ax = top5_total_deaths_per_million.plot.bar(x=\"location\", y=\"total_deaths_per_million\", color=cmap, ax=ax, xlabel=\"\" , ylabel=\"\")\n",
        "\n",
        "# title\n",
        "ax.text(-0.5, 7700,'Países com maior número de mortes por Covid por milhão de habitantes', fontsize=20, color=\"#515151\", fontweight='bold')\n",
        "ax.text(-0.5, 7100,'Os 5 países que mais acumulam mortes por COVID-19 no mundo' + ' até ' + data_max_exibicao + ',\\n'\n",
        "          'de acordo com os dados do Our World in Data.', fontsize=12, color=\"#9E9E9E\")\n",
        "\n",
        "# remover spines da direita e superior\n",
        "ax.spines['right'].set_visible(False)\n",
        "ax.spines['top'].set_visible(False)\n",
        "ax.spines['left'].set_visible(False)\n",
        "ax.spines['bottom'].set_visible(False)\n",
        "ax.get_legend().remove()\n",
        "\n",
        "# remover yticks e yticklabels\n",
        "ax.set_yticklabels(labels=[], visible=False)\n",
        "ax.set_yticks(ticks=[])\n",
        "ax.set_xticklabels(ax.get_xticklabels(), rotation = -360, ha=\"center\", va='top', fontsize=12)\n",
        "\n",
        "# anotações nos pontos de scatter\n",
        "for i, j in enumerate(top5_total_deaths_per_million[\"total_deaths_per_million\"]):\n",
        "    ax.annotate(\n",
        "        '{:,.0f}'.format(j).replace(',','.'),\n",
        "        xy=(i, j),\n",
        "        xytext=(-25,5),\n",
        "        textcoords='offset points',\n",
        "        fontsize=12,\n",
        "        fontweight='medium'\n",
        "    )\n",
        "plt.tight_layout()"
      ],
      "metadata": {
        "colab": {
          "base_uri": "https://localhost:8080/",
          "height": 587
        },
        "id": "owIJ65dXKYt4",
        "outputId": "2033c245-f4ed-450e-d9ca-799a1c18b61f"
      },
      "execution_count": null,
      "outputs": [
        {
          "output_type": "display_data",
          "data": {
            "text/plain": [
              "<Figure size 1008x576 with 1 Axes>"
            ],
            "image/png": "[encoded data removed]"
          },
          "metadata": {}
        }
      ]
    },
    {
      "cell_type": "markdown",
      "source": [
        "Como os gráficos acima mostram, utilizando o fator por milhão de habitantes, verificamos que todo o cenário de classificação dos países em relação a casos confirmados e mortes por Covid-19 foi modificado."
      ],
      "metadata": {
        "id": "NltIhxuyTYSP"
      }
    },
    {
      "cell_type": "markdown",
      "metadata": {
        "id": "tUs7zbDpbv3L"
      },
      "source": [
        "**Como a quantidade de casos de morte por Covid-19 evoluiu pelo mundo?**\n",
        "\n",
        "Nesse gráfico abaixo, podemos visualizar e acompanhar o avanço dos casos de morte que ocorreram pelo mundo e também a evolução da vacinação."
      ]
    },
    {
      "cell_type": "code",
      "source": [
        "fig, ax = plt.subplots(1,1,figsize=(15,8), dpi=75)\n",
        "\n",
        "dados_mortes = df_mundo[df_mundo.date <= data_max_consulta].groupby(pd.Grouper(key='date',freq='MS'))['new_deaths'].sum()\n",
        "dados_vacinacao = df_mundo[df_mundo.date <= data_max_consulta].groupby(pd.Grouper(key='date',freq='MS'))['new_vaccinations'].sum()\n",
        "\n",
        "p_mortes, = ax.plot(dados_mortes.index,dados_mortes,'o-r',label='Mortes', linewidth=1)\n",
        "ax2 = ax.twinx()\n",
        "p_vacinacao, = ax2.plot(dados_vacinacao.index,dados_vacinacao,'o-g',label='Vacinação', linewidth=1)\n",
        "\n",
        "\n",
        "# remover spines da direita e superior\n",
        "ax.spines[\"right\"].set_visible(False)\n",
        "ax2.spines[\"right\"].set_visible(False)\n",
        "ax.spines[\"top\"].set_visible(False)\n",
        "ax2.spines[\"top\"].set_visible(False)\n",
        "\n",
        "ax.set_yticklabels(labels=[])\n",
        "ax.set_yticks(ticks=[])\n",
        "ax2.set_yticklabels(labels=[])\n",
        "ax2.set_yticks(ticks=[])\n",
        "ax.set_xlabel(\"\")\n",
        "\n",
        "max_deaths = df_mundo[df_mundo.date <= data_max_consulta].groupby(pd.Grouper(key='date',freq='MS'))['new_deaths'].sum().reset_index().sort_values(by='new_deaths', ascending=False)[:1].values.tolist()\n",
        "inicio_deaths = df_mundo[df_mundo.date <= data_max_consulta].groupby(pd.Grouper(key='date',freq='MS'))['new_deaths'].sum().reset_index().sort_values(by='date', ascending=True)[:1].values.tolist()\n",
        "atual_deaths = df_mundo[df_mundo.date <= data_max_consulta].groupby(pd.Grouper(key='date',freq='MS'))['new_deaths'].sum().reset_index().sort_values(by='date', ascending=False)[:1].values.tolist()\n",
        "media_deaths = df_mundo[df_mundo.date <= data_max_consulta].groupby(pd.Grouper(key='date',freq='MS'))['new_deaths'].sum().mean()\n",
        "\n",
        "\n",
        "# title\n",
        "ax.text(inicio_deaths[0][0], max_deaths[0][1] + 60000,'Evolução do total de mortes por COVID-19 e doses de vacinação no Mundo', fontsize=18, color=\"#515151\", fontweight='bold')\n",
        "ax.text(inicio_deaths[0][0], max_deaths[0][1] + 40000,'Valores acumulados mensalmente até ' + data_max_exibicao + ' de acordo com os dados do Our World in Data.', fontsize=12, color=\"#9E9E9E\", fontweight='bold')\n",
        "\n",
        "ax.text(max_deaths[0][0] , max_deaths[0][1] + 10000, '{:,.0f}'.format(max_deaths[0][1]).replace(',','.') + ' mortes em ' + max_deaths[0][0].strftime('%m/%Y'), color='black', fontweight='light')\n",
        "ax.text(inicio_deaths[0][0] , inicio_deaths[0][1] - 12000, '{:,.0f}'.format(inicio_deaths[0][1]).replace(',','.') + ' mortes em ' + inicio_deaths[0][0].strftime('%m/%Y'), color='black', fontweight='light')\n",
        "ax.text(atual_deaths[0][0] + pd.Timedelta(days=10) , atual_deaths[0][1], '{:,.0f}'.format(atual_deaths[0][1]).replace(',','.') + ' mortes em ' + atual_deaths[0][0].strftime('%m/%Y'), color='black', fontweight='light')\n",
        "\n",
        "ax.text(pd.to_datetime('2022-01-01') + pd.Timedelta(days=150), atual_deaths[0][1] + 300000, '{:,.0f}'.format(media_deaths).replace(',','.') , fontsize=18, color='red', fontweight='normal')\n",
        "ax.text(pd.to_datetime('2022-01-01') + pd.Timedelta(days=110), atual_deaths[0][1] + 265000, 'foi a média de mortes' + '\\n' + 'no período' , fontsize=13, color='black', fontweight='normal')\n",
        "\n",
        "\n",
        "ax.legend(handles=[p_mortes, p_vacinacao])\n",
        "\n",
        "plt.show()"
      ],
      "metadata": {
        "colab": {
          "base_uri": "https://localhost:8080/",
          "height": 563
        },
        "id": "ERZvzKk3TznT",
        "outputId": "659d9bfa-93d9-4226-e9ed-091e44632f65"
      },
      "execution_count": null,
      "outputs": [
        {
          "output_type": "display_data",
          "data": {
            "text/plain": [
              "<Figure size 1125x600 with 2 Axes>"
            ],
            "image/png": "[encoded data removed]"
          },
          "metadata": {}
        }
      ]
    },
    {
      "cell_type": "markdown",
      "source": [
        "Nesse gráfico acima fica explícito que o número de óbitos apresentou uma ascensão até Janeiro de 2021, atingindo quase 430.000 mortes.\n",
        "\n",
        "Com o aumento substancial do número total de novas doses administradas da vacina da COVID-19, existe uma diminuição dos casos de morte.  \n",
        "Em nossa análise, estamos considerando apenas as novas doses mensais das vacinas (`new_vaccinations`)."
      ],
      "metadata": {
        "id": "ZIBMWZxEGnuw"
      }
    },
    {
      "cell_type": "markdown",
      "source": [
        "**Como foi a evolução dos casos de COVID-19 registrados pelo mundo?**"
      ],
      "metadata": {
        "id": "zNhTTBGmNMd6"
      }
    },
    {
      "cell_type": "code",
      "source": [
        "from numpy import DataSource\n",
        "fig, ax = plt.subplots(1,1,figsize=(15,8), dpi=75)\n",
        "\n",
        "dados_casos = df_mundo[df_mundo.date <= data_max_consulta].groupby(pd.Grouper(key='date',freq='MS'))['new_cases'].sum()\n",
        "\n",
        "p_casos, = ax.plot(dados_casos.index,dados_casos,'o-r',label='Casos Registrados', linewidth=1)\n",
        "\n",
        "\n",
        "\n",
        "# remover spines da direita e superior\n",
        "ax.spines[\"right\"].set_visible(False)\n",
        "ax.spines[\"top\"].set_visible(False)\n",
        "\n",
        "ax.set_yticklabels(labels=[])\n",
        "ax.set_yticks(ticks=[])\n",
        "ax.set_xlabel(\"\")\n",
        "\n",
        "max_casos = df_mundo[df_mundo.date <= data_max_consulta].groupby(pd.Grouper(key='date',freq='MS'))['new_cases'].sum().reset_index().sort_values(by='new_cases', ascending=False)[:1].values.tolist()\n",
        "inicio_casos = df_mundo[df_mundo.date <= data_max_consulta].groupby(pd.Grouper(key='date',freq='MS'))['new_cases'].sum().reset_index().sort_values(by='date', ascending=True)[:1].values.tolist()\n",
        "atual_casos = df_mundo[df_mundo.date <= data_max_consulta].groupby(pd.Grouper(key='date',freq='MS'))['new_cases'].sum().reset_index().sort_values(by='date', ascending=False)[:1].values.tolist()\n",
        "media_casos = df_mundo[df_mundo.date <= data_max_consulta].groupby(pd.Grouper(key='date',freq='MS'))['new_cases'].sum().mean()\n",
        "\n",
        "\n",
        "# title\n",
        "ax.text(inicio_casos[0][0] - pd.Timedelta(days=50), max_casos[0][1] + 10000000,'Evolução do total de casos registrados por COVID-19 no Mundo', fontsize=18, color=\"#515151\", fontweight='bold')\n",
        "ax.text(inicio_casos[0][0] - pd.Timedelta(days=50), max_casos[0][1] + 6000000,'Valores acumulados mensalmente até ' + data_max_exibicao + ' de acordo com os dados do Our World in Data.', fontsize=12, color=\"#9E9E9E\", fontweight='bold')\n",
        "\n",
        "ax.text(max_casos[0][0] , max_casos[0][1] + 2000000, '{:,.0f}'.format(max_casos[0][1]).replace(',','.') + ' casos registrados em ' + max_casos[0][0].strftime('%m/%Y'), color='black', fontweight='light')\n",
        "ax.text(inicio_casos[0][0] , inicio_casos[0][1] - 2700000, '{:,.0f}'.format(inicio_casos[0][1]).replace(',','.') + ' casos registrados em ' + inicio_casos[0][0].strftime('%m/%Y'), color='black', fontweight='light')\n",
        "ax.text(atual_casos[0][0] + pd.Timedelta(days=10), atual_casos[0][1], '{:,.0f}'.format(atual_casos[0][1]).replace(',','.') + ' casos registrados em ' + atual_casos[0][0].strftime('%m/%Y'), color='black', fontweight='light')\n",
        "\n",
        "ax.text(pd.to_datetime('2022-05-01') + pd.Timedelta(days=400), atual_casos[0][1] + 60000000, '{:,.0f}'.format(media_casos).replace(',','.') , fontsize=18, color='red', fontweight='normal')\n",
        "ax.text(pd.to_datetime('2022-05-01') + pd.Timedelta(days=310), atual_casos[0][1] + 52000000, 'foi a média de casos registrados' + '\\n' + 'no período' , fontsize=13, color='black', fontweight='normal')\n",
        "\n",
        "\n",
        "ax.legend(handles=[p_casos],loc='best')\n",
        "\n",
        "plt.show()"
      ],
      "metadata": {
        "colab": {
          "base_uri": "https://localhost:8080/",
          "height": 551
        },
        "id": "2Q9in9Q_Imzh",
        "outputId": "f9b1c090-ca4a-47dc-a965-1b38cc3c39d3"
      },
      "execution_count": null,
      "outputs": [
        {
          "output_type": "display_data",
          "data": {
            "text/plain": [
              "<Figure size 1125x600 with 1 Axes>"
            ],
            "image/png": "[encoded data removed]"
          },
          "metadata": {}
        }
      ]
    },
    {
      "cell_type": "markdown",
      "source": [
        "Nesse gráfico, verificamos que após o primeiro pico de novos casos, ocorrido em Jan/2022, houve uma grande queda entre Fev/2022 e Nov/2022, apesar dos números ainda serem altos.\n",
        "Infelizmente em Dez/2022 os registros voltam a subir de uma maneira alarmante, registrando mais de 90 milhões de novos casos.\n",
        "\n",
        "A partir de 01/2023 os valores registrados voltaram a cair.\n",
        "\n",
        "Em nossa análise, estamos considerando apenas os novos registros de casos mensais (`new_cases`)."
      ],
      "metadata": {
        "id": "huMhWrjuOYAB"
      }
    },
    {
      "cell_type": "markdown",
      "source": [
        "### Gráfico de dispersão (Scatter plot)"
      ],
      "metadata": {
        "id": "RgOz6bhzU9AU"
      }
    },
    {
      "cell_type": "markdown",
      "source": [
        "Os gráficos de dispersão ou Scatter plot são representações gráficas do relacionamento entre duas variáveis numéricas. O Scatter plot utiliza pontos para representar essa relação, cada ponto representa o valor de uma variável no eixo horizontal e o valor de outra variável no eixo vertical.\n",
        "\n",
        "Descrito por Francis Galton, o Scatter plot é usado para verificar se existe uma relação entre causa e efeito entre duas variáveis numéricas.\n",
        "\n",
        "Isso não significa que uma variável causa efeito na outra, mas apenas se existe uma relação e qual intensidade entre essa relação. A relação entre duas variáveis pode ser positiva, negativa ou neutra, linear ou não linear.\n",
        "\n",
        "***Fonte: <a href=\"https://www.flai.com.br/juscudilio/scatter-plot-um-guia-completo-para-graficos-de-dispersao/\">Scatter plot: Um Guia Completo para Gráficos de Dispersão</a>, por Juliana Scudilio.***"
      ],
      "metadata": {
        "id": "_F6dmbcx8cmM"
      }
    },
    {
      "cell_type": "markdown",
      "source": [
        "PIB dos países considerando `gdp_per_capita` pelo número total de mortos (`total_deaths`)."
      ],
      "metadata": {
        "id": "cC41PmCm-bE4"
      }
    },
    {
      "cell_type": "code",
      "source": [
        "# Paise com maior PIB per capita e respectivo número total de mortes\n",
        "df_paises.loc[(df_paises['date'] == data_max_consulta) & (~df_paises['gdp_per_capita'].isnull())][['location','total_deaths','gdp_per_capita']].sort_values(by='gdp_per_capita', ascending=False)[:10]"
      ],
      "metadata": {
        "colab": {
          "base_uri": "https://localhost:8080/",
          "height": 363
        },
        "id": "CSMrxd-JbbOS",
        "outputId": "296f4862-54ab-4c89-ec20-caa50f90c6c0"
      },
      "execution_count": null,
      "outputs": [
        {
          "output_type": "execute_result",
          "data": {
            "text/plain": [
              "                    location  total_deaths  gdp_per_capita\n",
              "216617                 Qatar         688.0      116935.600\n",
              "154475                 Macao           NaN      104861.851\n",
              "153695            Luxembourg        1230.0       94277.965\n",
              "241384             Singapore        1722.0       85535.383\n",
              "39035                 Brunei         151.0       71809.251\n",
              "125293               Ireland        8750.0       67335.293\n",
              "280401  United Arab Emirates        2349.0       67293.483\n",
              "139496                Kuwait        2570.0       65530.537\n",
              "198867                Norway        5288.0       64800.057\n",
              "259133           Switzerland       13965.0       57410.166"
            ],
            "text/html": [
              "\n",
              "  <div id=\"df-0235d6f1-bc3f-4dc0-882b-450129e9bdbf\">\n",
              "    <div class=\"colab-df-container\">\n",
              "      <div>\n",
              "<style scoped>\n",
              "    .dataframe tbody tr th:only-of-type {\n",
              "        vertical-align: middle;\n",
              "    }\n",
              "\n",
              "    .dataframe tbody tr th {\n",
              "        vertical-align: top;\n",
              "    }\n",
              "\n",
              "    .dataframe thead th {\n",
              "        text-align: right;\n",
              "    }\n",
              "</style>\n",
              "<table border=\"1\" class=\"dataframe\">\n",
              "  <thead>\n",
              "    <tr style=\"text-align: right;\">\n",
              "      <th></th>\n",
              "      <th>location</th>\n",
              "      <th>total_deaths</th>\n",
              "      <th>gdp_per_capita</th>\n",
              "    </tr>\n",
              "  </thead>\n",
              "  <tbody>\n",
              "    <tr>\n",
              "      <th>216617</th>\n",
              "      <td>Qatar</td>\n",
              "      <td>688.0</td>\n",
              "      <td>116935.600</td>\n",
              "    </tr>\n",
              "    <tr>\n",
              "      <th>154475</th>\n",
              "      <td>Macao</td>\n",
              "      <td>NaN</td>\n",
              "      <td>104861.851</td>\n",
              "    </tr>\n",
              "    <tr>\n",
              "      <th>153695</th>\n",
              "      <td>Luxembourg</td>\n",
              "      <td>1230.0</td>\n",
              "      <td>94277.965</td>\n",
              "    </tr>\n",
              "    <tr>\n",
              "      <th>241384</th>\n",
              "      <td>Singapore</td>\n",
              "      <td>1722.0</td>\n",
              "      <td>85535.383</td>\n",
              "    </tr>\n",
              "    <tr>\n",
              "      <th>39035</th>\n",
              "      <td>Brunei</td>\n",
              "      <td>151.0</td>\n",
              "      <td>71809.251</td>\n",
              "    </tr>\n",
              "    <tr>\n",
              "      <th>125293</th>\n",
              "      <td>Ireland</td>\n",
              "      <td>8750.0</td>\n",
              "      <td>67335.293</td>\n",
              "    </tr>\n",
              "    <tr>\n",
              "      <th>280401</th>\n",
              "      <td>United Arab Emirates</td>\n",
              "      <td>2349.0</td>\n",
              "      <td>67293.483</td>\n",
              "    </tr>\n",
              "    <tr>\n",
              "      <th>139496</th>\n",
              "      <td>Kuwait</td>\n",
              "      <td>2570.0</td>\n",
              "      <td>65530.537</td>\n",
              "    </tr>\n",
              "    <tr>\n",
              "      <th>198867</th>\n",
              "      <td>Norway</td>\n",
              "      <td>5288.0</td>\n",
              "      <td>64800.057</td>\n",
              "    </tr>\n",
              "    <tr>\n",
              "      <th>259133</th>\n",
              "      <td>Switzerland</td>\n",
              "      <td>13965.0</td>\n",
              "      <td>57410.166</td>\n",
              "    </tr>\n",
              "  </tbody>\n",
              "</table>\n",
              "</div>\n",
              "      <button class=\"colab-df-convert\" onclick=\"convertToInteractive('df-0235d6f1-bc3f-4dc0-882b-450129e9bdbf')\"\n",
              "              title=\"Convert this dataframe to an interactive table.\"\n",
              "              style=\"display:none;\">\n",
              "        \n",
              "  <svg xmlns=\"http://www.w3.org/2000/svg\" height=\"24px\"viewBox=\"0 0 24 24\"\n",
              "       width=\"24px\">\n",
              "    <path d=\"M0 0h24v24H0V0z\" fill=\"none\"/>\n",
              "    <path d=\"M18.56 5.44l.94 2.06.94-2.06 2.06-.94-2.06-.94-.94-2.06-.94 2.06-2.06.94zm-11 1L8.5 8.5l.94-2.06 2.06-.94-2.06-.94L8.5 2.5l-.94 2.06-2.06.94zm10 10l.94 2.06.94-2.06 2.06-.94-2.06-.94-.94-2.06-.94 2.06-2.06.94z\"/><path d=\"M17.41 7.96l-1.37-1.37c-.4-.4-.92-.59-1.43-.59-.52 0-1.04.2-1.43.59L10.3 9.45l-7.72 7.72c-.78.78-.78 2.05 0 2.83L4 21.41c.39.39.9.59 1.41.59.51 0 1.02-.2 1.41-.59l7.78-7.78 2.81-2.81c.8-.78.8-2.07 0-2.86zM5.41 20L4 18.59l7.72-7.72 1.47 1.35L5.41 20z\"/>\n",
              "  </svg>\n",
              "      </button>\n",
              "      \n",
              "  <style>\n",
              "    .colab-df-container {\n",
              "      display:flex;\n",
              "      flex-wrap:wrap;\n",
              "      gap: 12px;\n",
              "    }\n",
              "\n",
              "    .colab-df-convert {\n",
              "      background-color: #E8F0FE;\n",
              "      border: none;\n",
              "      border-radius: 50%;\n",
              "      cursor: pointer;\n",
              "      display: none;\n",
              "      fill: #1967D2;\n",
              "      height: 32px;\n",
              "      padding: 0 0 0 0;\n",
              "      width: 32px;\n",
              "    }\n",
              "\n",
              "    .colab-df-convert:hover {\n",
              "      background-color: #E2EBFA;\n",
              "      box-shadow: 0px 1px 2px rgba(60, 64, 67, 0.3), 0px 1px 3px 1px rgba(60, 64, 67, 0.15);\n",
              "      fill: #174EA6;\n",
              "    }\n",
              "\n",
              "    [theme=dark] .colab-df-convert {\n",
              "      background-color: #3B4455;\n",
              "      fill: #D2E3FC;\n",
              "    }\n",
              "\n",
              "    [theme=dark] .colab-df-convert:hover {\n",
              "      background-color: #434B5C;\n",
              "      box-shadow: 0px 1px 3px 1px rgba(0, 0, 0, 0.15);\n",
              "      filter: drop-shadow(0px 1px 2px rgba(0, 0, 0, 0.3));\n",
              "      fill: #FFFFFF;\n",
              "    }\n",
              "  </style>\n",
              "\n",
              "      <script>\n",
              "        const buttonEl =\n",
              "          document.querySelector('#df-0235d6f1-bc3f-4dc0-882b-450129e9bdbf button.colab-df-convert');\n",
              "        buttonEl.style.display =\n",
              "          google.colab.kernel.accessAllowed ? 'block' : 'none';\n",
              "\n",
              "        async function convertToInteractive(key) {\n",
              "          const element = document.querySelector('#df-0235d6f1-bc3f-4dc0-882b-450129e9bdbf');\n",
              "          const dataTable =\n",
              "            await google.colab.kernel.invokeFunction('convertToInteractive',\n",
              "                                                     [key], {});\n",
              "          if (!dataTable) return;\n",
              "\n",
              "          const docLinkHtml = 'Like what you see? Visit the ' +\n",
              "            '<a target=\"_blank\" href=https://colab.research.google.com/notebooks/data_table.ipynb>data table notebook</a>'\n",
              "            + ' to learn more about interactive tables.';\n",
              "          element.innerHTML = '';\n",
              "          dataTable['output_type'] = 'display_data';\n",
              "          await google.colab.output.renderOutput(dataTable, element);\n",
              "          const docLink = document.createElement('div');\n",
              "          docLink.innerHTML = docLinkHtml;\n",
              "          element.appendChild(docLink);\n",
              "        }\n",
              "      </script>\n",
              "    </div>\n",
              "  </div>\n",
              "  "
            ]
          },
          "metadata": {},
          "execution_count": 30
        }
      ]
    },
    {
      "cell_type": "code",
      "source": [
        "# Paise com menor PIB per capita e respectivo número total de mortes\n",
        "df_paises.loc[(df_paises['date'] == data_max_consulta) & (~df_paises['gdp_per_capita'].isnull())][['location','total_deaths','gdp_per_capita']].sort_values(by='gdp_per_capita', ascending=True)[:10]"
      ],
      "metadata": {
        "colab": {
          "base_uri": "https://localhost:8080/",
          "height": 363
        },
        "id": "u0wXSX4ZWMw_",
        "outputId": "23c79678-6575-48be-baf6-d6c4ee57b86d"
      },
      "execution_count": null,
      "outputs": [
        {
          "output_type": "execute_result",
          "data": {
            "text/plain": [
              "                            location  total_deaths  gdp_per_capita\n",
              "49678       Central African Republic         113.0         661.240\n",
              "42586                        Burundi          15.0         702.225\n",
              "146593                       Liberia         294.0         752.788\n",
              "67426   Democratic Republic of Congo        1464.0         808.133\n",
              "188773                         Niger         315.0         926.000\n",
              "156841                        Malawi        2686.0        1095.042\n",
              "178124                    Mozambique        2242.0        1136.103\n",
              "240202                  Sierra Leone         125.0        1390.300\n",
              "55593                        Comoros         160.0        1413.890\n",
              "155659                    Madagascar        1424.0        1416.440"
            ],
            "text/html": [
              "\n",
              "  <div id=\"df-877c65d9-36ba-44d5-9bb2-3c2bdcd2e24a\">\n",
              "    <div class=\"colab-df-container\">\n",
              "      <div>\n",
              "<style scoped>\n",
              "    .dataframe tbody tr th:only-of-type {\n",
              "        vertical-align: middle;\n",
              "    }\n",
              "\n",
              "    .dataframe tbody tr th {\n",
              "        vertical-align: top;\n",
              "    }\n",
              "\n",
              "    .dataframe thead th {\n",
              "        text-align: right;\n",
              "    }\n",
              "</style>\n",
              "<table border=\"1\" class=\"dataframe\">\n",
              "  <thead>\n",
              "    <tr style=\"text-align: right;\">\n",
              "      <th></th>\n",
              "      <th>location</th>\n",
              "      <th>total_deaths</th>\n",
              "      <th>gdp_per_capita</th>\n",
              "    </tr>\n",
              "  </thead>\n",
              "  <tbody>\n",
              "    <tr>\n",
              "      <th>49678</th>\n",
              "      <td>Central African Republic</td>\n",
              "      <td>113.0</td>\n",
              "      <td>661.240</td>\n",
              "    </tr>\n",
              "    <tr>\n",
              "      <th>42586</th>\n",
              "      <td>Burundi</td>\n",
              "      <td>15.0</td>\n",
              "      <td>702.225</td>\n",
              "    </tr>\n",
              "    <tr>\n",
              "      <th>146593</th>\n",
              "      <td>Liberia</td>\n",
              "      <td>294.0</td>\n",
              "      <td>752.788</td>\n",
              "    </tr>\n",
              "    <tr>\n",
              "      <th>67426</th>\n",
              "      <td>Democratic Republic of Congo</td>\n",
              "      <td>1464.0</td>\n",
              "      <td>808.133</td>\n",
              "    </tr>\n",
              "    <tr>\n",
              "      <th>188773</th>\n",
              "      <td>Niger</td>\n",
              "      <td>315.0</td>\n",
              "      <td>926.000</td>\n",
              "    </tr>\n",
              "    <tr>\n",
              "      <th>156841</th>\n",
              "      <td>Malawi</td>\n",
              "      <td>2686.0</td>\n",
              "      <td>1095.042</td>\n",
              "    </tr>\n",
              "    <tr>\n",
              "      <th>178124</th>\n",
              "      <td>Mozambique</td>\n",
              "      <td>2242.0</td>\n",
              "      <td>1136.103</td>\n",
              "    </tr>\n",
              "    <tr>\n",
              "      <th>240202</th>\n",
              "      <td>Sierra Leone</td>\n",
              "      <td>125.0</td>\n",
              "      <td>1390.300</td>\n",
              "    </tr>\n",
              "    <tr>\n",
              "      <th>55593</th>\n",
              "      <td>Comoros</td>\n",
              "      <td>160.0</td>\n",
              "      <td>1413.890</td>\n",
              "    </tr>\n",
              "    <tr>\n",
              "      <th>155659</th>\n",
              "      <td>Madagascar</td>\n",
              "      <td>1424.0</td>\n",
              "      <td>1416.440</td>\n",
              "    </tr>\n",
              "  </tbody>\n",
              "</table>\n",
              "</div>\n",
              "      <button class=\"colab-df-convert\" onclick=\"convertToInteractive('df-877c65d9-36ba-44d5-9bb2-3c2bdcd2e24a')\"\n",
              "              title=\"Convert this dataframe to an interactive table.\"\n",
              "              style=\"display:none;\">\n",
              "        \n",
              "  <svg xmlns=\"http://www.w3.org/2000/svg\" height=\"24px\"viewBox=\"0 0 24 24\"\n",
              "       width=\"24px\">\n",
              "    <path d=\"M0 0h24v24H0V0z\" fill=\"none\"/>\n",
              "    <path d=\"M18.56 5.44l.94 2.06.94-2.06 2.06-.94-2.06-.94-.94-2.06-.94 2.06-2.06.94zm-11 1L8.5 8.5l.94-2.06 2.06-.94-2.06-.94L8.5 2.5l-.94 2.06-2.06.94zm10 10l.94 2.06.94-2.06 2.06-.94-2.06-.94-.94-2.06-.94 2.06-2.06.94z\"/><path d=\"M17.41 7.96l-1.37-1.37c-.4-.4-.92-.59-1.43-.59-.52 0-1.04.2-1.43.59L10.3 9.45l-7.72 7.72c-.78.78-.78 2.05 0 2.83L4 21.41c.39.39.9.59 1.41.59.51 0 1.02-.2 1.41-.59l7.78-7.78 2.81-2.81c.8-.78.8-2.07 0-2.86zM5.41 20L4 18.59l7.72-7.72 1.47 1.35L5.41 20z\"/>\n",
              "  </svg>\n",
              "      </button>\n",
              "      \n",
              "  <style>\n",
              "    .colab-df-container {\n",
              "      display:flex;\n",
              "      flex-wrap:wrap;\n",
              "      gap: 12px;\n",
              "    }\n",
              "\n",
              "    .colab-df-convert {\n",
              "      background-color: #E8F0FE;\n",
              "      border: none;\n",
              "      border-radius: 50%;\n",
              "      cursor: pointer;\n",
              "      display: none;\n",
              "      fill: #1967D2;\n",
              "      height: 32px;\n",
              "      padding: 0 0 0 0;\n",
              "      width: 32px;\n",
              "    }\n",
              "\n",
              "    .colab-df-convert:hover {\n",
              "      background-color: #E2EBFA;\n",
              "      box-shadow: 0px 1px 2px rgba(60, 64, 67, 0.3), 0px 1px 3px 1px rgba(60, 64, 67, 0.15);\n",
              "      fill: #174EA6;\n",
              "    }\n",
              "\n",
              "    [theme=dark] .colab-df-convert {\n",
              "      background-color: #3B4455;\n",
              "      fill: #D2E3FC;\n",
              "    }\n",
              "\n",
              "    [theme=dark] .colab-df-convert:hover {\n",
              "      background-color: #434B5C;\n",
              "      box-shadow: 0px 1px 3px 1px rgba(0, 0, 0, 0.15);\n",
              "      filter: drop-shadow(0px 1px 2px rgba(0, 0, 0, 0.3));\n",
              "      fill: #FFFFFF;\n",
              "    }\n",
              "  </style>\n",
              "\n",
              "      <script>\n",
              "        const buttonEl =\n",
              "          document.querySelector('#df-877c65d9-36ba-44d5-9bb2-3c2bdcd2e24a button.colab-df-convert');\n",
              "        buttonEl.style.display =\n",
              "          google.colab.kernel.accessAllowed ? 'block' : 'none';\n",
              "\n",
              "        async function convertToInteractive(key) {\n",
              "          const element = document.querySelector('#df-877c65d9-36ba-44d5-9bb2-3c2bdcd2e24a');\n",
              "          const dataTable =\n",
              "            await google.colab.kernel.invokeFunction('convertToInteractive',\n",
              "                                                     [key], {});\n",
              "          if (!dataTable) return;\n",
              "\n",
              "          const docLinkHtml = 'Like what you see? Visit the ' +\n",
              "            '<a target=\"_blank\" href=https://colab.research.google.com/notebooks/data_table.ipynb>data table notebook</a>'\n",
              "            + ' to learn more about interactive tables.';\n",
              "          element.innerHTML = '';\n",
              "          dataTable['output_type'] = 'display_data';\n",
              "          await google.colab.output.renderOutput(dataTable, element);\n",
              "          const docLink = document.createElement('div');\n",
              "          docLink.innerHTML = docLinkHtml;\n",
              "          element.appendChild(docLink);\n",
              "        }\n",
              "      </script>\n",
              "    </div>\n",
              "  </div>\n",
              "  "
            ]
          },
          "metadata": {},
          "execution_count": 31
        }
      ]
    },
    {
      "cell_type": "code",
      "source": [
        "dados_pib = df_paises.loc[(df_paises['date'] == data_max_consulta) & (~df_paises['gdp_per_capita'].isnull())][['location','total_deaths','gdp_per_capita']]\n",
        "\n",
        "fig, ax = plt.subplots(1, 1, figsize=(12,8),dpi=75)\n",
        "\n",
        "ax.scatter(x=dados_pib['gdp_per_capita'], y=dados_pib['total_deaths'], s=60, alpha=0.5)\n",
        "\n",
        "# titulos\n",
        "ax.text(-10, df_paises['total_deaths'].max() + 150000,'PIB per capita x Total de mortes Covid-19', fontsize=18, color=\"#515151\", fontweight='bold')\n",
        "ax.text(-10, df_paises['total_deaths'].max() + 100000,'Valores acumulados até ' + data_max_exibicao + ' de acordo com os dados do Our World in Data.', fontsize=12, color=\"#9E9E9E\", fontweight='bold')\n",
        "\n",
        "ax.spines[\"right\"].set_visible(False)\n",
        "ax.spines[\"top\"].set_visible(False)\n",
        "\n",
        "ax.set_xlabel('PIB per capita', fontsize=13, color='black', fontweight='normal')\n",
        "ax.set_ylabel('Total de mortes', fontsize=13, color='black', fontweight='normal')\n",
        "plt.show()\n"
      ],
      "metadata": {
        "colab": {
          "base_uri": "https://localhost:8080/",
          "height": 579
        },
        "id": "PcIAilEzapi-",
        "outputId": "0d052ecc-70b4-4dcb-8a2a-9adf7a875fc8"
      },
      "execution_count": null,
      "outputs": [
        {
          "output_type": "display_data",
          "data": {
            "text/plain": [
              "<Figure size 900x600 with 1 Axes>"
            ],
            "image/png": "[encoded data removed]"
          },
          "metadata": {}
        }
      ]
    },
    {
      "cell_type": "markdown",
      "source": [
        "Esse gráfico no mostra que o PIB per capita não influencia diretamente o número total de mortes.\n",
        "O número total de mortes não evolui devido a diminuição do PIB.\n",
        "Podemos dizer que não existe uma relação entre causa e efeito entre duas variáveis numéricas."
      ],
      "metadata": {
        "id": "d0FdqgDBC3nj"
      }
    },
    {
      "cell_type": "markdown",
      "source": [
        "**Qual a correlação existente entre essas duas variáveis?**"
      ],
      "metadata": {
        "id": "MT0IHo-1XVrm"
      }
    },
    {
      "cell_type": "markdown",
      "source": [
        "Correlação significa que existe uma relação entre duas coisas. No nosso contexto, estamos buscando relação ou semelhança entre duas variáveis.\n",
        "\n",
        "Utilizando o Coeficiente de Correlação de Pearson\n",
        "\n",
        "O valor de r está sempre entre -1 e +1, com r=0 correspondendo à não associação."
      ],
      "metadata": {
        "id": "jbFpcJRCXrCk"
      }
    },
    {
      "cell_type": "code",
      "source": [
        "corr_pib = df_paises.corr()\n",
        "corr_pib[['gdp_per_capita','total_deaths']].sort_values(by='gdp_per_capita',ascending=False)[:1]"
      ],
      "metadata": {
        "colab": {
          "base_uri": "https://localhost:8080/",
          "height": 81
        },
        "id": "x2VXximA2hJV",
        "outputId": "6b7cb8fc-c78d-4667-c9fc-f232bcd2f0ac"
      },
      "execution_count": null,
      "outputs": [
        {
          "output_type": "execute_result",
          "data": {
            "text/plain": [
              "                gdp_per_capita  total_deaths\n",
              "gdp_per_capita             1.0       0.08759"
            ],
            "text/html": [
              "\n",
              "  <div id=\"df-7d2c2aaf-adae-4e2c-a4e8-3e110e5c1a42\">\n",
              "    <div class=\"colab-df-container\">\n",
              "      <div>\n",
              "<style scoped>\n",
              "    .dataframe tbody tr th:only-of-type {\n",
              "        vertical-align: middle;\n",
              "    }\n",
              "\n",
              "    .dataframe tbody tr th {\n",
              "        vertical-align: top;\n",
              "    }\n",
              "\n",
              "    .dataframe thead th {\n",
              "        text-align: right;\n",
              "    }\n",
              "</style>\n",
              "<table border=\"1\" class=\"dataframe\">\n",
              "  <thead>\n",
              "    <tr style=\"text-align: right;\">\n",
              "      <th></th>\n",
              "      <th>gdp_per_capita</th>\n",
              "      <th>total_deaths</th>\n",
              "    </tr>\n",
              "  </thead>\n",
              "  <tbody>\n",
              "    <tr>\n",
              "      <th>gdp_per_capita</th>\n",
              "      <td>1.0</td>\n",
              "      <td>0.08759</td>\n",
              "    </tr>\n",
              "  </tbody>\n",
              "</table>\n",
              "</div>\n",
              "      <button class=\"colab-df-convert\" onclick=\"convertToInteractive('df-7d2c2aaf-adae-4e2c-a4e8-3e110e5c1a42')\"\n",
              "              title=\"Convert this dataframe to an interactive table.\"\n",
              "              style=\"display:none;\">\n",
              "        \n",
              "  <svg xmlns=\"http://www.w3.org/2000/svg\" height=\"24px\"viewBox=\"0 0 24 24\"\n",
              "       width=\"24px\">\n",
              "    <path d=\"M0 0h24v24H0V0z\" fill=\"none\"/>\n",
              "    <path d=\"M18.56 5.44l.94 2.06.94-2.06 2.06-.94-2.06-.94-.94-2.06-.94 2.06-2.06.94zm-11 1L8.5 8.5l.94-2.06 2.06-.94-2.06-.94L8.5 2.5l-.94 2.06-2.06.94zm10 10l.94 2.06.94-2.06 2.06-.94-2.06-.94-.94-2.06-.94 2.06-2.06.94z\"/><path d=\"M17.41 7.96l-1.37-1.37c-.4-.4-.92-.59-1.43-.59-.52 0-1.04.2-1.43.59L10.3 9.45l-7.72 7.72c-.78.78-.78 2.05 0 2.83L4 21.41c.39.39.9.59 1.41.59.51 0 1.02-.2 1.41-.59l7.78-7.78 2.81-2.81c.8-.78.8-2.07 0-2.86zM5.41 20L4 18.59l7.72-7.72 1.47 1.35L5.41 20z\"/>\n",
              "  </svg>\n",
              "      </button>\n",
              "      \n",
              "  <style>\n",
              "    .colab-df-container {\n",
              "      display:flex;\n",
              "      flex-wrap:wrap;\n",
              "      gap: 12px;\n",
              "    }\n",
              "\n",
              "    .colab-df-convert {\n",
              "      background-color: #E8F0FE;\n",
              "      border: none;\n",
              "      border-radius: 50%;\n",
              "      cursor: pointer;\n",
              "      display: none;\n",
              "      fill: #1967D2;\n",
              "      height: 32px;\n",
              "      padding: 0 0 0 0;\n",
              "      width: 32px;\n",
              "    }\n",
              "\n",
              "    .colab-df-convert:hover {\n",
              "      background-color: #E2EBFA;\n",
              "      box-shadow: 0px 1px 2px rgba(60, 64, 67, 0.3), 0px 1px 3px 1px rgba(60, 64, 67, 0.15);\n",
              "      fill: #174EA6;\n",
              "    }\n",
              "\n",
              "    [theme=dark] .colab-df-convert {\n",
              "      background-color: #3B4455;\n",
              "      fill: #D2E3FC;\n",
              "    }\n",
              "\n",
              "    [theme=dark] .colab-df-convert:hover {\n",
              "      background-color: #434B5C;\n",
              "      box-shadow: 0px 1px 3px 1px rgba(0, 0, 0, 0.15);\n",
              "      filter: drop-shadow(0px 1px 2px rgba(0, 0, 0, 0.3));\n",
              "      fill: #FFFFFF;\n",
              "    }\n",
              "  </style>\n",
              "\n",
              "      <script>\n",
              "        const buttonEl =\n",
              "          document.querySelector('#df-7d2c2aaf-adae-4e2c-a4e8-3e110e5c1a42 button.colab-df-convert');\n",
              "        buttonEl.style.display =\n",
              "          google.colab.kernel.accessAllowed ? 'block' : 'none';\n",
              "\n",
              "        async function convertToInteractive(key) {\n",
              "          const element = document.querySelector('#df-7d2c2aaf-adae-4e2c-a4e8-3e110e5c1a42');\n",
              "          const dataTable =\n",
              "            await google.colab.kernel.invokeFunction('convertToInteractive',\n",
              "                                                     [key], {});\n",
              "          if (!dataTable) return;\n",
              "\n",
              "          const docLinkHtml = 'Like what you see? Visit the ' +\n",
              "            '<a target=\"_blank\" href=https://colab.research.google.com/notebooks/data_table.ipynb>data table notebook</a>'\n",
              "            + ' to learn more about interactive tables.';\n",
              "          element.innerHTML = '';\n",
              "          dataTable['output_type'] = 'display_data';\n",
              "          await google.colab.output.renderOutput(dataTable, element);\n",
              "          const docLink = document.createElement('div');\n",
              "          docLink.innerHTML = docLinkHtml;\n",
              "          element.appendChild(docLink);\n",
              "        }\n",
              "      </script>\n",
              "    </div>\n",
              "  </div>\n",
              "  "
            ]
          },
          "metadata": {},
          "execution_count": 33
        }
      ]
    },
    {
      "cell_type": "markdown",
      "source": [
        "Podemos identificar acima que a correlação entre `gdp_per_capita` e `total_deaths` o valor de r corresponde a 0.084031, ou seja, é muito fraca."
      ],
      "metadata": {
        "id": "1BRhmWwIX1fg"
      }
    },
    {
      "cell_type": "markdown",
      "metadata": {
        "id": "SViA5VZ7DYLA"
      },
      "source": [
        "### Análise Exploratória para o Brasil\n",
        "\n",
        "\n",
        "\n",
        "---\n",
        "\n"
      ]
    },
    {
      "cell_type": "markdown",
      "source": [
        "Nesta etapa, realizaremos pesquisas com foco no Brasil.\n",
        "Para isso, faremos uma cópia do nosso `dataset`, filtrando as informações referentes ao nosso país `df_owd.location == \"Brazil\"`."
      ],
      "metadata": {
        "id": "uYWvjspRbN0j"
      }
    },
    {
      "cell_type": "code",
      "metadata": {
        "id": "UDQA502_hAwI"
      },
      "source": [
        "# Vamos criar uma cópia do nosso dataset somente com os registro referentes ao Brasil\n",
        "df_brasil = df_owd.loc[(df_owd.location == \"Brazil\")].copy()"
      ],
      "execution_count": null,
      "outputs": []
    },
    {
      "cell_type": "markdown",
      "source": [
        "Abaixo, listei os primeiros registros do nosso novo dataset."
      ],
      "metadata": {
        "id": "iMHE5DXic33S"
      }
    },
    {
      "cell_type": "code",
      "source": [
        "df_brasil.head()"
      ],
      "metadata": {
        "colab": {
          "base_uri": "https://localhost:8080/",
          "height": 386
        },
        "id": "Ec-fY06zce9j",
        "outputId": "17ad1a65-32d5-41c2-b5f8-90e333941fdc"
      },
      "execution_count": null,
      "outputs": [
        {
          "output_type": "execute_result",
          "data": {
            "text/plain": [
              "      iso_code      continent location       date  total_cases  new_cases  \\\n",
              "35490      BRA  South America   Brazil 2020-01-03          NaN        0.0   \n",
              "35491      BRA  South America   Brazil 2020-01-04          NaN        0.0   \n",
              "35492      BRA  South America   Brazil 2020-01-05          NaN        0.0   \n",
              "35493      BRA  South America   Brazil 2020-01-06          NaN        0.0   \n",
              "35494      BRA  South America   Brazil 2020-01-07          NaN        0.0   \n",
              "\n",
              "       new_cases_smoothed  total_deaths  new_deaths  new_deaths_smoothed  ...  \\\n",
              "35490                 NaN           NaN         0.0                  NaN  ...   \n",
              "35491                 NaN           NaN         0.0                  NaN  ...   \n",
              "35492                 NaN           NaN         0.0                  NaN  ...   \n",
              "35493                 NaN           NaN         0.0                  NaN  ...   \n",
              "35494                 NaN           NaN         0.0                  NaN  ...   \n",
              "\n",
              "       cardiovasc_death_rate  diabetes_prevalence  female_smokers  \\\n",
              "35490                177.961                 8.11            10.1   \n",
              "35491                177.961                 8.11            10.1   \n",
              "35492                177.961                 8.11            10.1   \n",
              "35493                177.961                 8.11            10.1   \n",
              "35494                177.961                 8.11            10.1   \n",
              "\n",
              "       male_smokers  hospital_beds_per_thousand  life_expectancy  \\\n",
              "35490          17.9                         2.2            75.88   \n",
              "35491          17.9                         2.2            75.88   \n",
              "35492          17.9                         2.2            75.88   \n",
              "35493          17.9                         2.2            75.88   \n",
              "35494          17.9                         2.2            75.88   \n",
              "\n",
              "       human_development_index   population  new_vaccinations  \\\n",
              "35490                    0.765  215313504.0               0.0   \n",
              "35491                    0.765  215313504.0               0.0   \n",
              "35492                    0.765  215313504.0               0.0   \n",
              "35493                    0.765  215313504.0               0.0   \n",
              "35494                    0.765  215313504.0               0.0   \n",
              "\n",
              "       total_vaccinations  \n",
              "35490                 NaN  \n",
              "35491                 NaN  \n",
              "35492                 NaN  \n",
              "35493                 NaN  \n",
              "35494                 NaN  \n",
              "\n",
              "[5 rows x 37 columns]"
            ],
            "text/html": [
              "\n",
              "  <div id=\"df-fddb5752-7fd3-4d9c-ae79-ed0b3c72a74f\">\n",
              "    <div class=\"colab-df-container\">\n",
              "      <div>\n",
              "<style scoped>\n",
              "    .dataframe tbody tr th:only-of-type {\n",
              "        vertical-align: middle;\n",
              "    }\n",
              "\n",
              "    .dataframe tbody tr th {\n",
              "        vertical-align: top;\n",
              "    }\n",
              "\n",
              "    .dataframe thead th {\n",
              "        text-align: right;\n",
              "    }\n",
              "</style>\n",
              "<table border=\"1\" class=\"dataframe\">\n",
              "  <thead>\n",
              "    <tr style=\"text-align: right;\">\n",
              "      <th></th>\n",
              "      <th>iso_code</th>\n",
              "      <th>continent</th>\n",
              "      <th>location</th>\n",
              "      <th>date</th>\n",
              "      <th>total_cases</th>\n",
              "      <th>new_cases</th>\n",
              "      <th>new_cases_smoothed</th>\n",
              "      <th>total_deaths</th>\n",
              "      <th>new_deaths</th>\n",
              "      <th>new_deaths_smoothed</th>\n",
              "      <th>...</th>\n",
              "      <th>cardiovasc_death_rate</th>\n",
              "      <th>diabetes_prevalence</th>\n",
              "      <th>female_smokers</th>\n",
              "      <th>male_smokers</th>\n",
              "      <th>hospital_beds_per_thousand</th>\n",
              "      <th>life_expectancy</th>\n",
              "      <th>human_development_index</th>\n",
              "      <th>population</th>\n",
              "      <th>new_vaccinations</th>\n",
              "      <th>total_vaccinations</th>\n",
              "    </tr>\n",
              "  </thead>\n",
              "  <tbody>\n",
              "    <tr>\n",
              "      <th>35490</th>\n",
              "      <td>BRA</td>\n",
              "      <td>South America</td>\n",
              "      <td>Brazil</td>\n",
              "      <td>2020-01-03</td>\n",
              "      <td>NaN</td>\n",
              "      <td>0.0</td>\n",
              "      <td>NaN</td>\n",
              "      <td>NaN</td>\n",
              "      <td>0.0</td>\n",
              "      <td>NaN</td>\n",
              "      <td>...</td>\n",
              "      <td>177.961</td>\n",
              "      <td>8.11</td>\n",
              "      <td>10.1</td>\n",
              "      <td>17.9</td>\n",
              "      <td>2.2</td>\n",
              "      <td>75.88</td>\n",
              "      <td>0.765</td>\n",
              "      <td>215313504.0</td>\n",
              "      <td>0.0</td>\n",
              "      <td>NaN</td>\n",
              "    </tr>\n",
              "    <tr>\n",
              "      <th>35491</th>\n",
              "      <td>BRA</td>\n",
              "      <td>South America</td>\n",
              "      <td>Brazil</td>\n",
              "      <td>2020-01-04</td>\n",
              "      <td>NaN</td>\n",
              "      <td>0.0</td>\n",
              "      <td>NaN</td>\n",
              "      <td>NaN</td>\n",
              "      <td>0.0</td>\n",
              "      <td>NaN</td>\n",
              "      <td>...</td>\n",
              "      <td>177.961</td>\n",
              "      <td>8.11</td>\n",
              "      <td>10.1</td>\n",
              "      <td>17.9</td>\n",
              "      <td>2.2</td>\n",
              "      <td>75.88</td>\n",
              "      <td>0.765</td>\n",
              "      <td>215313504.0</td>\n",
              "      <td>0.0</td>\n",
              "      <td>NaN</td>\n",
              "    </tr>\n",
              "    <tr>\n",
              "      <th>35492</th>\n",
              "      <td>BRA</td>\n",
              "      <td>South America</td>\n",
              "      <td>Brazil</td>\n",
              "      <td>2020-01-05</td>\n",
              "      <td>NaN</td>\n",
              "      <td>0.0</td>\n",
              "      <td>NaN</td>\n",
              "      <td>NaN</td>\n",
              "      <td>0.0</td>\n",
              "      <td>NaN</td>\n",
              "      <td>...</td>\n",
              "      <td>177.961</td>\n",
              "      <td>8.11</td>\n",
              "      <td>10.1</td>\n",
              "      <td>17.9</td>\n",
              "      <td>2.2</td>\n",
              "      <td>75.88</td>\n",
              "      <td>0.765</td>\n",
              "      <td>215313504.0</td>\n",
              "      <td>0.0</td>\n",
              "      <td>NaN</td>\n",
              "    </tr>\n",
              "    <tr>\n",
              "      <th>35493</th>\n",
              "      <td>BRA</td>\n",
              "      <td>South America</td>\n",
              "      <td>Brazil</td>\n",
              "      <td>2020-01-06</td>\n",
              "      <td>NaN</td>\n",
              "      <td>0.0</td>\n",
              "      <td>NaN</td>\n",
              "      <td>NaN</td>\n",
              "      <td>0.0</td>\n",
              "      <td>NaN</td>\n",
              "      <td>...</td>\n",
              "      <td>177.961</td>\n",
              "      <td>8.11</td>\n",
              "      <td>10.1</td>\n",
              "      <td>17.9</td>\n",
              "      <td>2.2</td>\n",
              "      <td>75.88</td>\n",
              "      <td>0.765</td>\n",
              "      <td>215313504.0</td>\n",
              "      <td>0.0</td>\n",
              "      <td>NaN</td>\n",
              "    </tr>\n",
              "    <tr>\n",
              "      <th>35494</th>\n",
              "      <td>BRA</td>\n",
              "      <td>South America</td>\n",
              "      <td>Brazil</td>\n",
              "      <td>2020-01-07</td>\n",
              "      <td>NaN</td>\n",
              "      <td>0.0</td>\n",
              "      <td>NaN</td>\n",
              "      <td>NaN</td>\n",
              "      <td>0.0</td>\n",
              "      <td>NaN</td>\n",
              "      <td>...</td>\n",
              "      <td>177.961</td>\n",
              "      <td>8.11</td>\n",
              "      <td>10.1</td>\n",
              "      <td>17.9</td>\n",
              "      <td>2.2</td>\n",
              "      <td>75.88</td>\n",
              "      <td>0.765</td>\n",
              "      <td>215313504.0</td>\n",
              "      <td>0.0</td>\n",
              "      <td>NaN</td>\n",
              "    </tr>\n",
              "  </tbody>\n",
              "</table>\n",
              "<p>5 rows × 37 columns</p>\n",
              "</div>\n",
              "      <button class=\"colab-df-convert\" onclick=\"convertToInteractive('df-fddb5752-7fd3-4d9c-ae79-ed0b3c72a74f')\"\n",
              "              title=\"Convert this dataframe to an interactive table.\"\n",
              "              style=\"display:none;\">\n",
              "        \n",
              "  <svg xmlns=\"http://www.w3.org/2000/svg\" height=\"24px\"viewBox=\"0 0 24 24\"\n",
              "       width=\"24px\">\n",
              "    <path d=\"M0 0h24v24H0V0z\" fill=\"none\"/>\n",
              "    <path d=\"M18.56 5.44l.94 2.06.94-2.06 2.06-.94-2.06-.94-.94-2.06-.94 2.06-2.06.94zm-11 1L8.5 8.5l.94-2.06 2.06-.94-2.06-.94L8.5 2.5l-.94 2.06-2.06.94zm10 10l.94 2.06.94-2.06 2.06-.94-2.06-.94-.94-2.06-.94 2.06-2.06.94z\"/><path d=\"M17.41 7.96l-1.37-1.37c-.4-.4-.92-.59-1.43-.59-.52 0-1.04.2-1.43.59L10.3 9.45l-7.72 7.72c-.78.78-.78 2.05 0 2.83L4 21.41c.39.39.9.59 1.41.59.51 0 1.02-.2 1.41-.59l7.78-7.78 2.81-2.81c.8-.78.8-2.07 0-2.86zM5.41 20L4 18.59l7.72-7.72 1.47 1.35L5.41 20z\"/>\n",
              "  </svg>\n",
              "      </button>\n",
              "      \n",
              "  <style>\n",
              "    .colab-df-container {\n",
              "      display:flex;\n",
              "      flex-wrap:wrap;\n",
              "      gap: 12px;\n",
              "    }\n",
              "\n",
              "    .colab-df-convert {\n",
              "      background-color: #E8F0FE;\n",
              "      border: none;\n",
              "      border-radius: 50%;\n",
              "      cursor: pointer;\n",
              "      display: none;\n",
              "      fill: #1967D2;\n",
              "      height: 32px;\n",
              "      padding: 0 0 0 0;\n",
              "      width: 32px;\n",
              "    }\n",
              "\n",
              "    .colab-df-convert:hover {\n",
              "      background-color: #E2EBFA;\n",
              "      box-shadow: 0px 1px 2px rgba(60, 64, 67, 0.3), 0px 1px 3px 1px rgba(60, 64, 67, 0.15);\n",
              "      fill: #174EA6;\n",
              "    }\n",
              "\n",
              "    [theme=dark] .colab-df-convert {\n",
              "      background-color: #3B4455;\n",
              "      fill: #D2E3FC;\n",
              "    }\n",
              "\n",
              "    [theme=dark] .colab-df-convert:hover {\n",
              "      background-color: #434B5C;\n",
              "      box-shadow: 0px 1px 3px 1px rgba(0, 0, 0, 0.15);\n",
              "      filter: drop-shadow(0px 1px 2px rgba(0, 0, 0, 0.3));\n",
              "      fill: #FFFFFF;\n",
              "    }\n",
              "  </style>\n",
              "\n",
              "      <script>\n",
              "        const buttonEl =\n",
              "          document.querySelector('#df-fddb5752-7fd3-4d9c-ae79-ed0b3c72a74f button.colab-df-convert');\n",
              "        buttonEl.style.display =\n",
              "          google.colab.kernel.accessAllowed ? 'block' : 'none';\n",
              "\n",
              "        async function convertToInteractive(key) {\n",
              "          const element = document.querySelector('#df-fddb5752-7fd3-4d9c-ae79-ed0b3c72a74f');\n",
              "          const dataTable =\n",
              "            await google.colab.kernel.invokeFunction('convertToInteractive',\n",
              "                                                     [key], {});\n",
              "          if (!dataTable) return;\n",
              "\n",
              "          const docLinkHtml = 'Like what you see? Visit the ' +\n",
              "            '<a target=\"_blank\" href=https://colab.research.google.com/notebooks/data_table.ipynb>data table notebook</a>'\n",
              "            + ' to learn more about interactive tables.';\n",
              "          element.innerHTML = '';\n",
              "          dataTable['output_type'] = 'display_data';\n",
              "          await google.colab.output.renderOutput(dataTable, element);\n",
              "          const docLink = document.createElement('div');\n",
              "          docLink.innerHTML = docLinkHtml;\n",
              "          element.appendChild(docLink);\n",
              "        }\n",
              "      </script>\n",
              "    </div>\n",
              "  </div>\n",
              "  "
            ]
          },
          "metadata": {},
          "execution_count": 35
        }
      ]
    },
    {
      "cell_type": "markdown",
      "source": [
        "**Quando foi registrado o primeiro caso e a primeira morte por Covid no Brasil?**"
      ],
      "metadata": {
        "id": "Hu0xH5xDtoTH"
      }
    },
    {
      "cell_type": "code",
      "source": [
        "# Primeiro caso registrado\n",
        "df_brasil.loc[df_brasil.new_cases != 0.0].sort_values(by=\"date\",ascending=True)[0:1]"
      ],
      "metadata": {
        "colab": {
          "base_uri": "https://localhost:8080/",
          "height": 191
        },
        "id": "YV5qYEKkw89I",
        "outputId": "6de688aa-e37a-4b53-a93f-8832d09fd93a"
      },
      "execution_count": null,
      "outputs": [
        {
          "output_type": "execute_result",
          "data": {
            "text/plain": [
              "      iso_code      continent location       date  total_cases  new_cases  \\\n",
              "35545      BRA  South America   Brazil 2020-02-27          1.0        1.0   \n",
              "\n",
              "       new_cases_smoothed  total_deaths  new_deaths  new_deaths_smoothed  ...  \\\n",
              "35545               0.143           NaN         0.0                  0.0  ...   \n",
              "\n",
              "       cardiovasc_death_rate  diabetes_prevalence  female_smokers  \\\n",
              "35545                177.961                 8.11            10.1   \n",
              "\n",
              "       male_smokers  hospital_beds_per_thousand  life_expectancy  \\\n",
              "35545          17.9                         2.2            75.88   \n",
              "\n",
              "       human_development_index   population  new_vaccinations  \\\n",
              "35545                    0.765  215313504.0               0.0   \n",
              "\n",
              "       total_vaccinations  \n",
              "35545                 NaN  \n",
              "\n",
              "[1 rows x 37 columns]"
            ],
            "text/html": [
              "\n",
              "  <div id=\"df-08e2f74a-6b2f-421d-a10c-b08dd499ce54\">\n",
              "    <div class=\"colab-df-container\">\n",
              "      <div>\n",
              "<style scoped>\n",
              "    .dataframe tbody tr th:only-of-type {\n",
              "        vertical-align: middle;\n",
              "    }\n",
              "\n",
              "    .dataframe tbody tr th {\n",
              "        vertical-align: top;\n",
              "    }\n",
              "\n",
              "    .dataframe thead th {\n",
              "        text-align: right;\n",
              "    }\n",
              "</style>\n",
              "<table border=\"1\" class=\"dataframe\">\n",
              "  <thead>\n",
              "    <tr style=\"text-align: right;\">\n",
              "      <th></th>\n",
              "      <th>iso_code</th>\n",
              "      <th>continent</th>\n",
              "      <th>location</th>\n",
              "      <th>date</th>\n",
              "      <th>total_cases</th>\n",
              "      <th>new_cases</th>\n",
              "      <th>new_cases_smoothed</th>\n",
              "      <th>total_deaths</th>\n",
              "      <th>new_deaths</th>\n",
              "      <th>new_deaths_smoothed</th>\n",
              "      <th>...</th>\n",
              "      <th>cardiovasc_death_rate</th>\n",
              "      <th>diabetes_prevalence</th>\n",
              "      <th>female_smokers</th>\n",
              "      <th>male_smokers</th>\n",
              "      <th>hospital_beds_per_thousand</th>\n",
              "      <th>life_expectancy</th>\n",
              "      <th>human_development_index</th>\n",
              "      <th>population</th>\n",
              "      <th>new_vaccinations</th>\n",
              "      <th>total_vaccinations</th>\n",
              "    </tr>\n",
              "  </thead>\n",
              "  <tbody>\n",
              "    <tr>\n",
              "      <th>35545</th>\n",
              "      <td>BRA</td>\n",
              "      <td>South America</td>\n",
              "      <td>Brazil</td>\n",
              "      <td>2020-02-27</td>\n",
              "      <td>1.0</td>\n",
              "      <td>1.0</td>\n",
              "      <td>0.143</td>\n",
              "      <td>NaN</td>\n",
              "      <td>0.0</td>\n",
              "      <td>0.0</td>\n",
              "      <td>...</td>\n",
              "      <td>177.961</td>\n",
              "      <td>8.11</td>\n",
              "      <td>10.1</td>\n",
              "      <td>17.9</td>\n",
              "      <td>2.2</td>\n",
              "      <td>75.88</td>\n",
              "      <td>0.765</td>\n",
              "      <td>215313504.0</td>\n",
              "      <td>0.0</td>\n",
              "      <td>NaN</td>\n",
              "    </tr>\n",
              "  </tbody>\n",
              "</table>\n",
              "<p>1 rows × 37 columns</p>\n",
              "</div>\n",
              "      <button class=\"colab-df-convert\" onclick=\"convertToInteractive('df-08e2f74a-6b2f-421d-a10c-b08dd499ce54')\"\n",
              "              title=\"Convert this dataframe to an interactive table.\"\n",
              "              style=\"display:none;\">\n",
              "        \n",
              "  <svg xmlns=\"http://www.w3.org/2000/svg\" height=\"24px\"viewBox=\"0 0 24 24\"\n",
              "       width=\"24px\">\n",
              "    <path d=\"M0 0h24v24H0V0z\" fill=\"none\"/>\n",
              "    <path d=\"M18.56 5.44l.94 2.06.94-2.06 2.06-.94-2.06-.94-.94-2.06-.94 2.06-2.06.94zm-11 1L8.5 8.5l.94-2.06 2.06-.94-2.06-.94L8.5 2.5l-.94 2.06-2.06.94zm10 10l.94 2.06.94-2.06 2.06-.94-2.06-.94-.94-2.06-.94 2.06-2.06.94z\"/><path d=\"M17.41 7.96l-1.37-1.37c-.4-.4-.92-.59-1.43-.59-.52 0-1.04.2-1.43.59L10.3 9.45l-7.72 7.72c-.78.78-.78 2.05 0 2.83L4 21.41c.39.39.9.59 1.41.59.51 0 1.02-.2 1.41-.59l7.78-7.78 2.81-2.81c.8-.78.8-2.07 0-2.86zM5.41 20L4 18.59l7.72-7.72 1.47 1.35L5.41 20z\"/>\n",
              "  </svg>\n",
              "      </button>\n",
              "      \n",
              "  <style>\n",
              "    .colab-df-container {\n",
              "      display:flex;\n",
              "      flex-wrap:wrap;\n",
              "      gap: 12px;\n",
              "    }\n",
              "\n",
              "    .colab-df-convert {\n",
              "      background-color: #E8F0FE;\n",
              "      border: none;\n",
              "      border-radius: 50%;\n",
              "      cursor: pointer;\n",
              "      display: none;\n",
              "      fill: #1967D2;\n",
              "      height: 32px;\n",
              "      padding: 0 0 0 0;\n",
              "      width: 32px;\n",
              "    }\n",
              "\n",
              "    .colab-df-convert:hover {\n",
              "      background-color: #E2EBFA;\n",
              "      box-shadow: 0px 1px 2px rgba(60, 64, 67, 0.3), 0px 1px 3px 1px rgba(60, 64, 67, 0.15);\n",
              "      fill: #174EA6;\n",
              "    }\n",
              "\n",
              "    [theme=dark] .colab-df-convert {\n",
              "      background-color: #3B4455;\n",
              "      fill: #D2E3FC;\n",
              "    }\n",
              "\n",
              "    [theme=dark] .colab-df-convert:hover {\n",
              "      background-color: #434B5C;\n",
              "      box-shadow: 0px 1px 3px 1px rgba(0, 0, 0, 0.15);\n",
              "      filter: drop-shadow(0px 1px 2px rgba(0, 0, 0, 0.3));\n",
              "      fill: #FFFFFF;\n",
              "    }\n",
              "  </style>\n",
              "\n",
              "      <script>\n",
              "        const buttonEl =\n",
              "          document.querySelector('#df-08e2f74a-6b2f-421d-a10c-b08dd499ce54 button.colab-df-convert');\n",
              "        buttonEl.style.display =\n",
              "          google.colab.kernel.accessAllowed ? 'block' : 'none';\n",
              "\n",
              "        async function convertToInteractive(key) {\n",
              "          const element = document.querySelector('#df-08e2f74a-6b2f-421d-a10c-b08dd499ce54');\n",
              "          const dataTable =\n",
              "            await google.colab.kernel.invokeFunction('convertToInteractive',\n",
              "                                                     [key], {});\n",
              "          if (!dataTable) return;\n",
              "\n",
              "          const docLinkHtml = 'Like what you see? Visit the ' +\n",
              "            '<a target=\"_blank\" href=https://colab.research.google.com/notebooks/data_table.ipynb>data table notebook</a>'\n",
              "            + ' to learn more about interactive tables.';\n",
              "          element.innerHTML = '';\n",
              "          dataTable['output_type'] = 'display_data';\n",
              "          await google.colab.output.renderOutput(dataTable, element);\n",
              "          const docLink = document.createElement('div');\n",
              "          docLink.innerHTML = docLinkHtml;\n",
              "          element.appendChild(docLink);\n",
              "        }\n",
              "      </script>\n",
              "    </div>\n",
              "  </div>\n",
              "  "
            ]
          },
          "metadata": {},
          "execution_count": 39
        }
      ]
    },
    {
      "cell_type": "code",
      "source": [
        "# Primeira morte registrada\n",
        "df_brasil.loc[df_brasil.new_deaths != 0.0].sort_values(by=\"date\",ascending=True)[0:1]"
      ],
      "metadata": {
        "colab": {
          "base_uri": "https://localhost:8080/",
          "height": 191
        },
        "id": "VzQncLmYhRJA",
        "outputId": "71555dbe-9939-4ba3-8c5c-b2089be55751"
      },
      "execution_count": null,
      "outputs": [
        {
          "output_type": "execute_result",
          "data": {
            "text/plain": [
              "      iso_code      continent location       date  total_cases  new_cases  \\\n",
              "35566      BRA  South America   Brazil 2020-03-19        291.0       57.0   \n",
              "\n",
              "       new_cases_smoothed  total_deaths  new_deaths  new_deaths_smoothed  ...  \\\n",
              "35566              36.714           1.0         1.0                0.143  ...   \n",
              "\n",
              "       cardiovasc_death_rate  diabetes_prevalence  female_smokers  \\\n",
              "35566                177.961                 8.11            10.1   \n",
              "\n",
              "       male_smokers  hospital_beds_per_thousand  life_expectancy  \\\n",
              "35566          17.9                         2.2            75.88   \n",
              "\n",
              "       human_development_index   population  new_vaccinations  \\\n",
              "35566                    0.765  215313504.0               0.0   \n",
              "\n",
              "       total_vaccinations  \n",
              "35566                 NaN  \n",
              "\n",
              "[1 rows x 37 columns]"
            ],
            "text/html": [
              "\n",
              "  <div id=\"df-baa26f66-9ed9-4d04-ac4f-b572bd40d6c9\">\n",
              "    <div class=\"colab-df-container\">\n",
              "      <div>\n",
              "<style scoped>\n",
              "    .dataframe tbody tr th:only-of-type {\n",
              "        vertical-align: middle;\n",
              "    }\n",
              "\n",
              "    .dataframe tbody tr th {\n",
              "        vertical-align: top;\n",
              "    }\n",
              "\n",
              "    .dataframe thead th {\n",
              "        text-align: right;\n",
              "    }\n",
              "</style>\n",
              "<table border=\"1\" class=\"dataframe\">\n",
              "  <thead>\n",
              "    <tr style=\"text-align: right;\">\n",
              "      <th></th>\n",
              "      <th>iso_code</th>\n",
              "      <th>continent</th>\n",
              "      <th>location</th>\n",
              "      <th>date</th>\n",
              "      <th>total_cases</th>\n",
              "      <th>new_cases</th>\n",
              "      <th>new_cases_smoothed</th>\n",
              "      <th>total_deaths</th>\n",
              "      <th>new_deaths</th>\n",
              "      <th>new_deaths_smoothed</th>\n",
              "      <th>...</th>\n",
              "      <th>cardiovasc_death_rate</th>\n",
              "      <th>diabetes_prevalence</th>\n",
              "      <th>female_smokers</th>\n",
              "      <th>male_smokers</th>\n",
              "      <th>hospital_beds_per_thousand</th>\n",
              "      <th>life_expectancy</th>\n",
              "      <th>human_development_index</th>\n",
              "      <th>population</th>\n",
              "      <th>new_vaccinations</th>\n",
              "      <th>total_vaccinations</th>\n",
              "    </tr>\n",
              "  </thead>\n",
              "  <tbody>\n",
              "    <tr>\n",
              "      <th>35566</th>\n",
              "      <td>BRA</td>\n",
              "      <td>South America</td>\n",
              "      <td>Brazil</td>\n",
              "      <td>2020-03-19</td>\n",
              "      <td>291.0</td>\n",
              "      <td>57.0</td>\n",
              "      <td>36.714</td>\n",
              "      <td>1.0</td>\n",
              "      <td>1.0</td>\n",
              "      <td>0.143</td>\n",
              "      <td>...</td>\n",
              "      <td>177.961</td>\n",
              "      <td>8.11</td>\n",
              "      <td>10.1</td>\n",
              "      <td>17.9</td>\n",
              "      <td>2.2</td>\n",
              "      <td>75.88</td>\n",
              "      <td>0.765</td>\n",
              "      <td>215313504.0</td>\n",
              "      <td>0.0</td>\n",
              "      <td>NaN</td>\n",
              "    </tr>\n",
              "  </tbody>\n",
              "</table>\n",
              "<p>1 rows × 37 columns</p>\n",
              "</div>\n",
              "      <button class=\"colab-df-convert\" onclick=\"convertToInteractive('df-baa26f66-9ed9-4d04-ac4f-b572bd40d6c9')\"\n",
              "              title=\"Convert this dataframe to an interactive table.\"\n",
              "              style=\"display:none;\">\n",
              "        \n",
              "  <svg xmlns=\"http://www.w3.org/2000/svg\" height=\"24px\"viewBox=\"0 0 24 24\"\n",
              "       width=\"24px\">\n",
              "    <path d=\"M0 0h24v24H0V0z\" fill=\"none\"/>\n",
              "    <path d=\"M18.56 5.44l.94 2.06.94-2.06 2.06-.94-2.06-.94-.94-2.06-.94 2.06-2.06.94zm-11 1L8.5 8.5l.94-2.06 2.06-.94-2.06-.94L8.5 2.5l-.94 2.06-2.06.94zm10 10l.94 2.06.94-2.06 2.06-.94-2.06-.94-.94-2.06-.94 2.06-2.06.94z\"/><path d=\"M17.41 7.96l-1.37-1.37c-.4-.4-.92-.59-1.43-.59-.52 0-1.04.2-1.43.59L10.3 9.45l-7.72 7.72c-.78.78-.78 2.05 0 2.83L4 21.41c.39.39.9.59 1.41.59.51 0 1.02-.2 1.41-.59l7.78-7.78 2.81-2.81c.8-.78.8-2.07 0-2.86zM5.41 20L4 18.59l7.72-7.72 1.47 1.35L5.41 20z\"/>\n",
              "  </svg>\n",
              "      </button>\n",
              "      \n",
              "  <style>\n",
              "    .colab-df-container {\n",
              "      display:flex;\n",
              "      flex-wrap:wrap;\n",
              "      gap: 12px;\n",
              "    }\n",
              "\n",
              "    .colab-df-convert {\n",
              "      background-color: #E8F0FE;\n",
              "      border: none;\n",
              "      border-radius: 50%;\n",
              "      cursor: pointer;\n",
              "      display: none;\n",
              "      fill: #1967D2;\n",
              "      height: 32px;\n",
              "      padding: 0 0 0 0;\n",
              "      width: 32px;\n",
              "    }\n",
              "\n",
              "    .colab-df-convert:hover {\n",
              "      background-color: #E2EBFA;\n",
              "      box-shadow: 0px 1px 2px rgba(60, 64, 67, 0.3), 0px 1px 3px 1px rgba(60, 64, 67, 0.15);\n",
              "      fill: #174EA6;\n",
              "    }\n",
              "\n",
              "    [theme=dark] .colab-df-convert {\n",
              "      background-color: #3B4455;\n",
              "      fill: #D2E3FC;\n",
              "    }\n",
              "\n",
              "    [theme=dark] .colab-df-convert:hover {\n",
              "      background-color: #434B5C;\n",
              "      box-shadow: 0px 1px 3px 1px rgba(0, 0, 0, 0.15);\n",
              "      filter: drop-shadow(0px 1px 2px rgba(0, 0, 0, 0.3));\n",
              "      fill: #FFFFFF;\n",
              "    }\n",
              "  </style>\n",
              "\n",
              "      <script>\n",
              "        const buttonEl =\n",
              "          document.querySelector('#df-baa26f66-9ed9-4d04-ac4f-b572bd40d6c9 button.colab-df-convert');\n",
              "        buttonEl.style.display =\n",
              "          google.colab.kernel.accessAllowed ? 'block' : 'none';\n",
              "\n",
              "        async function convertToInteractive(key) {\n",
              "          const element = document.querySelector('#df-baa26f66-9ed9-4d04-ac4f-b572bd40d6c9');\n",
              "          const dataTable =\n",
              "            await google.colab.kernel.invokeFunction('convertToInteractive',\n",
              "                                                     [key], {});\n",
              "          if (!dataTable) return;\n",
              "\n",
              "          const docLinkHtml = 'Like what you see? Visit the ' +\n",
              "            '<a target=\"_blank\" href=https://colab.research.google.com/notebooks/data_table.ipynb>data table notebook</a>'\n",
              "            + ' to learn more about interactive tables.';\n",
              "          element.innerHTML = '';\n",
              "          dataTable['output_type'] = 'display_data';\n",
              "          await google.colab.output.renderOutput(dataTable, element);\n",
              "          const docLink = document.createElement('div');\n",
              "          docLink.innerHTML = docLinkHtml;\n",
              "          element.appendChild(docLink);\n",
              "        }\n",
              "      </script>\n",
              "    </div>\n",
              "  </div>\n",
              "  "
            ]
          },
          "metadata": {},
          "execution_count": 40
        }
      ]
    },
    {
      "cell_type": "code",
      "source": [
        "print('A data do primeiro caso registrado no Brasil foi em {}.'.format(df_brasil.date.loc[df_brasil.new_cases != 0.0].iloc[0].strftime('%d-%m-%Y')))\n",
        "print('A data da primeira morte registrada no Brasil foi em {}.'.format(df_brasil.date.loc[df_brasil.new_deaths != 0.0].iloc[0].strftime('%d-%m-%Y')))"
      ],
      "metadata": {
        "colab": {
          "base_uri": "https://localhost:8080/"
        },
        "id": "JHt55J5YtmKV",
        "outputId": "bc5324cc-e372-4cf8-bca5-6b1355d2dbbb"
      },
      "execution_count": null,
      "outputs": [
        {
          "output_type": "stream",
          "name": "stdout",
          "text": [
            "A data do primeiro caso registrado no Brasil foi em 27-02-2020.\n",
            "A data da primeira morte registrada no Brasil foi em 19-03-2020.\n"
          ]
        }
      ]
    },
    {
      "cell_type": "code",
      "source": [],
      "metadata": {
        "id": "JbP6WEu8CEOp"
      },
      "execution_count": null,
      "outputs": []
    },
    {
      "cell_type": "markdown",
      "source": [
        "**Quantos dias demoraram para registrarmos a primeira morte, considerando o primeiro caso de COVID-19 registrado?**"
      ],
      "metadata": {
        "id": "_xzxK03MwvTb"
      }
    },
    {
      "cell_type": "code",
      "source": [
        "data_primeiro_caso = df_brasil.date.loc[df_brasil.new_cases != 0.0].iloc[0]\n",
        "data_primeira_morte = df_brasil.date.loc[df_brasil.new_deaths != 0.0].iloc[0]\n",
        "\n",
        "diferenca = (data_primeira_morte - data_primeiro_caso)\n",
        "print(\"Foram {} dias entre o registro do primeiro caso e a primeira morte por Covid no Brasil.\".format(diferenca.days))"
      ],
      "metadata": {
        "colab": {
          "base_uri": "https://localhost:8080/"
        },
        "id": "W4DObAlaxjb0",
        "outputId": "0277890c-8b5e-4e9a-d866-30e07ebe4071"
      },
      "execution_count": null,
      "outputs": [
        {
          "output_type": "stream",
          "name": "stdout",
          "text": [
            "Foram 21 dias entre o registro do primeiro caso e a primeira morte por Covid no Brasil.\n"
          ]
        }
      ]
    },
    {
      "cell_type": "markdown",
      "source": [
        "Iremos plotar os gráficos de linha em escalas linear e logarítmica para os casos totais e mortes totais, para demonstrar a evolução da epidemia no Brasil."
      ],
      "metadata": {
        "id": "C1ZcADDmkJtz"
      }
    },
    {
      "cell_type": "code",
      "source": [
        "# plotar o número de casos confirmados\n",
        "\n",
        "fig, (ax, ax1) = plt.subplots(nrows=1, ncols=2, figsize=(10,4))\n",
        "\n",
        "df_brasil[\"total_cases\"].plot(kind=\"line\", ax=ax)\n",
        "ax.set_title(\"Casos Covid registrados no Brasil\")\n",
        "ax.set_ylabel(\"Casos\")\n",
        "ax.set_xlabel(\"Dias\")\n",
        "\n",
        "df_brasil[\"total_cases\"].plot(kind=\"line\", ax=ax1)\n",
        "ax1.set_title(\"Casos Covid registrados no Brasil (escala logarítimica)\")\n",
        "ax1.set_ylabel(\"Casos\")\n",
        "ax1.set_xlabel(\"Dias\")\n",
        "ax1.set_yscale('log')\n",
        "\n",
        "plt.tight_layout()"
      ],
      "metadata": {
        "colab": {
          "base_uri": "https://localhost:8080/",
          "height": 297
        },
        "id": "KF9WqnNMZJM4",
        "outputId": "cd5cc396-ec3c-4242-fbe7-672554e9293c"
      },
      "execution_count": null,
      "outputs": [
        {
          "output_type": "display_data",
          "data": {
            "text/plain": [
              "<Figure size 720x288 with 2 Axes>"
            ],
            "image/png": "[encoded data removed]"
          },
          "metadata": {
            "needs_background": "light"
          }
        }
      ]
    },
    {
      "cell_type": "markdown",
      "source": [
        "Nesse gráfico mostra que o número de casos infelizmente continua aumentando."
      ],
      "metadata": {
        "id": "YLN8ntgdLW6l"
      }
    },
    {
      "cell_type": "code",
      "source": [
        "# plotar o número de mortes confirmadas\n",
        "fig, (ax, ax1) = plt.subplots(nrows=1, ncols=2, figsize=(10,4))\n",
        "\n",
        "df_brasil[\"total_deaths\"].plot(kind=\"line\", ax=ax)\n",
        "ax.set_title(\"Mortes por Covid registrados no Brasil\")\n",
        "ax.set_ylabel(\"Mortes\")\n",
        "ax.set_xlabel(\"Dias\")\n",
        "\n",
        "df_brasil[\"total_deaths\"].plot(kind=\"line\", ax=ax1)\n",
        "ax1.set_title(\"Mortes por Covid registrados no Brasil (escala logarítimica)\")\n",
        "ax1.set_ylabel(\"Mortes\")\n",
        "ax1.set_xlabel(\"Dias\")\n",
        "ax1.set_yscale('log')\n",
        "\n",
        "plt.tight_layout()"
      ],
      "metadata": {
        "colab": {
          "base_uri": "https://localhost:8080/",
          "height": 297
        },
        "id": "XvnR7xisYNuC",
        "outputId": "e8690d05-c76c-433f-abf6-d54dc246a392"
      },
      "execution_count": null,
      "outputs": [
        {
          "output_type": "display_data",
          "data": {
            "text/plain": [
              "<Figure size 720x288 with 2 Axes>"
            ],
            "image/png": "[encoded data removed]"
          },
          "metadata": {
            "needs_background": "light"
          }
        }
      ]
    },
    {
      "cell_type": "markdown",
      "source": [
        "Após a ascensão do número de mortes ocorrido durante 2021, vemos que atualmente, os números se encontram mais estáveis."
      ],
      "metadata": {
        "id": "e9zri1_eLj3R"
      }
    },
    {
      "cell_type": "markdown",
      "source": [
        "**Como a quantidade de casos de morte por Covid-19 evoluiu no Brasil?**"
      ],
      "metadata": {
        "id": "BIL0z67LmA6X"
      }
    },
    {
      "cell_type": "code",
      "source": [
        "from numpy import DataSource\n",
        "fig, ax = plt.subplots(1,1,figsize=(15,8), dpi=75)\n",
        "\n",
        "dados_mortes_br = df_brasil.groupby(pd.Grouper(key='date',freq='MS'))['new_deaths'].sum()\n",
        "dados_vacinacao_br = df_brasil.groupby(pd.Grouper(key='date',freq='MS'))['new_vaccinations'].sum()\n",
        "\n",
        "p_mortes, = ax.plot(dados_mortes_br.index,dados_mortes_br,'o-r',label='Mortes', linewidth=1)\n",
        "ax2 = ax.twinx()\n",
        "p_vacinacao, = ax2.plot(dados_vacinacao_br.index,dados_vacinacao_br,'o-g',label='Vacinação', linewidth=1)\n",
        "\n",
        "\n",
        "# remover spines da direita e superior\n",
        "ax.spines[\"right\"].set_visible(False)\n",
        "ax2.spines[\"right\"].set_visible(False)\n",
        "ax.spines[\"top\"].set_visible(False)\n",
        "ax2.spines[\"top\"].set_visible(False)\n",
        "\n",
        "ax.set_yticklabels(labels=[])\n",
        "ax.set_yticks(ticks=[])\n",
        "ax2.set_yticklabels(labels=[])\n",
        "ax2.set_yticks(ticks=[])\n",
        "ax.set_xlabel(\"\")\n",
        "\n",
        "max_deaths_br = df_brasil.groupby(pd.Grouper(key='date',freq='MS'))['new_deaths'].sum().reset_index().sort_values(by='new_deaths', ascending=False)[:1].values.tolist()\n",
        "inicio_deaths_br = df_brasil.loc[df_brasil['new_deaths'] > 0].groupby(pd.Grouper(key='date',freq='MS'))['new_deaths'].sum().reset_index().sort_values(by='date', ascending=True)[:1].values.tolist()\n",
        "atual_deaths_br = df_brasil.groupby(pd.Grouper(key='date',freq='MS'))['new_deaths'].sum().reset_index().sort_values(by='date', ascending=False)[:1].values.tolist()\n",
        "media_deaths_br = df_brasil.groupby(pd.Grouper(key='date',freq='MS'))['new_deaths'].sum().mean()\n",
        "\n",
        "max_vacina_br = df_brasil.groupby(pd.Grouper(key='date',freq='MS'))['new_vaccinations'].sum().reset_index().sort_values(by='new_vaccinations', ascending=False)[:1].values.tolist()\n",
        "primeira_vacina_br = df_brasil.loc[df_brasil['new_vaccinations'] > 0.0][['date','new_vaccinations']][:1]['date']\n",
        "\n",
        "\n",
        "# title\n",
        "ax.text(inicio_deaths_br[0][0] - pd.Timedelta(days=75), max_deaths_br[0][1] + 11000,'Evolução do total de mortes por COVID-19 e doses de vacinação no Brasil', fontsize=18, color=\"#515151\", fontweight='bold')\n",
        "ax.text(inicio_deaths_br[0][0] - pd.Timedelta(days=75), max_deaths_br[0][1] + 7000,'Valores acumulados mensalmente até ' + data_max_exibicao + ' de acordo com os dados do Our World in Data.', fontsize=12, color=\"#9E9E9E\", fontweight='bold')\n",
        "\n",
        "ax.text(max_deaths_br[0][0] , max_deaths_br[0][1] + 1500, '{:,.0f}'.format(max_deaths_br[0][1]).replace(',','.') + ' mortes em ' + max_deaths_br[0][0].strftime('%m/%Y'), color='black', fontweight='light')\n",
        "ax.text(inicio_deaths_br[0][0] , inicio_deaths_br[0][1] - 3000, '{:,.0f}'.format(inicio_deaths_br[0][1]).replace(',','.') + ' mortes em ' + inicio_deaths_br[0][0].strftime('%m/%Y'), color='black', fontweight='light')\n",
        "ax.text(atual_deaths_br[0][0] + pd.Timedelta(days=10), atual_deaths_br[0][1], '{:,.0f}'.format(atual_deaths_br[0][1]).replace(',','.') + ' mortes em ' + atual_deaths_br[0][0].strftime('%m/%Y'), color='black', fontweight='light')\n",
        "\n",
        "ax.text(max_vacina_br[0][0] + pd.Timedelta(days=10), max_deaths_br[0][1] - 1500, '{:,.0f}'.format(max_vacina_br[0][1]).replace(',','.') + ' doses aplicadas em ' + max_vacina_br[0][0].strftime('%m/%Y'), color='black', fontweight='light' )\n",
        "ax.vlines(primeira_vacina_br, ymin=inicio_deaths_br[0][1], ymax=media_deaths_br, color='green')\n",
        "ax.plot(primeira_vacina_br,0, 'go')\n",
        "ax.annotate('Primeira dose aplicada' + '\\n       ' + primeira_vacina_br.dt.strftime('%d/%m/%Y').values[0], xy=(primeira_vacina_br, 0), xytext=(primeira_vacina_br + pd.Timedelta(days=50), 3000), arrowprops=dict(facecolor='black', shrink=0.05))\n",
        "\n",
        "ax.text(pd.to_datetime('2022-01-01') + pd.Timedelta(days=350), atual_deaths_br[0][1] + 50000, '{:,.0f}'.format(media_deaths_br).replace(',','.') , fontsize=18, color='red', fontweight='normal')\n",
        "ax.text(pd.to_datetime('2022-01-01') + pd.Timedelta(days=300), atual_deaths_br[0][1] + 42000, 'foi a média de mortes' + '\\n' + 'no período' , fontsize=13, color='black', fontweight='normal')\n",
        "\n",
        "\n",
        "ax.legend(handles=[p_mortes, p_vacinacao])\n",
        "\n",
        "plt.show()"
      ],
      "metadata": {
        "colab": {
          "base_uri": "https://localhost:8080/",
          "height": 560
        },
        "id": "n7ZMK3RON-iX",
        "outputId": "bfe7a6e7-36d1-4047-eb0d-2eb8c2170834"
      },
      "execution_count": null,
      "outputs": [
        {
          "output_type": "display_data",
          "data": {
            "text/plain": [
              "<Figure size 1125x600 with 2 Axes>"
            ],
            "image/png": "[encoded data removed]"
          },
          "metadata": {}
        }
      ]
    },
    {
      "cell_type": "markdown",
      "source": [
        "No caso do Brasil, analisando o gráfico acima, podemos verificar que em Abril\n",
        "de 2021, o número de mortes atingiu seu maior valor registrado, superando 84.000 mortes nesse período.\n",
        "\n",
        "Com o início da campanha de vacinação em massa, e com o avanço do número total de novas doses administradas da vacina da COVID-19, no mês de Agosto de 2021 foram aplicadas quase 52.000.000 de doses, houve uma diminuição gradativa dos casos de morte.\n",
        "\n",
        "Em nossa análise, estamos considerando apenas as novas doses mensais das vacinas (`new_vaccinations`)."
      ],
      "metadata": {
        "id": "3WuJo5JPd1nU"
      }
    },
    {
      "cell_type": "markdown",
      "source": [
        "**Como foi a evolução dos casos de COVID-19 registrados no Brasil?**"
      ],
      "metadata": {
        "id": "Ot5u396Rly6j"
      }
    },
    {
      "cell_type": "code",
      "source": [
        "from numpy import DataSource\n",
        "fig, ax = plt.subplots(1,1,figsize=(15,8), dpi=75)\n",
        "\n",
        "dados_casos_br = df_brasil.groupby(pd.Grouper(key='date',freq='MS'))['new_cases'].sum()\n",
        "\n",
        "p_casos, = ax.plot(dados_casos_br.index,dados_casos_br,'o-r',label='Casos Registrados', linewidth=1)\n",
        "\n",
        "# remover spines da direita e superior\n",
        "ax.spines[\"right\"].set_visible(False)\n",
        "ax.spines[\"top\"].set_visible(False)\n",
        "\n",
        "\n",
        "ax.set_yticklabels(labels=[])\n",
        "ax.set_yticks(ticks=[])\n",
        "ax.set_xlabel(\"\")\n",
        "\n",
        "max_casos_br = df_brasil.groupby(pd.Grouper(key='date',freq='MS'))['new_cases'].sum().reset_index().sort_values(by='new_cases', ascending=False)[:1].values.tolist()\n",
        "inicio_casos_br = df_brasil.groupby(pd.Grouper(key='date',freq='MS'))['new_cases'].sum().reset_index().sort_values(by='date', ascending=True)[:1].values.tolist()\n",
        "atual_casos_br = df_brasil.groupby(pd.Grouper(key='date',freq='MS'))['new_cases'].sum().reset_index().sort_values(by='date', ascending=False)[:1].values.tolist()\n",
        "media_casos_br = df_brasil.groupby(pd.Grouper(key='date',freq='MS'))['new_cases'].sum().mean()\n",
        "\n",
        "\n",
        "# title\n",
        "ax.text(inicio_casos_br[0][0] - pd.Timedelta(days=50), max_casos_br[0][1] + 400000,'Evolução do total de casos registrados por COVID-19 no Brasil', fontsize=18, color=\"#515151\", fontweight='bold')\n",
        "ax.text(inicio_casos_br[0][0] - pd.Timedelta(days=50), max_casos_br[0][1] + 250000,'Valores acumulados mensalmente até ' + data_max_exibicao + ' de acordo com os dados do Our World in Data.', fontsize=12, color=\"#9E9E9E\", fontweight='bold')\n",
        "\n",
        "ax.text(max_casos_br[0][0] + pd.Timedelta(days=10), max_casos_br[0][1], '{:,.0f}'.format(max_casos_br[0][1]).replace(',','.') + ' casos registrados em ' + max_casos_br[0][0].strftime('%m/%Y'), color='black', fontweight='light')\n",
        "ax.text(inicio_casos_br[0][0] , inicio_casos_br[0][1] - 120000, '{:,.0f}'.format(inicio_casos_br[0][1]).replace(',','.') + ' casos registrados em ' + inicio_casos_br[0][0].strftime('%m/%Y'), color='black', fontweight='light')\n",
        "ax.text(atual_casos_br[0][0] + pd.Timedelta(days=10), atual_casos_br[0][1], '{:,.0f}'.format(atual_casos_br[0][1]).replace(',','.') + ' casos registrados em ' + atual_casos_br[0][0].strftime('%m/%Y'), color='black', fontweight='light')\n",
        "\n",
        "ax.text(pd.to_datetime('2022-05-01') + pd.Timedelta(days=150), atual_casos_br[0][1] + 2000000, '{:,.0f}'.format(media_casos_br).replace(',','.') , fontsize=18, color='red', fontweight='normal')\n",
        "ax.text(pd.to_datetime('2022-05-01') + pd.Timedelta(days=110), atual_casos_br[0][1] + 1700000, 'foi a média de casos registrados' + '\\n' + 'no período' , fontsize=13, color='black', fontweight='normal')\n",
        "\n",
        "ax.legend(handles=[p_casos],loc='center right')\n",
        "\n",
        "plt.show()"
      ],
      "metadata": {
        "colab": {
          "base_uri": "https://localhost:8080/",
          "height": 552
        },
        "id": "F5Ytf1vodbQd",
        "outputId": "9f67f947-1048-441e-cd5c-b9190fe4e497"
      },
      "execution_count": null,
      "outputs": [
        {
          "output_type": "display_data",
          "data": {
            "text/plain": [
              "<Figure size 1125x600 with 1 Axes>"
            ],
            "image/png": "[encoded data removed]"
          },
          "metadata": {}
        }
      ]
    },
    {
      "cell_type": "markdown",
      "source": [
        "No Brasil, o maior registro de novos casos, aconteceu no período de 02/2022, atingindo mais de 3.500.000 de infectados.\n",
        "\n",
        "Nos periodos subsequentes, houve uma queda bem significativa, porem atualmente observa-se um aumento nos novos casos, devido as novas variantes encontradas.\n",
        "\n",
        "Originadas da variante BA.5, a BQ.1 e BQ.1.1 são as variantes mais recentes do SARS-CoV-2 que estão em circulação no estado de São Paulo. A BA.5 é uma subvariante da Ômicron, responsável por aumentar de forma expressiva o número de casos de covid-19 entre o final de 2021 e o começo de 2022. Nesse contexto, um ano depois, surge um novo sinal de alerta para outra onda da pandemia, com possível predominância da BQ.1 no país.\n",
        "\n",
        "Em nossa análise, estamos considerando apenas os novos registros de casos mensais (`new_cases`)."
      ],
      "metadata": {
        "id": "EG3l4vqJi9LW"
      }
    },
    {
      "cell_type": "markdown",
      "metadata": {
        "id": "LCsiXvM3BcsO"
      },
      "source": [
        "## Conclusão\n",
        "* O monitoramento da evolução do novo coronavírus representa um grande desafio. Embora os números oficiais informem sobre a dinâmica de notificação, eles não refletem necessariamente a extensão da pandemia.\n",
        "\n",
        "* A evolução devastadora dos casos de Covid-19, trazendo uma quantidade expressiva de mortes, teve seu ápice entre o final de 2020 e inicio de 2021, com quase 430.000 mortes registradas.\n",
        "No Brasil, o cenário foi semelhante, porem o periodo mais intenso ocorreu um pouco depois, em Abril/2021, registrando aproximadamente 84.0000 mortes.\n",
        "\n",
        "* Com o avanço geral da vacinação em massa, fica evidente a queda gradativa do número de casos de morte.\n",
        "\n",
        "* A analise dos dados, utilizando a relação com a quantidade por milhão de habitantes, se mostrou importante, devido ao fato desse atributo possuir correlações que se destacam sobre os dados populacionais.\n",
        "\n",
        "* Países com baixo PIB per capita, não mostraram um quadro maior referente ao número de mortes.\n",
        "\n",
        "* Desde que o primeiro caso de Covid-19 foi confirmado no Brasil, no dia 27 de fevereiro de 2020, a doença causada pelo novo coronavírus já infectou milhões de pessoas e causou a morte de mais de 700 mil brasileiros.\n",
        "\n",
        "* Em 19 de março, o Brasil registrou a primeira morte pela doença. No entanto, no final de junho, o Ministério da Saúde revisou os dados epidemiológicos e informou que a primeira morte ocorreu no dia 12 de março, e que o óbito registrado cinco dias depois era, na verdade, o terceiro no país.\n",
        "\n",
        "* De acordo com a OMS, apesar da estabilização do número de casos novos em alguns lugares, infelizmente o Brasil voltou a aparecer entre os países com maior número de novos casos. A liderança continua sendo dos EUA.\n",
        "\n",
        "* No Brasil, apesar da evolução de casos confirmados, dados referentes ao número de mortes, não mostram tanta evolução. Isso pode ter relação com a taxa de vacinação da população.\n",
        "\n",
        "* No total, desde o início da pandemia, o Brasil se colocou entre os primeiros em número de casos e de óbitos.\n",
        "\n",
        "\n"
      ]
    }
  ]
}